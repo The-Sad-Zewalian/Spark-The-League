{
  "nbformat": 4,
  "nbformat_minor": 0,
  "metadata": {
    "colab": {
      "provenance": []
    },
    "kernelspec": {
      "name": "python3",
      "display_name": "Python 3"
    },
    "language_info": {
      "name": "python"
    }
  },
  "cells": [
    {
      "cell_type": "code",
      "execution_count": null,
      "metadata": {
        "colab": {
          "base_uri": "https://localhost:8080/"
        },
        "id": "AWVvFfnrFEQv",
        "outputId": "8362114b-67ef-4166-8f31-98e24c8b205f",
        "cellView": "form"
      },
      "outputs": [
        {
          "output_type": "stream",
          "name": "stdout",
          "text": [
            "Berserker's Greaves\n",
            "Ionian Boots of Lucidity\n",
            "Black Mist Scythe\n",
            "Kraken Slayer\n",
            "Imperial Mandate\n",
            "Doran's Blade\n",
            "Immortal Shieldbow\n",
            "Blade of The Ruined King\n",
            "Phantom Dancer\n",
            "Muramana\n"
          ]
        }
      ],
      "source": [
        "#@title Recommended Items To Build\n",
        "import gdown\n",
        "gdown.download(\"https://drive.google.com/file/d/1u5KADDrPp136wJZPCt0VgGm1gBE3SfBg/view?usp=share_link\", quiet=True,fuzzy=True)\n",
        "Builds = open(\"ChampBuilds.txt\", \"r\")\n",
        "\n",
        "#Create Dicts\n",
        "ChampBuilds={}\n",
        "#loop over lines\n",
        "for line in Builds:\n",
        "  data=line.strip().split('\\t')\n",
        "  ChampBuilds[data[0]]=data[1].split(\",\")\n",
        "\n",
        "Champion_Name = \"Ashe\" #@param [\"Aatrox\", \"Ahri\", \"Akali\", \"Akshan\", \"Alistar\", \"Amumu\", \"Anivia\", \"Annie\", \"Aphelios\", \"Ashe\", \"AurelionSol\", \"Azir\", \"Bard\", \"Belveth\", \"Blitzcrank\", \"Brand\", \"Braum\", \"Caitlyn\", \"Camille\", \"Cassiopeia\", \"Chogath\", \"Corki\", \"Darius\", \"Diana\", \"Draven\", \"DrMundo\", \"Ekko\", \"Elise\", \"Evelynn\", \"Ezreal\", \"Fiddlesticks\", \"Fiora\", \"Fizz\", \"Galio\", \"Gangplank\", \"Garen\", \"Gnar\", \"Gragas\", \"Graves\", \"Gwen\", \"Hecarim\", \"Heimerdinger\", \"Illaoi\", \"Irelia\", \"Ivern\", \"Janna\", \"JarvanIV\", \"Jax\", \"Jayce\", \"Jhin\", \"Jinx\", \"Kaisa\", \"Kalista\", \"Karma\", \"Karthus\", \"Kassadin\", \"Katarina\", \"Kayle\", \"Kayn\", \"Kennen\", \"Khazix\", \"Kindred\", \"Kled\", \"KogMaw\", \"KSante\", \"Leblanc\", \"LeeSin\", \"Leona\", \"Lillia\", \"Lissandra\", \"Lucian\", \"Lulu\", \"Lux\", \"Malphite\", \"Malzahar\", \"Maokai\", \"MasterYi\", \"MissFortune\", \"MonkeyKing\", \"Mordekaiser\", \"Morgana\", \"Nami\", \"Nasus\", \"Nautilus\", \"Neeko\", \"Nidalee\", \"Nilah\", \"Nocturne\", \"Nunu\", \"Olaf\", \"Orianna\", \"Ornn\", \"Pantheon\", \"Poppy\", \"Pyke\", \"Qiyana\", \"Quinn\", \"Rakan\", \"Rammus\", \"RekSai\", \"Rell\", \"Renata\", \"Renekton\", \"Rengar\", \"Riven\", \"Rumble\", \"Ryze\", \"Samira\", \"Sejuani\", \"Senna\", \"Seraphine\", \"Sett\", \"Shaco\", \"Shen\", \"Shyvana\", \"Singed\", \"Sion\", \"Sivir\", \"Skarner\", \"Sona\", \"Soraka\", \"Swain\", \"Sylas\", \"Syndra\", \"TahmKench\", \"Taliyah\", \"Talon\", \"Taric\", \"Teemo\", \"Thresh\", \"Tristana\", \"Trundle\", \"Tryndamere\", \"TwistedFate\", \"Twitch\", \"Udyr\", \"Urgot\", \"Varus\", \"Vayne\", \"Veigar\", \"Velkoz\", \"Vex\", \"Vi\", \"Viego\", \"Viktor\", \"Vladimir\", \"Volibear\", \"Warwick\", \"Xayah\", \"Xerath\", \"XinZhao\", \"Yasuo\", \"Yone\", \"Yorick\", \"Yuumi\", \"Zac\", \"Zed\", \"Zeri\", \"Ziggs\", \"Zilean\", \"Zoe\", \"Zyra\"]\n",
        "Number_Of_Items_To_Recommend = 10 #@param {type:\"integer\"}\n",
        "if Number_Of_Items_To_Recommend > 0:\n",
        "  if Number_Of_Items_To_Recommend > len(ChampBuilds[Champion_Name]):\n",
        "    print(\"Even tho that number is far more than what we have, sure why not take all the items.\")\n",
        "  for item in ChampBuilds[Champion_Name][:Number_Of_Items_To_Recommend]:\n",
        "    print(item)\n",
        "else:\n",
        "  print('Please Enter A Positive Integer')"
      ]
    }
  ]
}