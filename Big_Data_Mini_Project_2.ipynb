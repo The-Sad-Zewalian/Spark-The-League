{
  "nbformat": 4,
  "nbformat_minor": 0,
  "metadata": {
    "colab": {
      "provenance": [],
      "collapsed_sections": [
        "tpIYCMN-8QE5",
        "IVLY35miBqxk",
        "Et-M5UfrsERd",
        "uaMaypCD6g5q",
        "ZxTBeq7EsG9c",
        "7L8OrPiCJ4jn",
        "Y2I7Ct1ZKd9W",
        "Yk2hwGpvKlnC",
        "jvRN8VDR7BVw",
        "9r226KiiS9qs",
        "18i3P5ndTfFE",
        "Pv12pMRVemoT",
        "kc6nrjHWWhEb",
        "sS28kPSfWr0b",
        "Os8nTP56WvRp",
        "pv8zYNJWxWCM",
        "fqRWGuKFQOeO",
        "d3RuhTuvQTBB",
        "tdPdL2_3QSki",
        "jE2fAuZLfZTn",
        "UqomqAeRY-ih",
        "Oky2tTYTZLxN",
        "BfrEq_KHrgaj",
        "fqVL9o83ZOfC",
        "y0hqi0YrZXiq",
        "EJsILXtwoGos",
        "vLciTb_yZlh8",
        "7mYYvZ13a35D",
        "zpa_uYZwFEnQ",
        "b08e20d4",
        "P2Yqr8UJxxWC",
        "BgqVGqnHyDSZ",
        "YrBOdu7EFsXn",
        "6bb01f86",
        "c44edc0a",
        "_Lzoa0-t-9rR",
        "xHCIJLBFBUNM",
        "OdgOsratEc_b",
        "0xqURmQaFpU3",
        "hAMw0IExIb5i",
        "JN76MHxWJ4oK",
        "1vl48IzrcxYx",
        "AjFOETJtfqCV",
        "1XS_fGoxfuVq",
        "FcrERnGLmvhA",
        "EWe4ZfpfLM5Z"
      ]
    },
    "kernelspec": {
      "name": "python3",
      "display_name": "Python 3"
    },
    "language_info": {
      "name": "python"
    }
  },
  "cells": [
    {
      "cell_type": "markdown",
      "source": [
        "#Import&Installs"
      ],
      "metadata": {
        "id": "tpIYCMN-8QE5"
      }
    },
    {
      "cell_type": "code",
      "source": [
        "!pip install pyspark"
      ],
      "metadata": {
        "colab": {
          "base_uri": "https://localhost:8080/"
        },
        "id": "iFRVzxuqGINa",
        "outputId": "90ac71f9-caa4-4a8c-8336-7752aad77372"
      },
      "execution_count": null,
      "outputs": [
        {
          "output_type": "stream",
          "name": "stdout",
          "text": [
            "Looking in indexes: https://pypi.org/simple, https://us-python.pkg.dev/colab-wheels/public/simple/\n",
            "Collecting pyspark\n",
            "  Downloading pyspark-3.3.1.tar.gz (281.4 MB)\n",
            "\u001b[K     |████████████████████████████████| 281.4 MB 53 kB/s \n",
            "\u001b[?25hCollecting py4j==0.10.9.5\n",
            "  Downloading py4j-0.10.9.5-py2.py3-none-any.whl (199 kB)\n",
            "\u001b[K     |████████████████████████████████| 199 kB 77.3 MB/s \n",
            "\u001b[?25hBuilding wheels for collected packages: pyspark\n",
            "  Building wheel for pyspark (setup.py) ... \u001b[?25l\u001b[?25hdone\n",
            "  Created wheel for pyspark: filename=pyspark-3.3.1-py2.py3-none-any.whl size=281845512 sha256=64a136e8a5bcafd634a86cd98a338463b596e8f0b91e67a3dd213df3dffce94e\n",
            "  Stored in directory: /root/.cache/pip/wheels/43/dc/11/ec201cd671da62fa9c5cc77078235e40722170ceba231d7598\n",
            "Successfully built pyspark\n",
            "Installing collected packages: py4j, pyspark\n",
            "Successfully installed py4j-0.10.9.5 pyspark-3.3.1\n"
          ]
        }
      ]
    },
    {
      "cell_type": "code",
      "source": [
        "import json\n",
        "import pyspark\n",
        "from pyspark.sql import SparkSession\n",
        "from itertools import combinations\n",
        "from pyspark.sql.functions import concat, col, lit, udf, split\n",
        "import matplotlib.pyplot as plt\n",
        "from pyspark.sql.types import *\n",
        "from pyspark.ml.classification import FMClassifier\n",
        "from pyspark.ml.clustering import KMeans, LDA, GaussianMixture, PowerIterationClustering\n",
        "from pyspark.ml.evaluation import ClusteringEvaluator,  MulticlassClassificationEvaluator, BinaryClassificationEvaluator\n",
        "from pyspark.ml.linalg import Vectors\n",
        "from pyspark.ml.feature import VectorAssembler, Imputer , StandardScaler\n",
        "from pyspark.ml import Pipeline\n",
        "from pyspark.ml.regression import LinearRegression\n",
        "from pyspark.ml.evaluation import RegressionEvaluator\n",
        "from pyspark.ml.classification import LogisticRegression, GBTClassifier, NaiveBayes, RandomForestClassifier, LinearSVC, OneVsRest"
      ],
      "metadata": {
        "id": "d5eplK10BNSU"
      },
      "execution_count": null,
      "outputs": []
    },
    {
      "cell_type": "code",
      "source": [
        "!gdown \"1Mm6pePtdELX7aIqnp7J6SsphMnENMUX8\""
      ],
      "metadata": {
        "colab": {
          "base_uri": "https://localhost:8080/"
        },
        "id": "_ZM_A6bOFbwo",
        "outputId": "9f8b237d-1a11-4758-87cc-23dfd86b088a"
      },
      "execution_count": null,
      "outputs": [
        {
          "output_type": "stream",
          "name": "stdout",
          "text": [
            "Downloading...\n",
            "From: https://drive.google.com/uc?id=1Mm6pePtdELX7aIqnp7J6SsphMnENMUX8\n",
            "To: /content/Mini2Data.zip\n",
            "100% 11.2M/11.2M [00:00<00:00, 82.9MB/s]\n"
          ]
        }
      ]
    },
    {
      "cell_type": "code",
      "source": [
        "!unzip 'Mini2Data.zip'"
      ],
      "metadata": {
        "colab": {
          "base_uri": "https://localhost:8080/"
        },
        "id": "IdBJmTn8FxQ6",
        "outputId": "9d66661f-3307-4fd2-f7e1-c7436bb064d1"
      },
      "execution_count": null,
      "outputs": [
        {
          "output_type": "stream",
          "name": "stdout",
          "text": [
            "Archive:  Mini2Data.zip\n",
            "  inflating: Data.csv                \n",
            "  inflating: Id_To_ChampionName.txt  \n",
            "  inflating: Id_To_ItemName.txt      \n",
            "  inflating: ChampBuilds.txt         \n",
            "  inflating: ChampClass.txt          \n"
          ]
        }
      ]
    },
    {
      "cell_type": "code",
      "source": [
        "#Read item Ids and Champion ids files to create a mapping\n",
        "#Id maps to a name\n",
        "Champs = open(\"Id_To_ChampionName.txt\", \"r\")\n",
        "ChampClass = open(\"ChampClass.txt\", \"r\")\n",
        "Items = open(\"Id_To_ItemName.txt\", \"r\")\n",
        "\n",
        "#Create Dicts\n",
        "Id_to_ChampName={}\n",
        "Id_to_ItemName={}\n",
        "Id_to_ChampClass={}\n",
        "\n",
        "#loop over lines\n",
        "for line in Champs:\n",
        "  data=line.strip().split('\\t')\n",
        "  Id_to_ChampName[data[0]]=data[1]\n",
        "\n",
        "for line in Items:\n",
        "  data=line.strip().split('\\t')\n",
        "  Id_to_ItemName[data[0]]=data[1]\n",
        "\n",
        "for line in ChampClass:\n",
        "  data=line.strip().split('\\t')\n",
        "  Id_to_ChampClass[data[0]]=data[1:]\n",
        "\n",
        "print(Id_to_ChampName)\n",
        "print(Id_to_ChampClass)\n",
        "print(Id_to_ItemName)"
      ],
      "metadata": {
        "colab": {
          "base_uri": "https://localhost:8080/"
        },
        "id": "Hf7nhWVwBwc0",
        "outputId": "685201d7-d210-45a3-f62d-3374a6a0af54"
      },
      "execution_count": null,
      "outputs": [
        {
          "output_type": "stream",
          "name": "stdout",
          "text": [
            "{'ID': 'Name', '266': 'Aatrox', '103': 'Ahri', '84': 'Akali', '166': 'Akshan', '12': 'Alistar', '32': 'Amumu', '34': 'Anivia', '1': 'Annie', '523': 'Aphelios', '22': 'Ashe', '136': 'AurelionSol', '268': 'Azir', '432': 'Bard', '200': 'Belveth', '53': 'Blitzcrank', '63': 'Brand', '201': 'Braum', '51': 'Caitlyn', '164': 'Camille', '69': 'Cassiopeia', '31': 'Chogath', '42': 'Corki', '122': 'Darius', '131': 'Diana', '119': 'Draven', '36': 'DrMundo', '245': 'Ekko', '60': 'Elise', '28': 'Evelynn', '81': 'Ezreal', '9': 'Fiddlesticks', '114': 'Fiora', '105': 'Fizz', '3': 'Galio', '41': 'Gangplank', '86': 'Garen', '150': 'Gnar', '79': 'Gragas', '104': 'Graves', '887': 'Gwen', '120': 'Hecarim', '74': 'Heimerdinger', '420': 'Illaoi', '39': 'Irelia', '427': 'Ivern', '40': 'Janna', '59': 'JarvanIV', '24': 'Jax', '126': 'Jayce', '202': 'Jhin', '222': 'Jinx', '145': 'Kaisa', '429': 'Kalista', '43': 'Karma', '30': 'Karthus', '38': 'Kassadin', '55': 'Katarina', '10': 'Kayle', '141': 'Kayn', '85': 'Kennen', '121': 'Khazix', '203': 'Kindred', '240': 'Kled', '96': 'KogMaw', '897': 'KSante', '7': 'Leblanc', '64': 'LeeSin', '89': 'Leona', '876': 'Lillia', '127': 'Lissandra', '236': 'Lucian', '117': 'Lulu', '99': 'Lux', '54': 'Malphite', '90': 'Malzahar', '57': 'Maokai', '11': 'MasterYi', '21': 'MissFortune', '62': 'MonkeyKing', '82': 'Mordekaiser', '25': 'Morgana', '267': 'Nami', '75': 'Nasus', '111': 'Nautilus', '518': 'Neeko', '76': 'Nidalee', '895': 'Nilah', '56': 'Nocturne', '20': 'Nunu', '2': 'Olaf', '61': 'Orianna', '516': 'Ornn', '80': 'Pantheon', '78': 'Poppy', '555': 'Pyke', '246': 'Qiyana', '133': 'Quinn', '497': 'Rakan', '33': 'Rammus', '421': 'RekSai', '526': 'Rell', '888': 'Renata', '58': 'Renekton', '107': 'Rengar', '92': 'Riven', '68': 'Rumble', '13': 'Ryze', '360': 'Samira', '113': 'Sejuani', '235': 'Senna', '147': 'Seraphine', '875': 'Sett', '35': 'Shaco', '98': 'Shen', '102': 'Shyvana', '27': 'Singed', '14': 'Sion', '15': 'Sivir', '72': 'Skarner', '37': 'Sona', '16': 'Soraka', '50': 'Swain', '517': 'Sylas', '134': 'Syndra', '223': 'TahmKench', '163': 'Taliyah', '91': 'Talon', '44': 'Taric', '17': 'Teemo', '412': 'Thresh', '18': 'Tristana', '48': 'Trundle', '23': 'Tryndamere', '4': 'TwistedFate', '29': 'Twitch', '77': 'Udyr', '6': 'Urgot', '110': 'Varus', '67': 'Vayne', '45': 'Veigar', '161': 'Velkoz', '711': 'Vex', '254': 'Vi', '234': 'Viego', '112': 'Viktor', '8': 'Vladimir', '106': 'Volibear', '19': 'Warwick', '498': 'Xayah', '101': 'Xerath', '5': 'XinZhao', '157': 'Yasuo', '777': 'Yone', '83': 'Yorick', '350': 'Yuumi', '154': 'Zac', '238': 'Zed', '221': 'Zeri', '115': 'Ziggs', '26': 'Zilean', '142': 'Zoe', '143': 'Zyra'}\n",
            "{'266': ['Fighter', 'Tank'], '103': ['Mage', 'Assassin'], '84': ['Assassin'], '166': ['Marksman', 'Assassin'], '12': ['Tank', 'Support'], '32': ['Tank', 'Mage'], '34': ['Mage', 'Support'], '1': ['Mage'], '523': ['Marksman'], '22': ['Marksman', 'Support'], '136': ['Mage'], '268': ['Mage', 'Marksman'], '432': ['Support', 'Mage'], '200': ['Fighter'], '53': ['Tank', 'Fighter'], '63': ['Mage'], '201': ['Support', 'Tank'], '51': ['Marksman'], '164': ['Fighter', 'Tank'], '69': ['Mage'], '31': ['Tank', 'Mage'], '42': ['Marksman'], '122': ['Fighter', 'Tank'], '131': ['Fighter', 'Mage'], '119': ['Marksman'], '36': ['Fighter', 'Tank'], '245': ['Assassin', 'Fighter'], '60': ['Mage', 'Fighter'], '28': ['Assassin', 'Mage'], '81': ['Marksman', 'Mage'], '9': ['Mage', 'Support'], '114': ['Fighter', 'Assassin'], '105': ['Assassin', 'Fighter'], '3': ['Tank', 'Mage'], '41': ['Fighter'], '86': ['Fighter', 'Tank'], '150': ['Fighter', 'Tank'], '79': ['Fighter', 'Mage'], '104': ['Marksman'], '887': ['Fighter', 'Assassin'], '120': ['Fighter', 'Tank'], '74': ['Mage', 'Support'], '420': ['Fighter', 'Tank'], '39': ['Fighter', 'Assassin'], '427': ['Support', 'Mage'], '40': ['Support', 'Mage'], '59': ['Tank', 'Fighter'], '24': ['Fighter', 'Assassin'], '126': ['Fighter', 'Marksman'], '202': ['Marksman', 'Mage'], '222': ['Marksman'], '145': ['Marksman'], '429': ['Marksman'], '43': ['Mage', 'Support'], '30': ['Mage'], '38': ['Assassin', 'Mage'], '55': ['Assassin', 'Mage'], '10': ['Fighter', 'Support'], '141': ['Fighter', 'Assassin'], '85': ['Mage', 'Marksman'], '121': ['Assassin'], '203': ['Marksman'], '240': ['Fighter', 'Tank'], '96': ['Marksman', 'Mage'], '897': ['Tank', 'Fighter'], '7': ['Assassin', 'Mage'], '64': ['Fighter', 'Assassin'], '89': ['Tank', 'Support'], '876': ['Fighter', 'Mage'], '127': ['Mage'], '236': ['Marksman'], '117': ['Support', 'Mage'], '99': ['Mage', 'Support'], '54': ['Tank', 'Fighter'], '90': ['Mage', 'Assassin'], '57': ['Tank', 'Mage'], '11': ['Assassin', 'Fighter'], '21': ['Marksman'], '62': ['Fighter', 'Tank'], '82': ['Fighter'], '25': ['Mage', 'Support'], '267': ['Support', 'Mage'], '75': ['Fighter', 'Tank'], '111': ['Tank', 'Support'], '518': ['Mage', 'Support'], '76': ['Assassin', 'Mage'], '895': ['Fighter', 'Assassin'], '56': ['Assassin', 'Fighter'], '20': ['Tank', 'Fighter'], '2': ['Fighter', 'Tank'], '61': ['Mage', 'Support'], '516': ['Tank', 'Fighter'], '80': ['Fighter', 'Assassin'], '78': ['Tank', 'Fighter'], '555': ['Support', 'Assassin'], '246': ['Assassin', 'Fighter'], '133': ['Marksman', 'Assassin'], '497': ['Support'], '33': ['Tank', 'Fighter'], '421': ['Fighter'], '526': ['Tank', 'Support'], '888': ['Support', 'Mage'], '58': ['Fighter', 'Tank'], '107': ['Assassin', 'Fighter'], '92': ['Fighter', 'Assassin'], '68': ['Fighter', 'Mage'], '13': ['Mage', 'Fighter'], '360': ['Marksman'], '113': ['Tank', 'Fighter'], '235': ['Marksman', 'Support'], '147': ['Mage', 'Support'], '875': ['Fighter', 'Tank'], '35': ['Assassin'], '98': ['Tank'], '102': ['Fighter', 'Tank'], '27': ['Tank', 'Fighter'], '14': ['Tank', 'Fighter'], '15': ['Marksman'], '72': ['Fighter', 'Tank'], '37': ['Support', 'Mage'], '16': ['Support', 'Mage'], '50': ['Mage', 'Fighter'], '517': ['Mage', 'Assassin'], '134': ['Mage'], '223': ['Support', 'Tank'], '163': ['Mage', 'Support'], '91': ['Assassin'], '44': ['Support', 'Fighter'], '17': ['Marksman', 'Assassin'], '412': ['Support', 'Fighter'], '18': ['Marksman', 'Assassin'], '48': ['Fighter', 'Tank'], '23': ['Fighter', 'Assassin'], '4': ['Mage'], '29': ['Marksman', 'Assassin'], '77': ['Fighter', 'Tank'], '6': ['Fighter', 'Tank'], '110': ['Marksman', 'Mage'], '67': ['Marksman', 'Assassin'], '45': ['Mage'], '161': ['Mage'], '711': ['Mage'], '254': ['Fighter', 'Assassin'], '234': ['Assassin', 'Fighter'], '112': ['Mage'], '8': ['Mage'], '106': ['Fighter', 'Tank'], '19': ['Fighter', 'Tank'], '498': ['Marksman'], '101': ['Mage'], '5': ['Fighter', 'Assassin'], '157': ['Fighter', 'Assassin'], '777': ['Assassin', 'Fighter'], '83': ['Fighter', 'Tank'], '350': ['Support', 'Mage'], '154': ['Tank', 'Fighter'], '238': ['Assassin'], '221': ['Marksman'], '115': ['Mage'], '26': ['Support', 'Mage'], '142': ['Mage', 'Support'], '143': ['Mage', 'Support']}\n",
            "{'ID': 'Name', '1001': 'Boots', '1004': 'Faerie Charm', '1006': 'Rejuvenation Bead', '1011': \"Giant's Belt\", '1018': 'Cloak of Agility', '1026': 'Blasting Wand', '1027': 'Sapphire Crystal', '1028': 'Ruby Crystal', '1029': 'Cloth Armor', '1031': 'Chain Vest', '1033': 'Null-Magic Mantle', '1035': 'Emberknife', '1036': 'Long Sword', '1037': 'Pickaxe', '1038': 'B. F. Sword', '1039': 'Hailblade', '1040': 'Obsidian Edge', '1042': 'Dagger', '1043': 'Recurve Bow', '1052': 'Amplifying Tome', '1053': 'Vampiric Scepter', '1054': \"Doran's Shield\", '1055': \"Doran's Blade\", '1056': \"Doran's Ring\", '1057': 'Negatron Cloak', '1058': 'Needlessly Large Rod', '1082': 'Dark Seal', '1083': 'Cull', '1101': 'Scorchclaw Pup', '1102': 'Gustwalker Hatchling', '1103': 'Mosstomper Seedling', '1104': 'Eye of the Herald', '1500': 'Penetrating Bullets', '1501': 'Fortification', '1502': 'Reinforced Armor', '1503': \"Warden's Eye\", '1504': 'Vanguard', '1505': 'Lightning Rod', '1506': 'Reinforced Armor', '1507': 'Overcharged', '1508': 'Anti-tower Socks', '1509': 'Gusto', '1510': 'Phreakish Gusto', '1511': 'Super Mech Armor', '1512': 'Super Mech Power Field', '1515': 'Turret Plating', '1516': 'Structure Bounty', '1517': 'Structure Bounty', '1518': 'Structure Bounty', '1519': 'Structure Bounty', '1520': 'OvererchargedHA', '2003': 'Health Potion', '2010': 'Total Biscuit of Everlasting Will', '2015': 'Kircheis Shard', '2031': 'Refillable Potion', '2033': 'Corrupting Potion', '2051': \"Guardian's Horn\", '2052': 'Poro-Snax', '2055': 'Control Ward', '2065': \"Shurelya's Battlesong\", '2138': 'Elixir of Iron', '2139': 'Elixir of Sorcery', '2140': 'Elixir of Wrath', '2403': 'Minion Dematerializer', '2419': 'Commencing Stopwatch', '2420': 'Stopwatch', '2421': 'Broken Stopwatch', '2422': 'Slightly Magical Footwear', '2423': 'Perfectly Timed Stopwatch', '2424': 'Broken Stopwatch', '3001': 'Evenshroud', '3003': \"Archangel's Staff\", '3004': 'Manamune', '3006': \"Berserker's Greaves\", '3009': 'Boots of Swiftness', '3011': 'Chemtech Putrifier', '3020': \"Sorcerer's Shoes\", '3024': 'Glacial Buckler', '3026': 'Guardian Angel', '3031': 'Infinity Edge', '3033': 'Mortal Reminder', '3035': 'Last Whisper', '3036': \"Lord Dominik's Regards\", '3040': \"Seraph's Embrace\", '3041': \"Mejai's Soulstealer\", '3042': 'Muramana', '3044': 'Phage', '3046': 'Phantom Dancer', '3047': 'Plated Steelcaps', '3050': \"Zeke's Convergence\", '3051': 'Hearthbound Axe', '3053': \"Sterak's Gage\", '3057': 'Sheen', '3065': 'Spirit Visage', '3066': 'Winged Moonplate', '3067': 'Kindlegem', '3068': 'Sunfire Aegis', '3070': 'Tear of the Goddess', '3071': 'Black Cleaver', '3072': 'Bloodthirster', '3074': 'Ravenous Hydra', '3075': 'Thornmail', '3076': 'Bramble Vest', '3077': 'Tiamat', '3078': 'Trinity Force', '3082': \"Warden's Mail\", '3083': \"Warmog's Armor\", '3084': 'Heartsteel', '3085': \"Runaan's Hurricane\", '3086': 'Zeal', '3089': \"Rabadon's Deathcap\", '3091': \"Wit's End\", '3094': 'Rapid Firecannon', '3095': 'Stormrazor', '3100': 'Lich Bane', '3102': \"Banshee's Veil\", '3105': 'Aegis of the Legion', '3107': 'Redemption', '3108': 'Fiendish Codex', '3109': \"Knight's Vow\", '3110': 'Frozen Heart', '3111': \"Mercury's Treads\", '3112': \"Guardian's Orb\", '3113': 'Aether Wisp', '3114': 'Forbidden Idol', '3115': \"Nashor's Tooth\", '3116': \"Rylai's Crystal Scepter\", '3117': 'Mobility Boots', '3119': \"Winter's Approach\", '3121': 'Fimbulwinter', '3123': \"Executioner's Calling\", '3124': \"Guinsoo's Rageblade\", '3133': \"Caulfield's Warhammer\", '3134': 'Serrated Dirk', '3135': 'Void Staff', '3139': 'Mercurial Scimitar', '3140': 'Quicksilver Sash', '3142': \"Youmuu's Ghostblade\", '3143': \"Randuin's Omen\", '3145': 'Hextech Alternator', '3152': 'Hextech Rocketbelt', '3153': 'Blade of The Ruined King', '3155': 'Hexdrinker', '3156': 'Maw of Malmortius', '3157': \"Zhonya's Hourglass\", '3158': 'Ionian Boots of Lucidity', '3161': 'Spear Of Shojin', '3165': 'Morellonomicon', '3177': \"Guardian's Blade\", '3179': 'Umbral Glaive', '3181': 'Hullbreaker', '3184': \"Guardian's Hammer\", '3190': 'Locket of the Iron Solari', '3191': \"Seeker's Armguard\", '3193': 'Gargoyle Stoneplate', '3211': \"Spectre's Cowl\", '3222': \"Mikael's Blessing\", '3330': 'Scarecrow Effigy', '3340': 'Stealth Ward', '3363': 'Farsight Alteration', '3364': 'Oracle Lens', '3400': 'Your Cut', '3504': 'Ardent Censer', '3508': 'Essence Reaver', '3513': 'Eye of the Herald', '3599': \"Kalista's Black Spear\", '3600': \"Kalista's Black Spear\", '3742': \"Dead Man's Plate\", '3748': 'Titanic Hydra', '3801': 'Crystalline Bracer', '3802': 'Lost Chapter', '3803': 'Catalyst of Aeons', '3814': 'Edge of Night', '3850': \"Spellthief's Edge\", '3851': 'Frostfang', '3853': 'Shard of True Ice', '3854': 'Steel Shoulderguards', '3855': 'Runesteel Spaulders', '3857': 'Pauldrons of Whiterock', '3858': 'Relic Shield', '3859': \"Targon's Buckler\", '3860': 'Bulwark of the Mountain', '3862': 'Spectral Sickle', '3863': 'Harrowing Crescent', '3864': 'Black Mist Scythe', '3901': 'Fire at Will', '3902': \"Death's Daughter\", '3903': 'Raise Morale', '3916': 'Oblivion Orb', '4005': 'Imperial Mandate', '4401': 'Force of Nature', '4403': 'The Golden Spatula', '4628': 'Horizon Focus', '4629': 'Cosmic Drive', '4630': 'Blighting Jewel', '4632': 'Verdant Barrier', '4633': 'Riftmaker', '4635': 'Leeching Leer', '4636': 'Night Harvester', '4637': 'Demonic Embrace', '4638': 'Watchful Wardstone', '4641': 'Stirring Wardstone', '4642': 'Bandleglass Mirror', '4643': 'Vigilant Wardstone', '4644': 'Crown of the Shattered Queen', '4645': 'Shadowflame', '6029': 'Ironspike Whip', '6035': 'Silvermere Dawn', '6333': \"Death's Dance\", '6609': 'Chempunk Chainsword', '6616': 'Staff of Flowing Water', '6617': 'Moonstone Renewer', '6630': 'Goredrinker', '6631': 'Stridebreaker', '6632': 'Divine Sunderer', '6653': \"Liandry's Anguish\", '6655': \"Luden's Tempest\", '6656': 'Everfrost', '6657': 'Rod of Ages', '6660': \"Bami's Cinder\", '6662': 'Iceborn Gauntlet', '6664': 'Turbo Chemtank', '6665': \"Jak'Sho, The Protean\", '6667': 'Radiant Virtue', '6670': 'Noonquiver', '6671': 'Galeforce', '6672': 'Kraken Slayer', '6673': 'Immortal Shieldbow', '6675': 'Navori Quickblades', '6676': 'The Collector', '6677': 'Rageknife', '6691': 'Duskblade of Draktharr', '6692': 'Eclipse', '6693': \"Prowler's Claw\", '6694': \"Serylda's Grudge\", '6695': \"Serpent's Fang\", '6696': 'Axiom Arc', '7000': \"Sandshrike's Claw\", '7001': 'Syzygy', '7002': \"Draktharr's Shadowcarver\", '7005': 'Frozen Fist', '7006': 'Typhoon', '7007': 'Wyrmfallen Sacrifice', '7008': 'Bloodward', '7009': \"Icathia's Curse\", '7010': 'Vespertide', '7011': 'Upgraded Aeropack', '7012': \"Liandry's Lament\", '7013': 'Eye of Luden', '7014': 'Eternal Winter', '7015': 'Ceaseless Hunger', '7016': 'Dreamshatter', '7017': 'Deicide', '7018': 'Infinity Force', '7019': 'Reliquary of the Golden Dawn', '7020': \"Shurelya's Requiem\", '7021': 'Starcaster', '7022': 'Seat of Command', '7023': 'Equinox', '7024': 'Caesura', '7025': 'Leviathan', '7026': 'The Unspoken Parasite', '7027': 'Primordial Dawn', '7028': 'Infinite Convergence', '7050': 'Gangplank Placeholder', '8001': \"Anathema's Chains\", '8020': 'Abyssal Mask'}\n"
          ]
        }
      ]
    },
    {
      "cell_type": "markdown",
      "source": [
        "#Create Spark Session"
      ],
      "metadata": {
        "id": "IVLY35miBqxk"
      }
    },
    {
      "cell_type": "code",
      "source": [
        "spark = SparkSession \\\n",
        "    .builder \\\n",
        "    .appName(\"Mini-Project-2\") \\\n",
        "    .config(\"spark.some.config.option\", \"some-value\") \\\n",
        "    .getOrCreate()"
      ],
      "metadata": {
        "id": "U-7VGcsMBOmj"
      },
      "execution_count": null,
      "outputs": []
    },
    {
      "cell_type": "markdown",
      "source": [
        "#Load Data, Cleaning and Group By GameBatch"
      ],
      "metadata": {
        "id": "Et-M5UfrsERd"
      }
    },
    {
      "cell_type": "code",
      "source": [
        "Maindf = spark.read.load(\"Data.csv\", format=\"csv\", sep=\",\", inferSchema=\"true\", header=\"true\")"
      ],
      "metadata": {
        "id": "YZGMHWMTJXeX"
      },
      "execution_count": null,
      "outputs": []
    },
    {
      "cell_type": "code",
      "source": [
        "Maindf.schema"
      ],
      "metadata": {
        "colab": {
          "base_uri": "https://localhost:8080/"
        },
        "id": "8dX2jo9XMTBV",
        "outputId": "2ed41e4c-57b7-4576-9433-d2b5f157b52e"
      },
      "execution_count": null,
      "outputs": [
        {
          "output_type": "execute_result",
          "data": {
            "text/plain": [
              "StructType([StructField('_c0', IntegerType(), True), StructField('Champ1Team1', StringType(), True), StructField('Champ2Team1', StringType(), True), StructField('Champ3Team1', StringType(), True), StructField('Champ4Team1', StringType(), True), StructField('Champ5Team1', StringType(), True), StructField('BansTeam1', StringType(), True), StructField('MetaTeam1', StringType(), True), StructField('Champ1Team2', StringType(), True), StructField('Champ2Team2', StringType(), True), StructField('Champ3Team2', StringType(), True), StructField('Champ4Team2', StringType(), True), StructField('Champ5Team2', StringType(), True), StructField('BansTeam2', StringType(), True), StructField('MetaTeam2', StringType(), True), StructField('gameDuration (Mins)', DoubleType(), True), StructField('gameVersion', StringType(), True)])"
            ]
          },
          "metadata": {},
          "execution_count": 8
        }
      ]
    },
    {
      "cell_type": "code",
      "source": [
        "Maindf.show(5)"
      ],
      "metadata": {
        "colab": {
          "base_uri": "https://localhost:8080/"
        },
        "id": "vDhHSn75Jr6K",
        "outputId": "26e1ff2f-8922-41e3-ffe8-68ed8510c46a"
      },
      "execution_count": null,
      "outputs": [
        {
          "output_type": "stream",
          "name": "stdout",
          "text": [
            "+---+--------------------+--------------------+--------------------+--------------------+--------------------+-------------------+-----------+--------------------+--------------------+--------------------+--------------------+--------------------+-------------------+----------+-------------------+-----------+\n",
            "|_c0|         Champ1Team1|         Champ2Team1|         Champ3Team1|         Champ4Team1|         Champ5Team1|          BansTeam1|  MetaTeam1|         Champ1Team2|         Champ2Team2|         Champ3Team2|         Champ4Team2|         Champ5Team2|          BansTeam2| MetaTeam2|gameDuration (Mins)|gameVersion|\n",
            "+---+--------------------+--------------------+--------------------+--------------------+--------------------+-------------------+-----------+--------------------+--------------------+--------------------+--------------------+--------------------+-------------------+----------+-------------------+-----------+\n",
            "|  0|114,6632,3074,316...|120,3074,3042,315...|90,3020,3157,3916...|145,667,224,203,0...|53,386,030,473,10...|  8,895,134,122,200| 38,1,2,0,9|420,2033,6333,663...|77,6693,3074,3814...|517,315,866,563,1...|221,100,130,466,6...|555,669,131,793,8...|  11,141,238,223,82|21,0,2,1,2|              26.95|  1,2,.,2,3|\n",
            "|  1|420,633,330,743,0...|131,315,231,154,6...|86,105,430,063,03...|96,667,166,753,07...|74,3158,3116,6653...|   266,141,82,55,11|40,2,4,2,11|17,102,646,333,11...|234,6333,3153,315...|41,303,635,086,69...|222,6672,3085,308...|350,385,366,552,0...|  77,39,145,120,238|26,0,0,0,0|              31.08|  1,2,.,2,2|\n",
            "|  2|777,105,430,311,0...|106,374,230,756,6...|99,3157,3089,1082...|51,6676,0,6671,30...|25,3853,3157,3020...| 122,119,157,77,111| 37,1,4,1,9|98,6632,3075,3047...|120,317,966,953,0...|112,3100,4645,665...|29,308,931,153,80...|350,385,320,032,0...|245,254,238,117,360|27,0,0,1,2|               30.5|  1,2,.,2,1|\n",
            "|  3|98,105,431,112,03...|64,0,6630,3111,0,...|42,6655,3042,3020...|119,667,635,083,0...|16,385,366,173,15...|122,120,157,266,360| 32,0,2,1,9|68,3145,1058,3020...|9,665,324,242,031...|103,1056,3020,665...|21,6673,3047,2031...|25,0,3853,3020,38...|  360,122,77,53,238|14,0,0,0,0|              21.83|  1,2,.,2,1|\n",
            "|  4|68,463,746,364,64...|141,669,331,423,0...|45,665,631,573,15...|29,315,330,066,67...|412,3190,3857,305...|238,119,122,245,117|38,2,2,0,10|43,206,530,403,15...|20,306,831,431,02...|101,665,531,573,0...|145,302,631,536,6...|22,3864,3158,6609...| 114,350,134,200,53|29,1,4,2,5|              42.15|  1,2,.,2,0|\n",
            "+---+--------------------+--------------------+--------------------+--------------------+--------------------+-------------------+-----------+--------------------+--------------------+--------------------+--------------------+--------------------+-------------------+----------+-------------------+-----------+\n",
            "only showing top 5 rows\n",
            "\n"
          ]
        }
      ]
    },
    {
      "cell_type": "markdown",
      "source": [
        "##Cleaning"
      ],
      "metadata": {
        "id": "uaMaypCD6g5q"
      }
    },
    {
      "cell_type": "markdown",
      "source": [
        "We noticed later on in the project that some of the collected game durations\n",
        "are written in Milli seconds"
      ],
      "metadata": {
        "id": "ChC4golq6mD-"
      }
    },
    {
      "cell_type": "code",
      "source": [
        "Maindf = Maindf.select([\"Champ1Team1\",\"Champ2Team1\",\"Champ3Team1\",\"Champ4Team1\",\"Champ5Team1\",\"BansTeam1\",\"MetaTeam1\",\n",
        "\"Champ1Team2\",\"Champ2Team2\",\"Champ3Team2\",\"Champ4Team2\",\"Champ5Team2\",\"BansTeam2\",\"MetaTeam2\",\n",
        "'gameDuration (Mins)','gameVersion'])"
      ],
      "metadata": {
        "id": "KiiVCwXMEMI0"
      },
      "execution_count": null,
      "outputs": []
    },
    {
      "cell_type": "code",
      "source": [
        "Maindf = Maindf.drop_duplicates()"
      ],
      "metadata": {
        "id": "kfnGbxc7oolS"
      },
      "execution_count": null,
      "outputs": []
    },
    {
      "cell_type": "code",
      "source": [
        "Maindf.select(['gameDuration (Mins)']).sort(['gameDuration (Mins)'],ascending=False).show(5)"
      ],
      "metadata": {
        "colab": {
          "base_uri": "https://localhost:8080/"
        },
        "id": "UQLruHUQWTpV",
        "outputId": "02d0f979-5747-494d-ada7-c1cad6fe3f67"
      },
      "execution_count": null,
      "outputs": [
        {
          "output_type": "stream",
          "name": "stdout",
          "text": [
            "+-------------------+\n",
            "|gameDuration (Mins)|\n",
            "+-------------------+\n",
            "|            53403.2|\n",
            "|           50278.43|\n",
            "|           49932.07|\n",
            "|           47154.52|\n",
            "|           43805.78|\n",
            "+-------------------+\n",
            "only showing top 5 rows\n",
            "\n"
          ]
        }
      ]
    },
    {
      "cell_type": "code",
      "source": [
        "def TurntoMs(GameDur):\n",
        "  #lets test on 1000 as the limit\n",
        "  GameDur=float(GameDur)\n",
        "  if GameDur > 1000:\n",
        "    return GameDur/1000\n",
        "  else:\n",
        "    return GameDur\n",
        "MyFunc = udf(lambda x:TurntoMs(x),DoubleType())"
      ],
      "metadata": {
        "id": "CZii3MmU6iv8"
      },
      "execution_count": null,
      "outputs": []
    },
    {
      "cell_type": "code",
      "source": [
        "Maindf=Maindf.withColumn(\"gameDuration (Mins)\", MyFunc(Maindf['gameDuration (Mins)']))"
      ],
      "metadata": {
        "id": "0praBgJB66IQ"
      },
      "execution_count": null,
      "outputs": []
    },
    {
      "cell_type": "code",
      "source": [
        "Maindf.select(['gameDuration (Mins)']).sort(['gameDuration (Mins)'],ascending=False).show(5)"
      ],
      "metadata": {
        "colab": {
          "base_uri": "https://localhost:8080/"
        },
        "id": "zYkKOaZ6WVEH",
        "outputId": "f0ed6b2c-5103-4642-f900-211de472b8cc"
      },
      "execution_count": null,
      "outputs": [
        {
          "output_type": "stream",
          "name": "stdout",
          "text": [
            "+-------------------+\n",
            "|gameDuration (Mins)|\n",
            "+-------------------+\n",
            "|              60.37|\n",
            "|              59.02|\n",
            "|              58.98|\n",
            "|              57.37|\n",
            "|              56.63|\n",
            "+-------------------+\n",
            "only showing top 5 rows\n",
            "\n"
          ]
        }
      ]
    },
    {
      "cell_type": "code",
      "source": [
        "Maindf.select(['gameDuration (Mins)']).sort(['gameDuration (Mins)']).show(5)"
      ],
      "metadata": {
        "colab": {
          "base_uri": "https://localhost:8080/"
        },
        "id": "2LTO8r8UWZeM",
        "outputId": "0d4246d2-fef0-46d3-a5d0-fe0896c7258c"
      },
      "execution_count": null,
      "outputs": [
        {
          "output_type": "stream",
          "name": "stdout",
          "text": [
            "+-------------------+\n",
            "|gameDuration (Mins)|\n",
            "+-------------------+\n",
            "|               1.68|\n",
            "|               1.68|\n",
            "|               1.68|\n",
            "|               1.68|\n",
            "|               1.68|\n",
            "+-------------------+\n",
            "only showing top 5 rows\n",
            "\n"
          ]
        }
      ]
    },
    {
      "cell_type": "markdown",
      "source": [
        "## Group Data By Game Batch\n",
        "Here we will partition the data by game batchs\n",
        "but we will work with all the data.\n",
        "\n",
        "**This is just to prove that we can do the Bonus!**"
      ],
      "metadata": {
        "id": "ZxTBeq7EsG9c"
      }
    },
    {
      "cell_type": "code",
      "source": [
        "def TurnStringTobatch(string):\n",
        "  batch=''.join(string[:4].split(\",\"))\n",
        "  if batch.endswith('.'):\n",
        "    batch=batch[:-1]\n",
        "  return float(batch)\n",
        "MyFunc = udf(lambda x:TurnStringTobatch(x),DoubleType())"
      ],
      "metadata": {
        "id": "YgQOAC1Iu8Mv"
      },
      "execution_count": null,
      "outputs": []
    },
    {
      "cell_type": "code",
      "source": [
        "df=Maindf.withColumn(\"gameBatch\", MyFunc(Maindf.gameVersion))\n",
        "\n",
        "df.groupBy('gameBatch').agg({\"gameBatch\": \"count\"}).collect()"
      ],
      "metadata": {
        "colab": {
          "base_uri": "https://localhost:8080/"
        },
        "id": "7wIZJUSUsNNE",
        "outputId": "105c2407-0a85-4997-fde0-08082ddfec1f"
      },
      "execution_count": null,
      "outputs": [
        {
          "output_type": "execute_result",
          "data": {
            "text/plain": [
              "[Row(gameBatch=11.0, count(gameBatch)=745),\n",
              " Row(gameBatch=12.0, count(gameBatch)=94977)]"
            ]
          },
          "metadata": {},
          "execution_count": 18
        }
      ]
    },
    {
      "cell_type": "code",
      "source": [
        "Batch1=df.filter(df.gameBatch == 11.0)\n",
        "Batch1.show(5)"
      ],
      "metadata": {
        "colab": {
          "base_uri": "https://localhost:8080/"
        },
        "id": "hm1smpuFsNB_",
        "outputId": "be3f6f52-b7c3-4cc1-acfb-707ff04b5f1e"
      },
      "execution_count": null,
      "outputs": [
        {
          "output_type": "stream",
          "name": "stdout",
          "text": [
            "+--------------------+--------------------+--------------------+--------------------+--------------------+-----------------+-----------+--------------------+--------------------+--------------------+--------------------+--------------------+------------------+----------+-------------------+-----------+---------+\n",
            "|         Champ1Team1|         Champ2Team1|         Champ3Team1|         Champ4Team1|         Champ5Team1|        BansTeam1|  MetaTeam1|         Champ1Team2|         Champ2Team2|         Champ3Team2|         Champ4Team2|         Champ5Team2|         BansTeam2| MetaTeam2|gameDuration (Mins)|gameVersion|gameBatch|\n",
            "+--------------------+--------------------+--------------------+--------------------+--------------------+-----------------+-----------+--------------------+--------------------+--------------------+--------------------+--------------------+------------------+----------+-------------------+-----------+---------+\n",
            "|82,105,446,333,15...|131,315,231,573,0...|777,300,666,733,0...|236,667,120,313,5...|111,3190,0,3860,2...| 555,350,122,8,48|48,1,3,1,11|24,105,531,583,07...|79,3152,3165,3020...|157,3140,6673,0,3...|523,303,166,722,4...|117,315,820,653,1...| 166,711,53,350,-1|29,0,0,0,2|           27.16747|  1,1,.,1,9|     11.0|\n",
            "|36,440,130,683,04...|91,663,038,143,14...|99,319,166,553,02...|115,462,830,403,0...|201,319,031,113,0...| 89,38,39,360,245| 50,1,4,1,8|59,205,530,753,11...|80,669,231,563,04...|112,463,031,656,6...|18,667,666,713,00...|111,386,030,753,1...|119,238,50,122,711|46,1,3,0,4|           43.37612|  1,1,.,1,9|     11.0|\n",
            "|23,105,466,713,00...|234,6632,2031,311...|84,1054,3152,3111...|110,3042,2031,669...|25,203,138,533,15...|777,350,38,421,20| 24,0,3,2,6|166,6673,3006,305...|121,2031,3142,0,6...|7,3041,2031,6655,...|412,1055,2003,302...|53,3050,3117,2031...|  350,42,238,24,20|16,0,0,0,0|              20.32|  1,1,.,2,4|     11.0|\n",
            "|36,3047,3143,3068...|11,669,166,753,00...|45,3089,3157,6655...|429,3035,0,6673,3...|412,385,731,903,1...|  19,111,22,25,17|35,2,3,2,11|122,0,0,3075,3053...|141,103,130,476,6...|10,105,831,573,00...|51,3031,6671,3095...|117,3853,2065,205...|  350,78,39,54,238|24,0,2,0,3|              32.07|  1,1,.,2,2|     11.0|\n",
            "|114,1028,3074,663...|107,663,020,553,8...|55,311,531,523,15...|236,667,235,083,0...|267,385,330,416,6...| 105,39,75,32,234|51,1,2,1,11|82,4633,3075,3047...|203,3006,3046,307...|42,667,330,423,50...|81,3156,1053,0,30...|117,385,330,112,0...|  -1,98,21,154,711|29,0,2,0,3|              32.15|  1,1,.,2,1|     11.0|\n",
            "+--------------------+--------------------+--------------------+--------------------+--------------------+-----------------+-----------+--------------------+--------------------+--------------------+--------------------+--------------------+------------------+----------+-------------------+-----------+---------+\n",
            "only showing top 5 rows\n",
            "\n"
          ]
        }
      ]
    },
    {
      "cell_type": "code",
      "source": [
        "Batch2=df.filter(df.gameBatch == 12.0)\n",
        "Batch2.show(5)"
      ],
      "metadata": {
        "colab": {
          "base_uri": "https://localhost:8080/"
        },
        "id": "F0U7UE5msM-e",
        "outputId": "c0e818b9-615c-4e82-8bdd-ded1c128e285"
      },
      "execution_count": null,
      "outputs": [
        {
          "output_type": "stream",
          "name": "stdout",
          "text": [
            "+--------------------+--------------------+--------------------+--------------------+--------------------+-------------------+-----------+--------------------+--------------------+--------------------+--------------------+--------------------+------------------+----------+-------------------+-----------+---------+\n",
            "|         Champ1Team1|         Champ2Team1|         Champ3Team1|         Champ4Team1|         Champ5Team1|          BansTeam1|  MetaTeam1|         Champ1Team2|         Champ2Team2|         Champ3Team2|         Champ4Team2|         Champ5Team2|         BansTeam2| MetaTeam2|gameDuration (Mins)|gameVersion|gameBatch|\n",
            "+--------------------+--------------------+--------------------+--------------------+--------------------+-------------------+-----------+--------------------+--------------------+--------------------+--------------------+--------------------+------------------+----------+-------------------+-----------+---------+\n",
            "|48,3074,6632,3047...|82,666,531,164,63...|246,669,631,563,1...|67,3124,6672,3006...|63,385,366,533,02...|  238,145,54,897,99|49,1,5,2,11|41,2033,3508,3047...|56,6696,3156,6691...|90,665,331,164,63...|81,3074,3158,3078...|29,311,538,533,00...|  9,17,200,895,120|30,0,0,0,2|              35.55|  1,2,.,2,2|     12.0|\n",
            "|67,105,530,061,08...|234,6632,2031,304...|84,242,020,313,15...|119,350,831,393,0...|16,105,238,531,05...|  57,350,77,360,120| 27,1,3,2,8|82,3116,3047,2031...|141,203,166,303,0...|91,663,063,333,14...|29,315,310,381,03...|117,3011,3158,464...|266,350,105,245,-1|19,0,0,0,3|              25.67|  1,2,.,1,9|     12.0|\n",
            "|23,667,130,316,67...|254,6632,3047,0,3...|90,302,066,533,91...|202,304,766,766,6...|235,300,938,646,6...|120,234,221,238,266|37,1,4,1,10|83,3181,3047,6632...|131,2031,3152,315...|39,315,366,701,05...|67,1055,3006,6673...|50,385,331,573,11...|  98,221,777,25,45|15,0,0,1,3|               27.3|  1,2,.,5,.|     12.0|\n",
            "|266,669,430,471,0...|120,315,866,653,0...|91,307,466,946,69...|145,667,266,763,0...|161,3853,4628,300...|   25,33,350,39,112| 49,0,3,2,8|516,702,610,293,0...|141,701,531,586,3...|238,307,431,423,0...|81,350,831,233,04...|53,385,731,177,02...|   114,28,166,84,9|47,1,1,0,4|              30.17|  1,2,.,2,2|     12.0|\n",
            "|67,667,330,333,12...|200,315,366,733,1...|157,105,530,066,6...|236,667,135,086,6...|147,315,738,533,0...|   54,412,22,98,238| 37,1,4,1,8|777,300,610,546,6...|203,667,230,316,6...|1,315,730,203,041...|145,667,224,216,6...|223,386,066,623,0...|  64,122,350,25,45|38,1,1,1,3|              34.57|  1,2,.,1,2|     12.0|\n",
            "+--------------------+--------------------+--------------------+--------------------+--------------------+-------------------+-----------+--------------------+--------------------+--------------------+--------------------+--------------------+------------------+----------+-------------------+-----------+---------+\n",
            "only showing top 5 rows\n",
            "\n"
          ]
        }
      ]
    },
    {
      "cell_type": "markdown",
      "source": [
        "#Requriments"
      ],
      "metadata": {
        "id": "7L8OrPiCJ4jn"
      }
    },
    {
      "cell_type": "code",
      "source": [
        "!rm -r    '/content/AnalysisResults'\n",
        "!mkdir    '/content/AnalysisResults'"
      ],
      "metadata": {
        "id": "wEvqeH2V0XwJ",
        "colab": {
          "base_uri": "https://localhost:8080/"
        },
        "outputId": "40572609-5d36-4226-d7b4-bda515618459"
      },
      "execution_count": null,
      "outputs": [
        {
          "output_type": "stream",
          "name": "stdout",
          "text": [
            "rm: cannot remove '/content/AnalysisResults': No such file or directory\n"
          ]
        }
      ]
    },
    {
      "cell_type": "code",
      "source": [
        "savePath='/content/AnalysisResults/'\n",
        "#total number of rows\n",
        "df = Maindf\n",
        "df_count = df.count()\n",
        "df_count"
      ],
      "metadata": {
        "colab": {
          "base_uri": "https://localhost:8080/"
        },
        "id": "9K-VfCylLs9H",
        "outputId": "630a7e4b-5c35-43e2-9ae6-df3c98405f1d"
      },
      "execution_count": null,
      "outputs": [
        {
          "output_type": "execute_result",
          "data": {
            "text/plain": [
              "95722"
            ]
          },
          "metadata": {},
          "execution_count": 22
        }
      ]
    },
    {
      "cell_type": "markdown",
      "source": [
        "##Champion win, lose, pick, and ban rates"
      ],
      "metadata": {
        "id": "Y2I7Ct1ZKd9W"
      }
    },
    {
      "cell_type": "markdown",
      "source": [
        "###Champion Win Rate"
      ],
      "metadata": {
        "id": "Yk2hwGpvKlnC"
      }
    },
    {
      "cell_type": "code",
      "source": [
        "#Since we made the data set we set the left team to be the one that won\n",
        "ChampionsWon=df.select([\"Champ1Team1\",\"Champ2Team1\",\"Champ3Team1\",\"Champ4Team1\",\"Champ5Team1\"])\n",
        "ChampionsWon.show(5)"
      ],
      "metadata": {
        "colab": {
          "base_uri": "https://localhost:8080/"
        },
        "id": "rU_-eqAwKdrf",
        "outputId": "73bdee6b-b2f2-48cb-9c6f-2e477dbb0693"
      },
      "execution_count": null,
      "outputs": [
        {
          "output_type": "stream",
          "name": "stdout",
          "text": [
            "+--------------------+--------------------+--------------------+--------------------+--------------------+\n",
            "|         Champ1Team1|         Champ2Team1|         Champ3Team1|         Champ4Team1|         Champ5Team1|\n",
            "+--------------------+--------------------+--------------------+--------------------+--------------------+\n",
            "|48,3074,6632,3047...|82,666,531,164,63...|246,669,631,563,1...|67,3124,6672,3006...|63,385,366,533,02...|\n",
            "|82,105,446,333,15...|131,315,231,573,0...|777,300,666,733,0...|236,667,120,313,5...|111,3190,0,3860,2...|\n",
            "|67,105,530,061,08...|234,6632,2031,304...|84,242,020,313,15...|119,350,831,393,0...|16,105,238,531,05...|\n",
            "|23,667,130,316,67...|254,6632,3047,0,3...|90,302,066,533,91...|202,304,766,766,6...|235,300,938,646,6...|\n",
            "|266,669,430,471,0...|120,315,866,653,0...|91,307,466,946,69...|145,667,266,763,0...|161,3853,4628,300...|\n",
            "+--------------------+--------------------+--------------------+--------------------+--------------------+\n",
            "only showing top 5 rows\n",
            "\n"
          ]
        }
      ]
    },
    {
      "cell_type": "code",
      "source": [
        "WinRates = ChampionsWon.rdd.flatMap(lambda x:x)\\\n",
        "          .map(lambda champ:(champ.split(',')[0],1)) \\\n",
        "          .reduceByKey(lambda c1,c2:c1+c2) \\\n",
        "          .map(lambda champ:(champ[0],round((champ[1]/(df_count))*100,2)))\\\n",
        "          .sortBy(lambda champ: champ[1], ascending=False)\\\n",
        "          .map(lambda champ:(Id_to_ChampName.get(champ[0]),champ[1])) \\\n",
        "          .collect()"
      ],
      "metadata": {
        "id": "0ezL1-i8K5WW"
      },
      "execution_count": null,
      "outputs": []
    },
    {
      "cell_type": "code",
      "source": [
        "data = dict(WinRates)\n",
        "keys = list(data.keys())[:10]\n",
        "values = list(data.values())[:10]\n",
        "fig, ax  = plt.subplots(figsize=(20,5))\n",
        "plt.bar(keys, values,color=['green'],width = 0.5)\n",
        "ax.set_ylabel('Win Rate')\n",
        "ax.set_xlabel('Champion')\n",
        "plt.title(\"Top 10 Win Rates\")\n",
        "plt.show()\n",
        "plt.savefig(savePath+'Top 10 Win Rates.png')"
      ],
      "metadata": {
        "colab": {
          "base_uri": "https://localhost:8080/",
          "height": 162
        },
        "id": "bm1RHhu6rIPA",
        "outputId": "699e228d-cf14-4405-c3d8-117f37b975f4"
      },
      "execution_count": null,
      "outputs": [
        {
          "output_type": "display_data",
          "data": {
            "text/plain": [
              "<Figure size 1440x360 with 1 Axes>"
            ],
            "image/png": "[encoded data removed]"
          },
          "metadata": {
            "needs_background": "light"
          }
        },
        {
          "output_type": "display_data",
          "data": {
            "text/plain": [
              "<Figure size 432x288 with 0 Axes>"
            ]
          },
          "metadata": {}
        }
      ]
    },
    {
      "cell_type": "markdown",
      "source": [
        "###Champion Lose Rate"
      ],
      "metadata": {
        "id": "jvRN8VDR7BVw"
      }
    },
    {
      "cell_type": "code",
      "source": [
        "#Since we made the data set we set the left team to be the one that won\n",
        "ChampionsLost=df.select([\"Champ1Team2\",\"Champ2Team2\",\"Champ3Team2\",\"Champ4Team2\",\"Champ5Team2\"])"
      ],
      "metadata": {
        "id": "eGVLU2Mw7I3p"
      },
      "execution_count": null,
      "outputs": []
    },
    {
      "cell_type": "code",
      "source": [
        "LoseRates= ChampionsLost.rdd.flatMap(lambda x:x)\\\n",
        "          .map(lambda champ:(champ.split(',')[0],1)) \\\n",
        "          .reduceByKey(lambda c1,c2:c1+c2) \\\n",
        "          .map(lambda champ:(champ[0],round((champ[1]/(df_count))*100,2)))\\\n",
        "          .sortBy(lambda champ: champ[1], ascending=False)\\\n",
        "          .map(lambda champ:(Id_to_ChampName.get(champ[0]),champ[1])) \\\n",
        "          .collect()"
      ],
      "metadata": {
        "id": "Dfz4BEhA7I3q"
      },
      "execution_count": null,
      "outputs": []
    },
    {
      "cell_type": "code",
      "source": [
        "data = dict(LoseRates)\n",
        "keys = list(data.keys())[:10]\n",
        "values = list(data.values())[:10]\n",
        "fig, ax  = plt.subplots(figsize=(20,5))\n",
        "plt.bar(keys, values,color=['red'],width = 0.5)\n",
        "ax.set_ylabel('Lose Rate')\n",
        "ax.set_xlabel('Champion')\n",
        "plt.title(\"Top 10 Lose Rates\")\n",
        "plt.show()\n",
        "plt.savefig(savePath+'Top 10 Lose Rates.png')"
      ],
      "metadata": {
        "colab": {
          "base_uri": "https://localhost:8080/",
          "height": 162
        },
        "id": "4ROnpx_dsa1I",
        "outputId": "11a806c2-4dc0-4a4d-b2ba-cd1db1410505"
      },
      "execution_count": null,
      "outputs": [
        {
          "output_type": "display_data",
          "data": {
            "text/plain": [
              "<Figure size 1440x360 with 1 Axes>"
            ],
            "image/png": "[encoded data removed]"
          },
          "metadata": {
            "needs_background": "light"
          }
        },
        {
          "output_type": "display_data",
          "data": {
            "text/plain": [
              "<Figure size 432x288 with 0 Axes>"
            ]
          },
          "metadata": {}
        }
      ]
    },
    {
      "cell_type": "markdown",
      "source": [
        "### Champion Pick Rate"
      ],
      "metadata": {
        "id": "9r226KiiS9qs"
      }
    },
    {
      "cell_type": "code",
      "source": [
        "#Since we take all picks in all the matches\n",
        "Champions=df.select([\"Champ1Team1\",\"Champ2Team1\",\"Champ3Team1\",\"Champ4Team1\",\"Champ5Team1\",\n",
        "\"Champ1Team2\",\"Champ2Team2\",\"Champ3Team2\",\"Champ4Team2\",\"Champ5Team2\"])"
      ],
      "metadata": {
        "id": "lPrI3KiaTG9s"
      },
      "execution_count": null,
      "outputs": []
    },
    {
      "cell_type": "code",
      "source": [
        "PickRates= Champions.rdd.flatMap(lambda x:x)\\\n",
        "          .map(lambda champ:(champ.split(',')[0],1)) \\\n",
        "          .reduceByKey(lambda c1,c2:c1+c2) \\\n",
        "          .map(lambda champ:(champ[0],round((champ[1]/(df_count))*100,2)))\\\n",
        "          .sortBy(lambda champ: champ[1], ascending=False)\\\n",
        "          .map(lambda champ:(Id_to_ChampName.get(champ[0]),champ[1])) \\\n",
        "          .collect()"
      ],
      "metadata": {
        "id": "43j-AODWTG9t"
      },
      "execution_count": null,
      "outputs": []
    },
    {
      "cell_type": "code",
      "source": [
        "data = dict(PickRates)\n",
        "keys = list(data.keys())[:10]\n",
        "values = list(data.values())[:10]\n",
        "fig, ax  = plt.subplots(figsize=(20,5))\n",
        "plt.bar(keys, values,width = 0.5)\n",
        "ax.set_ylabel('Pick Rate')\n",
        "ax.set_xlabel('Champion')\n",
        "plt.title(\"Top 10 Pick Rates\")\n",
        "plt.show()\n",
        "plt.savefig(savePath+'Top 10 Pick Rates.png')"
      ],
      "metadata": {
        "colab": {
          "base_uri": "https://localhost:8080/",
          "height": 162
        },
        "id": "u2JQhTBvspuM",
        "outputId": "901a6f67-e5de-46db-cb85-bc293a7cf373"
      },
      "execution_count": null,
      "outputs": [
        {
          "output_type": "display_data",
          "data": {
            "text/plain": [
              "<Figure size 1440x360 with 1 Axes>"
            ],
            "image/png": "[encoded data removed]"
          },
          "metadata": {
            "needs_background": "light"
          }
        },
        {
          "output_type": "display_data",
          "data": {
            "text/plain": [
              "<Figure size 432x288 with 0 Axes>"
            ]
          },
          "metadata": {}
        }
      ]
    },
    {
      "cell_type": "markdown",
      "source": [
        "###Champion Ban Rate"
      ],
      "metadata": {
        "id": "18i3P5ndTfFE"
      }
    },
    {
      "cell_type": "code",
      "source": [
        "#Since we take all bans in all the matches\n",
        "ChampionBans=df.select(['BansTeam1','BansTeam2'])\n",
        "ChampionBans.show(5)"
      ],
      "metadata": {
        "colab": {
          "base_uri": "https://localhost:8080/"
        },
        "outputId": "b961e4ae-f9ef-47e1-9d85-40b2355372bf",
        "id": "4brZ5T7JTeOi"
      },
      "execution_count": null,
      "outputs": [
        {
          "output_type": "stream",
          "name": "stdout",
          "text": [
            "+-------------------+------------------+\n",
            "|          BansTeam1|         BansTeam2|\n",
            "+-------------------+------------------+\n",
            "|  238,145,54,897,99|  9,17,200,895,120|\n",
            "|   555,350,122,8,48| 166,711,53,350,-1|\n",
            "|  57,350,77,360,120|266,350,105,245,-1|\n",
            "|120,234,221,238,266|  98,221,777,25,45|\n",
            "|   25,33,350,39,112|   114,28,166,84,9|\n",
            "+-------------------+------------------+\n",
            "only showing top 5 rows\n",
            "\n"
          ]
        }
      ]
    },
    {
      "cell_type": "code",
      "source": [
        "BanRates= ChampionBans.rdd.flatMap(lambda x:x) \\\n",
        "          .map(lambda champ:(champ.split(','))) \\\n",
        "          .flatMap(lambda champ:champ) \\\n",
        "          .map(lambda champ:(champ,1)) \\\n",
        "          .reduceByKey(lambda c1,c2:c1+c2) \\\n",
        "          .map(lambda champ:(champ[0],round((champ[1]/(df_count))*100,2)))\\\n",
        "          .filter(lambda champ: int(champ[0])>0) \\\n",
        "          .sortBy(lambda champ: champ[1], ascending=False)\\\n",
        "          .map(lambda champ:(Id_to_ChampName.get(champ[0]),champ[1])) \\\n",
        "          .collect()"
      ],
      "metadata": {
        "id": "VOaILrtbTeOr"
      },
      "execution_count": null,
      "outputs": []
    },
    {
      "cell_type": "code",
      "source": [
        "data = dict(BanRates)\n",
        "keys = list(data.keys())[:10]\n",
        "values = list(data.values())[:10]\n",
        "fig, ax  = plt.subplots(figsize=(20,5))\n",
        "plt.bar(keys, values, color=['grey'] ,width = 0.5)\n",
        "ax.set_ylabel('Ban Rate')\n",
        "ax.set_xlabel('Champion')\n",
        "plt.title(\"Top 10 Ban Rates\")\n",
        "plt.show()\n",
        "plt.savefig(savePath+'Top 10 Ban Rates.png')"
      ],
      "metadata": {
        "colab": {
          "base_uri": "https://localhost:8080/",
          "height": 162
        },
        "id": "UAAxgOF6tBUj",
        "outputId": "78fefc9c-422a-4f13-ac98-3c872ffce6c7"
      },
      "execution_count": null,
      "outputs": [
        {
          "output_type": "display_data",
          "data": {
            "text/plain": [
              "<Figure size 1440x360 with 1 Axes>"
            ],
            "image/png": "[encoded data removed]"
          },
          "metadata": {
            "needs_background": "light"
          }
        },
        {
          "output_type": "display_data",
          "data": {
            "text/plain": [
              "<Figure size 432x288 with 0 Axes>"
            ]
          },
          "metadata": {}
        }
      ]
    },
    {
      "cell_type": "markdown",
      "source": [
        "##Champion Synergies or duos"
      ],
      "metadata": {
        "id": "Pv12pMRVemoT"
      }
    },
    {
      "cell_type": "markdown",
      "source": [
        "We can make pairs of each champion with the other champions in the winning team. Then count those pairs.\n",
        "\n",
        "Good Synergies are without a doubt more in the winning teams\n",
        "but also we need to account for losing team.\n",
        "\n",
        "so our forumla for Synergies are pairs that won but with a higher score plus pairs that lost"
      ],
      "metadata": {
        "id": "QJ801krPet3H"
      }
    },
    {
      "cell_type": "code",
      "source": [
        "ChampionsWon=df.select([\"Champ1Team1\",\"Champ2Team1\",\"Champ3Team1\",\"Champ4Team1\",\"Champ5Team1\"])\n",
        "ChampionsWon=ChampionsWon.withColumn('champs',\n",
        "                    concat(col('Champ1Team1'),lit('_'),\n",
        "                           col('Champ2Team1'),lit('_'),\n",
        "                           col('Champ3Team1'),lit('_'),\n",
        "                           col('Champ4Team1'),lit('_'),\n",
        "                           col('Champ5Team1')))\n",
        "ChampionsWon=ChampionsWon.select(['champs'])"
      ],
      "metadata": {
        "id": "JLUiE2eVfJVB"
      },
      "execution_count": null,
      "outputs": []
    },
    {
      "cell_type": "code",
      "source": [
        "ChampionsLost=df.select([\"Champ1Team2\",\"Champ2Team2\",\"Champ3Team2\",\"Champ4Team2\",\"Champ5Team2\"])\n",
        "ChampionsLost=ChampionsLost.withColumn('champs',\n",
        "                    concat(col('Champ1Team2'),lit('_'),\n",
        "                           col('Champ2Team2'),lit('_'),\n",
        "                           col('Champ3Team2'),lit('_'),\n",
        "                           col('Champ4Team2'),lit('_'),\n",
        "                           col('Champ5Team2')))\n",
        "ChampionsLost=ChampionsLost.select(['champs'])"
      ],
      "metadata": {
        "id": "QK2H6HW-9GQD"
      },
      "execution_count": null,
      "outputs": []
    },
    {
      "cell_type": "code",
      "source": [
        "def GetChampCombinations(string):\n",
        "    champs = string.split('_')\n",
        "    #get the id of all the champions in the team\n",
        "    ChampIds = [int(champ.split(',')[0]) for champ in champs]\n",
        "    #replace the id with the name\n",
        "    ChampList = [Id_to_ChampName.get(str(id)) for id in ChampIds]\n",
        "    #sort the names to avoid tuples that contain the same two champions but in different order\n",
        "    ChampList.sort()\n",
        "    #return the combinations of the given team\n",
        "    return list(combinations(ChampList, 2))"
      ],
      "metadata": {
        "id": "8dkbNgM_xbOj"
      },
      "execution_count": null,
      "outputs": []
    },
    {
      "cell_type": "code",
      "source": [
        "SynergiesWon = ChampionsWon.rdd.flatMap(lambda x:x)\\\n",
        "          .map(lambda champList:GetChampCombinations(champList)) \\\n",
        "          .flatMap(lambda pair:pair) \\\n",
        "          .map(lambda pair:(pair,2)) \\\n",
        "          .reduceByKey(lambda pair1,pair2:pair1+pair2)\n",
        "\n",
        "SynergiesLost = ChampionsLost.rdd.flatMap(lambda x:x)\\\n",
        "          .map(lambda champList:GetChampCombinations(champList)) \\\n",
        "          .flatMap(lambda pair:pair) \\\n",
        "          .map(lambda pair:(pair,1)) \\\n",
        "          .reduceByKey(lambda pair1,pair2:pair1+pair2)\n",
        "\n",
        "Synergies = SynergiesLost.union(SynergiesWon)\\\n",
        "        .reduceByKey(lambda pair1,pair2:pair1+pair2) \\\n",
        "        .sortBy(lambda Syn:Syn[1],ascending=False) \\\n",
        "        .collect()"
      ],
      "metadata": {
        "id": "QsSgvQ2vfPBv"
      },
      "execution_count": null,
      "outputs": []
    },
    {
      "cell_type": "code",
      "source": [
        "data = dict(Synergies)\n",
        "pairs = list(data.keys())[:10]\n",
        "keys = ['&'.join(pair) for pair in pairs]\n",
        "values = list(data.values())[:10]\n",
        "fig, ax  = plt.subplots(figsize=(20,5))\n",
        "plt.bar(keys, values,color=['orange'],width = 0.5)\n",
        "ax.set_ylabel('Score')\n",
        "ax.set_xlabel('Champion Pairs')\n",
        "plt.title(\"Top 10 Champion Pairs\")\n",
        "plt.show()\n",
        "plt.savefig(savePath+'Top 10 Champion Pairs.png')"
      ],
      "metadata": {
        "colab": {
          "base_uri": "https://localhost:8080/",
          "height": 162
        },
        "id": "iNzI5ybTvyJ4",
        "outputId": "16813505-cde8-4638-d7ec-e0d60f29d588"
      },
      "execution_count": null,
      "outputs": [
        {
          "output_type": "display_data",
          "data": {
            "text/plain": [
              "<Figure size 1440x360 with 1 Axes>"
            ],
            "image/png": "[encoded data removed]"
          },
          "metadata": {
            "needs_background": "light"
          }
        },
        {
          "output_type": "display_data",
          "data": {
            "text/plain": [
              "<Figure size 432x288 with 0 Axes>"
            ]
          },
          "metadata": {}
        }
      ]
    },
    {
      "cell_type": "markdown",
      "source": [
        "##Item Win, Pick And Lose Rates"
      ],
      "metadata": {
        "id": "kc6nrjHWWhEb"
      }
    },
    {
      "cell_type": "markdown",
      "source": [
        "Some items appear alot in the game multple times accros the same team\n",
        "for example boots this item nearly every champion in match buys."
      ],
      "metadata": {
        "id": "NNYCHP3LIy2R"
      }
    },
    {
      "cell_type": "code",
      "source": [
        "# item ids of redundant items\n",
        "RedundantItems=['1001','3047','3111','3117','3158','3364','2003','2055','3006','3009','3020','2031']"
      ],
      "metadata": {
        "id": "P939EG5uJBoV"
      },
      "execution_count": null,
      "outputs": []
    },
    {
      "cell_type": "markdown",
      "source": [
        "###Item Win Rate"
      ],
      "metadata": {
        "id": "sS28kPSfWr0b"
      }
    },
    {
      "cell_type": "code",
      "source": [
        "#Since we made the data set we set the left team to be the one that won\n",
        "ChampionsWon=df.select([\"Champ1Team1\",\"Champ2Team1\",\"Champ3Team1\",\"Champ4Team1\",\"Champ5Team1\"])"
      ],
      "metadata": {
        "id": "msZR2zyRWrbS"
      },
      "execution_count": null,
      "outputs": []
    },
    {
      "cell_type": "code",
      "source": [
        "ItemWinRates= ChampionsWon.rdd.flatMap(lambda x:x)\\\n",
        "          .map(lambda Item:(Item.split(','))) \\\n",
        "          .flatMap(lambda Item:Item[1:]) \\\n",
        "          .map(lambda Item:(Item,1)) \\\n",
        "          .reduceByKey(lambda Item1,Item2:Item1+Item2) \\\n",
        "          .map(lambda Item:(Item[0],round((Item[1]/(df_count))*100,2))) \\\n",
        "          .filter(lambda Item: int(Item[0])>0 and Item[0] not in RedundantItems) \\\n",
        "          .map(lambda Item:(Id_to_ItemName.get(Item[0]),Item[1])) \\\n",
        "          .filter(lambda Item: Item[0] != None) \\\n",
        "          .sortBy(lambda Item: Item[1], ascending=False) \\\n",
        "          .collect()"
      ],
      "metadata": {
        "id": "qVmHQMVZW6zS"
      },
      "execution_count": null,
      "outputs": []
    },
    {
      "cell_type": "code",
      "source": [
        "data = dict(ItemWinRates)\n",
        "keys = list(data.keys())[:10]\n",
        "values = list(data.values())[:10]\n",
        "fig, ax  = plt.subplots(figsize=(20,5))\n",
        "plt.bar(keys, values,color=['green'],width = 0.5)\n",
        "ax.set_ylabel('Win Rate')\n",
        "ax.set_xlabel('Item')\n",
        "plt.title(\"Top 10 Win Rates\")\n",
        "plt.show()\n",
        "plt.savefig(savePath+'Top 10 Win Rates (Items).png')"
      ],
      "metadata": {
        "colab": {
          "base_uri": "https://localhost:8080/",
          "height": 162
        },
        "id": "NNPUi46HxA6F",
        "outputId": "a1b7a2dd-7492-4a79-b1b6-50ff7fda6f06"
      },
      "execution_count": null,
      "outputs": [
        {
          "output_type": "display_data",
          "data": {
            "text/plain": [
              "<Figure size 1440x360 with 1 Axes>"
            ],
            "image/png": "[encoded data removed]"
          },
          "metadata": {
            "needs_background": "light"
          }
        },
        {
          "output_type": "display_data",
          "data": {
            "text/plain": [
              "<Figure size 432x288 with 0 Axes>"
            ]
          },
          "metadata": {}
        }
      ]
    },
    {
      "cell_type": "markdown",
      "source": [
        "###Item Pick Rate"
      ],
      "metadata": {
        "id": "Os8nTP56WvRp"
      }
    },
    {
      "cell_type": "code",
      "source": [
        "#Sellect all items\n",
        "Champions=df.select([\"Champ1Team1\",\"Champ2Team1\",\"Champ3Team1\",\"Champ4Team1\",\"Champ5Team1\",\n",
        "\"Champ1Team2\",\"Champ2Team2\",\"Champ3Team2\",\"Champ4Team2\",\"Champ5Team2\"])"
      ],
      "metadata": {
        "id": "Akmiq5dLadA3"
      },
      "execution_count": null,
      "outputs": []
    },
    {
      "cell_type": "code",
      "source": [
        "ItemPickRates= Champions.rdd.flatMap(lambda x:x)\\\n",
        "          .map(lambda Item:(Item.split(','))) \\\n",
        "          .flatMap(lambda Item:Item[1:]) \\\n",
        "          .map(lambda Item:(Item,1)) \\\n",
        "          .reduceByKey(lambda Item1,Item2:Item1+Item2) \\\n",
        "          .map(lambda Item:(Item[0],round((Item[1]/(df_count*2))*100,2))) \\\n",
        "          .filter(lambda Item: int(Item[0])>0 and Item[0] not in RedundantItems) \\\n",
        "          .map(lambda Item:(Id_to_ItemName.get(Item[0]),Item[1])) \\\n",
        "          .filter(lambda Item: Item[0] != None) \\\n",
        "          .sortBy(lambda Item: Item[1], ascending=False) \\\n",
        "          .collect()"
      ],
      "metadata": {
        "id": "x3rJc0Q_adA-"
      },
      "execution_count": null,
      "outputs": []
    },
    {
      "cell_type": "code",
      "source": [
        "data = dict(ItemPickRates)\n",
        "keys = list(data.keys())[:10]\n",
        "values = list(data.values())[:10]\n",
        "fig, ax  = plt.subplots(figsize=(20,5))\n",
        "plt.bar(keys, values,width = 0.5)\n",
        "ax.set_ylabel('Pick Rate')\n",
        "ax.set_xlabel('Item')\n",
        "plt.title(\"Top 10 Pick Rates\")\n",
        "plt.show()\n",
        "plt.savefig(savePath+'Top 10 Pick Rates (Items).png')"
      ],
      "metadata": {
        "colab": {
          "base_uri": "https://localhost:8080/",
          "height": 162
        },
        "id": "p5HJUq7BxWP7",
        "outputId": "e4ea0a35-366e-48f0-88ac-aaec9fcec409"
      },
      "execution_count": null,
      "outputs": [
        {
          "output_type": "display_data",
          "data": {
            "text/plain": [
              "<Figure size 1440x360 with 1 Axes>"
            ],
            "image/png": "[encoded data removed]"
          },
          "metadata": {
            "needs_background": "light"
          }
        },
        {
          "output_type": "display_data",
          "data": {
            "text/plain": [
              "<Figure size 432x288 with 0 Axes>"
            ]
          },
          "metadata": {}
        }
      ]
    },
    {
      "cell_type": "markdown",
      "source": [
        "###Item Lose Rate"
      ],
      "metadata": {
        "id": "pv8zYNJWxWCM"
      }
    },
    {
      "cell_type": "code",
      "source": [
        "ChampionsLost=df.select([\"Champ1Team2\",\"Champ2Team2\",\"Champ3Team2\",\"Champ4Team2\",\"Champ5Team2\"])"
      ],
      "metadata": {
        "id": "gP0B_-s8xsFe"
      },
      "execution_count": null,
      "outputs": []
    },
    {
      "cell_type": "code",
      "source": [
        "ItemLoseRates= ChampionsLost.rdd.flatMap(lambda x:x)\\\n",
        "          .map(lambda Item:(Item.split(','))) \\\n",
        "          .flatMap(lambda Item:Item[1:]) \\\n",
        "          .map(lambda Item:(Item,1)) \\\n",
        "          .reduceByKey(lambda Item1,Item2:Item1+Item2) \\\n",
        "          .map(lambda Item:(Item[0],round((Item[1]/(df_count))*100,2))) \\\n",
        "          .filter(lambda Item: int(Item[0])>0 and Item[0] not in RedundantItems) \\\n",
        "          .map(lambda Item:(Id_to_ItemName.get(Item[0]),Item[1])) \\\n",
        "          .filter(lambda Item: Item[0] != None) \\\n",
        "          .sortBy(lambda Item: Item[1], ascending=False) \\\n",
        "          .collect()"
      ],
      "metadata": {
        "id": "KyVcCoiIxsFi"
      },
      "execution_count": null,
      "outputs": []
    },
    {
      "cell_type": "code",
      "source": [
        "data = dict(ItemLoseRates)\n",
        "keys = list(data.keys())[:10]\n",
        "values = list(data.values())[:10]\n",
        "fig, ax  = plt.subplots(figsize=(20,5))\n",
        "plt.bar(keys, values,color=['red'],width = 0.5)\n",
        "ax.set_ylabel('Lose Rate')\n",
        "ax.set_xlabel('Item')\n",
        "plt.title(\"Top 10 Lose Rates\")\n",
        "plt.show()\n",
        "plt.savefig(savePath+'Top 10 Lose Rates (Items).png')"
      ],
      "metadata": {
        "colab": {
          "base_uri": "https://localhost:8080/",
          "height": 162
        },
        "outputId": "ec4c80b4-fb50-4770-f65e-845bdbb484f2",
        "id": "pXnsVix-xsFk"
      },
      "execution_count": null,
      "outputs": [
        {
          "output_type": "display_data",
          "data": {
            "text/plain": [
              "<Figure size 1440x360 with 1 Axes>"
            ],
            "image/png": "[encoded data removed]"
          },
          "metadata": {
            "needs_background": "light"
          }
        },
        {
          "output_type": "display_data",
          "data": {
            "text/plain": [
              "<Figure size 432x288 with 0 Axes>"
            ]
          },
          "metadata": {}
        }
      ]
    },
    {
      "cell_type": "markdown",
      "source": [
        "##Item Synergies"
      ],
      "metadata": {
        "id": "fqRWGuKFQOeO"
      }
    },
    {
      "cell_type": "markdown",
      "source": [
        "Since Item Synergies are present in builds in generel\n",
        "we can go through both teams"
      ],
      "metadata": {
        "id": "QmNOF4eFQgay"
      }
    },
    {
      "cell_type": "code",
      "source": [
        "OurChosenItems=['3156','3157','3074']\n",
        "\n",
        "Champions=df.select([\"Champ1Team1\",\"Champ2Team1\",\"Champ3Team1\",\"Champ4Team1\",\"Champ5Team1\",\n",
        "                     \"Champ1Team2\",\"Champ2Team2\",\"Champ3Team2\",\"Champ4Team2\",\"Champ5Team2\"])"
      ],
      "metadata": {
        "id": "3WNXqj4cQ5PN"
      },
      "execution_count": null,
      "outputs": []
    },
    {
      "cell_type": "markdown",
      "source": [
        "###Item With Champion"
      ],
      "metadata": {
        "id": "d3RuhTuvQTBB"
      }
    },
    {
      "cell_type": "code",
      "source": [
        "ItemSynergies = Champions.rdd.flatMap(lambda x:x)\\\n",
        "          .map(lambda champ:(champ.split(','))) \\\n",
        "          .flatMap(lambda champ:[((champ[0],item),1)for item in champ[1:] if int(item)>0 and item not in RedundantItems and item in OurChosenItems]) \\\n",
        "          .reduceByKey(lambda champItem1,champItem2:champItem1+champItem2) \\\n",
        "          .map(lambda Item:((Id_to_ChampName.get(Item[0][0]),Id_to_ItemName.get(Item[0][1])),Item[1])) \\\n",
        "          .filter(lambda Item: Item[0][0] != None) \\\n",
        "          .sortBy(lambda Item: Item[1], ascending=False) \\\n",
        "          .collect()"
      ],
      "metadata": {
        "id": "PawObLmtWzD0"
      },
      "execution_count": null,
      "outputs": []
    },
    {
      "cell_type": "code",
      "source": [
        "data = dict(ItemSynergies)\n",
        "pairs = list(data.keys())\n",
        "keys = [pair for pair in pairs if pair[1]==Id_to_ItemName[OurChosenItems[0]]]\n",
        "values = [data[key] for key in keys][:5]\n",
        "keys = ['&'.join(pair) for pair in keys][:5]\n",
        "fig, ax  = plt.subplots(figsize=(20,5))\n",
        "plt.bar(keys, values,color=['orange'],width = 0.3)\n",
        "ax.set_ylabel('Score')\n",
        "ax.set_xlabel('Champion&Item Pairs')\n",
        "plt.title(\"Top 5 Champion&Item Pairs (Item-1)\")\n",
        "plt.show()\n",
        "plt.savefig(savePath+'Top 5 Champion&Item Pairs (Item-1).png')"
      ],
      "metadata": {
        "colab": {
          "base_uri": "https://localhost:8080/",
          "height": 162
        },
        "id": "_tvPvzTqy77h",
        "outputId": "0d4cc502-650b-422c-9e5a-a599967caf93"
      },
      "execution_count": null,
      "outputs": [
        {
          "output_type": "display_data",
          "data": {
            "text/plain": [
              "<Figure size 1440x360 with 1 Axes>"
            ],
            "image/png": "[encoded data removed]"
          },
          "metadata": {
            "needs_background": "light"
          }
        },
        {
          "output_type": "display_data",
          "data": {
            "text/plain": [
              "<Figure size 432x288 with 0 Axes>"
            ]
          },
          "metadata": {}
        }
      ]
    },
    {
      "cell_type": "code",
      "source": [
        "data = dict(ItemSynergies)\n",
        "pairs = list(data.keys())\n",
        "keys = [pair for pair in pairs if pair[1]==Id_to_ItemName[OurChosenItems[1]]]\n",
        "values = [data[key] for key in keys][:5]\n",
        "keys = ['&'.join(pair) for pair in keys][:5]\n",
        "fig, ax  = plt.subplots(figsize=(20,5))\n",
        "plt.bar(keys, values,color=['orange'],width = 0.3)\n",
        "ax.set_ylabel('Score')\n",
        "ax.set_xlabel('Champion&Item Pairs')\n",
        "plt.title(\"Top 5 Champion&Item Pairs (Item-2)\")\n",
        "plt.show()\n",
        "plt.savefig(savePath+'Top 5 Champion&Item Pairs (Item-2).png')"
      ],
      "metadata": {
        "colab": {
          "base_uri": "https://localhost:8080/",
          "height": 162
        },
        "id": "2oKaIH4U1WGw",
        "outputId": "34a67b3b-cb34-4d98-952d-3a8db8b240cd"
      },
      "execution_count": null,
      "outputs": [
        {
          "output_type": "display_data",
          "data": {
            "text/plain": [
              "<Figure size 1440x360 with 1 Axes>"
            ],
            "image/png": "[encoded data removed]"
          },
          "metadata": {
            "needs_background": "light"
          }
        },
        {
          "output_type": "display_data",
          "data": {
            "text/plain": [
              "<Figure size 432x288 with 0 Axes>"
            ]
          },
          "metadata": {}
        }
      ]
    },
    {
      "cell_type": "code",
      "source": [
        "data = dict(ItemSynergies)\n",
        "pairs = list(data.keys())\n",
        "keys = [pair for pair in pairs if pair[1]==Id_to_ItemName[OurChosenItems[2]]]\n",
        "values = [data[key] for key in keys][:5]\n",
        "keys = ['&'.join(pair) for pair in keys][:5]\n",
        "fig, ax  = plt.subplots(figsize=(20,5))\n",
        "plt.bar(keys, values,color=['orange'],width = 0.3)\n",
        "ax.set_ylabel('Score')\n",
        "ax.set_xlabel('Champion&Item Pairs')\n",
        "plt.title(\"Top 5 Champion&Item Pairs (Item-3)\")\n",
        "plt.show()\n",
        "plt.savefig(savePath+'Top 5 Champion&Item Pairs (Item-3).png')"
      ],
      "metadata": {
        "colab": {
          "base_uri": "https://localhost:8080/",
          "height": 162
        },
        "id": "18sF_X411iui",
        "outputId": "4393f6e6-2c10-4e93-afac-b6cfeaccb528"
      },
      "execution_count": null,
      "outputs": [
        {
          "output_type": "display_data",
          "data": {
            "text/plain": [
              "<Figure size 1440x360 with 1 Axes>"
            ],
            "image/png": "[encoded data removed]"
          },
          "metadata": {
            "needs_background": "light"
          }
        },
        {
          "output_type": "display_data",
          "data": {
            "text/plain": [
              "<Figure size 432x288 with 0 Axes>"
            ]
          },
          "metadata": {}
        }
      ]
    },
    {
      "cell_type": "markdown",
      "source": [
        "###Item With Class"
      ],
      "metadata": {
        "id": "tdPdL2_3QSki"
      }
    },
    {
      "cell_type": "code",
      "source": [
        "def TurnChampItemToClassItem(ChampItem):\n",
        "  ChampClasses=Id_to_ChampClass.get(ChampItem[0])\n",
        "  if len(ChampClasses)==2:\n",
        "    return  [((Class,ChampItem[1]),1) for Class in ChampClasses]\n",
        "  else:\n",
        "    return [((ChampClasses[0],ChampItem[1]),1)]"
      ],
      "metadata": {
        "id": "VbcJAeQIaiTX"
      },
      "execution_count": null,
      "outputs": []
    },
    {
      "cell_type": "code",
      "source": [
        "ItemClassSynergies = Champions.rdd.flatMap(lambda x:x)\\\n",
        "          .map(lambda champ:(champ.split(','))) \\\n",
        "          .flatMap(lambda champ:[(champ[0],item) for item in champ[1:] if int(item)>0 and item not in RedundantItems and item in OurChosenItems]) \\\n",
        "          .flatMap(lambda ChampItem:TurnChampItemToClassItem(ChampItem)) \\\n",
        "          .reduceByKey(lambda classItem1,classItem2:classItem1+classItem2) \\\n",
        "          .map(lambda Item:((Item[0][0],Id_to_ItemName.get(Item[0][1])),Item[1])) \\\n",
        "          .filter(lambda Item: Item[0][1] != None) \\\n",
        "          .sortBy(lambda Item: Item[1], ascending=False) \\\n",
        "          .collect()"
      ],
      "metadata": {
        "id": "gpEMtK9_QR-o"
      },
      "execution_count": null,
      "outputs": []
    },
    {
      "cell_type": "code",
      "source": [
        "data = dict(ItemClassSynergies)\n",
        "pairs = list(data.keys())\n",
        "keys = [pair for pair in pairs if pair[1]==Id_to_ItemName[OurChosenItems[0]]]\n",
        "values = [data[key] for key in keys][:5]\n",
        "keys = ['&'.join(pair) for pair in keys][:5]\n",
        "fig, ax  = plt.subplots(figsize=(20,5))\n",
        "plt.bar(keys, values,color=['orange'],width = 0.5)\n",
        "ax.set_ylabel('Score')\n",
        "ax.set_xlabel('Class&Item Pairs')\n",
        "plt.title(\"Top 5 Class&Item Pairs (Item-1)\")\n",
        "plt.show()\n",
        "plt.savefig(savePath+'Top 5 Class&Item Pairs(Item-1).png')"
      ],
      "metadata": {
        "colab": {
          "base_uri": "https://localhost:8080/",
          "height": 162
        },
        "id": "Q9y800fC2H8C",
        "outputId": "a7565320-cd62-412e-fac2-9de39382f3e9"
      },
      "execution_count": null,
      "outputs": [
        {
          "output_type": "display_data",
          "data": {
            "text/plain": [
              "<Figure size 1440x360 with 1 Axes>"
            ],
            "image/png": "[encoded data removed]"
          },
          "metadata": {
            "needs_background": "light"
          }
        },
        {
          "output_type": "display_data",
          "data": {
            "text/plain": [
              "<Figure size 432x288 with 0 Axes>"
            ]
          },
          "metadata": {}
        }
      ]
    },
    {
      "cell_type": "code",
      "source": [
        "data = dict(ItemClassSynergies)\n",
        "pairs = list(data.keys())\n",
        "keys = [pair for pair in pairs if pair[1]==Id_to_ItemName[OurChosenItems[1]]]\n",
        "values = [data[key] for key in keys][:5]\n",
        "keys = ['&'.join(pair) for pair in keys][:5]\n",
        "fig, ax  = plt.subplots(figsize=(20,5))\n",
        "plt.bar(keys, values,color=['orange'],width = 0.5)\n",
        "ax.set_ylabel('Score')\n",
        "ax.set_xlabel('Class&Item Pairs')\n",
        "plt.title(\"Top 5 Class&Item Pairs (Item-2)\")\n",
        "plt.show()\n",
        "plt.savefig(savePath+'Top 5 Class&Item Pairs(Item-2).png')"
      ],
      "metadata": {
        "colab": {
          "base_uri": "https://localhost:8080/",
          "height": 162
        },
        "id": "nB0f7Y6Z3e6c",
        "outputId": "bec9cd9d-846f-4e05-af7f-2e05e25a7522"
      },
      "execution_count": null,
      "outputs": [
        {
          "output_type": "display_data",
          "data": {
            "text/plain": [
              "<Figure size 1440x360 with 1 Axes>"
            ],
            "image/png": "[encoded data removed]"
          },
          "metadata": {
            "needs_background": "light"
          }
        },
        {
          "output_type": "display_data",
          "data": {
            "text/plain": [
              "<Figure size 432x288 with 0 Axes>"
            ]
          },
          "metadata": {}
        }
      ]
    },
    {
      "cell_type": "code",
      "source": [
        "data = dict(ItemClassSynergies)\n",
        "pairs = list(data.keys())\n",
        "keys = [pair for pair in pairs if pair[1]==Id_to_ItemName[OurChosenItems[2]]]\n",
        "values = [data[key] for key in keys][:5]\n",
        "keys = ['&'.join(pair) for pair in keys][:5]\n",
        "fig, ax  = plt.subplots(figsize=(20,5))\n",
        "plt.bar(keys, values,color=['orange'],width = 0.5)\n",
        "ax.set_ylabel('Score')\n",
        "ax.set_xlabel('Class&Item Pairs')\n",
        "plt.title(\"Top 5 Class&Item Pairs (Item-3)\")\n",
        "plt.show()\n",
        "plt.savefig(savePath+'Top 5 Class&Item Pairs(Item-3).png')"
      ],
      "metadata": {
        "colab": {
          "base_uri": "https://localhost:8080/",
          "height": 162
        },
        "id": "sgq6BPnI3iAH",
        "outputId": "dfa6615e-d2c0-48e0-f92d-9964fd9b0355"
      },
      "execution_count": null,
      "outputs": [
        {
          "output_type": "display_data",
          "data": {
            "text/plain": [
              "<Figure size 1440x360 with 1 Axes>"
            ],
            "image/png": "[encoded data removed]"
          },
          "metadata": {
            "needs_background": "light"
          }
        },
        {
          "output_type": "display_data",
          "data": {
            "text/plain": [
              "<Figure size 432x288 with 0 Axes>"
            ]
          },
          "metadata": {}
        }
      ]
    },
    {
      "cell_type": "markdown",
      "source": [
        "##Item Suggestion\n",
        "We will try to suggest Builds\n",
        "The judge here is that good items appear more."
      ],
      "metadata": {
        "id": "jE2fAuZLfZTn"
      }
    },
    {
      "cell_type": "code",
      "source": [
        "Champions=df.select([\"Champ1Team1\",\"Champ2Team1\",\"Champ3Team1\",\"Champ4Team1\",\"Champ5Team1\",\n",
        "                     \"Champ1Team2\",\"Champ2Team2\",\"Champ3Team2\",\"Champ4Team2\",\"Champ5Team2\"])\n",
        "Champions.show(5)"
      ],
      "metadata": {
        "colab": {
          "base_uri": "https://localhost:8080/"
        },
        "id": "O8qGAYDYWzXx",
        "outputId": "c9313775-0c65-402e-f1ed-e3f91b370045"
      },
      "execution_count": null,
      "outputs": [
        {
          "output_type": "stream",
          "name": "stdout",
          "text": [
            "+--------------------+--------------------+--------------------+--------------------+--------------------+--------------------+--------------------+--------------------+--------------------+--------------------+\n",
            "|         Champ1Team1|         Champ2Team1|         Champ3Team1|         Champ4Team1|         Champ5Team1|         Champ1Team2|         Champ2Team2|         Champ3Team2|         Champ4Team2|         Champ5Team2|\n",
            "+--------------------+--------------------+--------------------+--------------------+--------------------+--------------------+--------------------+--------------------+--------------------+--------------------+\n",
            "|48,3074,6632,3047...|82,666,531,164,63...|246,669,631,563,1...|67,3124,6672,3006...|63,385,366,533,02...|41,2033,3508,3047...|56,6696,3156,6691...|90,665,331,164,63...|81,3074,3158,3078...|29,311,538,533,00...|\n",
            "|82,105,446,333,15...|131,315,231,573,0...|777,300,666,733,0...|236,667,120,313,5...|111,3190,0,3860,2...|24,105,531,583,07...|79,3152,3165,3020...|157,3140,6673,0,3...|523,303,166,722,4...|117,315,820,653,1...|\n",
            "|67,105,530,061,08...|234,6632,2031,304...|84,242,020,313,15...|119,350,831,393,0...|16,105,238,531,05...|82,3116,3047,2031...|141,203,166,303,0...|91,663,063,333,14...|29,315,310,381,03...|117,3011,3158,464...|\n",
            "|23,667,130,316,67...|254,6632,3047,0,3...|90,302,066,533,91...|202,304,766,766,6...|235,300,938,646,6...|83,3181,3047,6632...|131,2031,3152,315...|39,315,366,701,05...|67,1055,3006,6673...|50,385,331,573,11...|\n",
            "|266,669,430,471,0...|120,315,866,653,0...|91,307,466,946,69...|145,667,266,763,0...|161,3853,4628,300...|516,702,610,293,0...|141,701,531,586,3...|238,307,431,423,0...|81,350,831,233,04...|53,385,731,177,02...|\n",
            "+--------------------+--------------------+--------------------+--------------------+--------------------+--------------------+--------------------+--------------------+--------------------+--------------------+\n",
            "only showing top 5 rows\n",
            "\n"
          ]
        }
      ]
    },
    {
      "cell_type": "code",
      "source": [
        "def GetChampBuild(champ):\n",
        "  champData=champ.split(',')\n",
        "  champName=Id_to_ChampName[champData[0]]\n",
        "  champItems=[(champName, Id_to_ItemName.get(id)) for id in champData[1:] if Id_to_ItemName.get(id) != None]\n",
        "  return champItems"
      ],
      "metadata": {
        "id": "fEoI8wE9n8TC"
      },
      "execution_count": null,
      "outputs": []
    },
    {
      "cell_type": "code",
      "source": [
        "Builds = Champions.rdd.flatMap(lambda x:x)\\\n",
        "          .flatMap(lambda champ:GetChampBuild(champ)) \\\n",
        "          .filter(lambda Item: Item[1] != None) \\\n",
        "          .map(lambda champItem:(champItem,1)) \\\n",
        "          .reduceByKey(lambda champItem1,champItem2:champItem1+champItem2) \\\n",
        "          .map(lambda champItem:(champItem[0][0],(champItem[0][1],champItem[1]))) \\\n",
        "          .reduceByKey(lambda champItem1,champItem2:champItem1+champItem2) \\\n",
        "          .collect()\n",
        "# now we have dict for all items a champion buys\n",
        "# lets start recommending"
      ],
      "metadata": {
        "id": "8iumdELRfwe2"
      },
      "execution_count": null,
      "outputs": []
    },
    {
      "cell_type": "code",
      "source": [
        "# lets first create a txt file that will contain the champ items\n",
        "# to recommend realtime with a python script given the champ name\n",
        "BuildsDict = dict(Builds)\n",
        "champNames = list(BuildsDict.keys())\n",
        "SortedDictBuilds={}\n",
        "for champ in champNames:\n",
        "  temp=[]\n",
        "  for i in range(0,len(BuildsDict[champ]),2):\n",
        "    temp.append((BuildsDict[champ][i+1],BuildsDict[champ][i]))\n",
        "  temp.sort(reverse=True)\n",
        "  SortedDictBuilds[champ]=temp\n",
        "\n",
        "with open(savePath+'ChampBuilds.txt','w') as f:\n",
        "  for champ in champNames:\n",
        "    f.write('{}\\t{}\\n'.format(champ,\",\".join(item[1] for item in SortedDictBuilds[champ])))\n",
        "f.close()"
      ],
      "metadata": {
        "id": "7dAHTgaddZyu"
      },
      "execution_count": null,
      "outputs": []
    },
    {
      "cell_type": "code",
      "source": [
        "OurChosenChamps=['Zed','Zac','Brand','Jinx','Aatrox']"
      ],
      "metadata": {
        "id": "fD1rmYZFVZfa"
      },
      "execution_count": null,
      "outputs": []
    },
    {
      "cell_type": "code",
      "source": [
        "for champ in OurChosenChamps:\n",
        "  print(champ)\n",
        "  for i in range(0,6):\n",
        "    print('\\t',SortedDictBuilds[champ][i][1])\n",
        "  print(\"*\"*40)"
      ],
      "metadata": {
        "colab": {
          "base_uri": "https://localhost:8080/"
        },
        "id": "rqFMekxWVnsN",
        "outputId": "d3464de3-0c70-4a82-e8e4-e8229d147f0e"
      },
      "execution_count": null,
      "outputs": [
        {
          "output_type": "stream",
          "name": "stdout",
          "text": [
            "Zed\n",
            "\t Ionian Boots of Lucidity\n",
            "\t Eclipse\n",
            "\t Youmuu's Ghostblade\n",
            "\t Long Sword\n",
            "\t Serylda's Grudge\n",
            "\t Ravenous Hydra\n",
            "****************************************\n",
            "Zac\n",
            "\t Sunfire Aegis\n",
            "\t Ionian Boots of Lucidity\n",
            "\t Demonic Embrace\n",
            "\t Thornmail\n",
            "\t Plated Steelcaps\n",
            "\t Refillable Potion\n",
            "****************************************\n",
            "Brand\n",
            "\t Liandry's Anguish\n",
            "\t Sorcerer's Shoes\n",
            "\t Shard of True Ice\n",
            "\t Demonic Embrace\n",
            "\t Rylai's Crystal Scepter\n",
            "\t Zhonya's Hourglass\n",
            "****************************************\n",
            "Jinx\n",
            "\t Berserker's Greaves\n",
            "\t Kraken Slayer\n",
            "\t Doran's Blade\n",
            "\t Phantom Dancer\n",
            "\t Infinity Edge\n",
            "\t Rapid Firecannon\n",
            "****************************************\n",
            "Aatrox\n",
            "\t Plated Steelcaps\n",
            "\t Eclipse\n",
            "\t Black Cleaver\n",
            "\t Death's Dance\n",
            "\t Doran's Shield\n",
            "\t Mercury's Treads\n",
            "****************************************\n"
          ]
        }
      ]
    },
    {
      "cell_type": "markdown",
      "source": [
        "#Proposal"
      ],
      "metadata": {
        "id": "As619JLjqq5m"
      }
    },
    {
      "cell_type": "code",
      "source": [
        "MetaWon = df.select([\"MetaTeam1\"])"
      ],
      "metadata": {
        "id": "Hj-uCgYHtH02"
      },
      "execution_count": null,
      "outputs": []
    },
    {
      "cell_type": "markdown",
      "source": [
        "##Win Rate&Baron Kills"
      ],
      "metadata": {
        "id": "UqomqAeRY-ih"
      }
    },
    {
      "cell_type": "code",
      "source": [
        "BaronWinRates = MetaWon.rdd.flatMap(lambda x:x)\\\n",
        "          .map(lambda champ:(champ.split(',')[1],1)) \\\n",
        "          .reduceByKey(lambda g1,g2:g1+g2) \\\n",
        "          .map(lambda game:(game[0],round((game[1]/(df_count))*100,2)))\\\n",
        "          .sortBy(lambda game: game[0])\\\n",
        "          .collect()\n",
        "BaronWinRates"
      ],
      "metadata": {
        "colab": {
          "base_uri": "https://localhost:8080/"
        },
        "id": "9nNymywLtH04",
        "outputId": "6870e23c-2562-47aa-da10-8bd46283b6ee"
      },
      "execution_count": null,
      "outputs": [
        {
          "output_type": "execute_result",
          "data": {
            "text/plain": [
              "[('0', 35.43),\n",
              " ('1', 51.05),\n",
              " ('2', 12.59),\n",
              " ('3', 0.89),\n",
              " ('4', 0.04),\n",
              " ('5', 0.0)]"
            ]
          },
          "metadata": {},
          "execution_count": 67
        }
      ]
    },
    {
      "cell_type": "code",
      "source": [
        "data = dict(BaronWinRates)\n",
        "keys = list(data.keys())\n",
        "values = list(data.values())\n",
        "fig, ax  = plt.subplots(figsize=(20,5))\n",
        "plt.bar(keys, values,color=['green'],width = 0.5)\n",
        "ax.set_ylabel('Win Rate')\n",
        "ax.set_xlabel('Baron Kills')\n",
        "plt.title(\"Win Rate & Baron Kills\")\n",
        "plt.show()\n",
        "plt.savefig(savePath+'Win Rate & Baron Kills.png')"
      ],
      "metadata": {
        "colab": {
          "base_uri": "https://localhost:8080/",
          "height": 162
        },
        "outputId": "af1021c7-950e-426f-faab-e9430f57c518",
        "id": "CIrBlkWTtH05"
      },
      "execution_count": null,
      "outputs": [
        {
          "output_type": "display_data",
          "data": {
            "text/plain": [
              "<Figure size 1440x360 with 1 Axes>"
            ],
            "image/png": "[encoded data removed]"
          },
          "metadata": {
            "needs_background": "light"
          }
        },
        {
          "output_type": "display_data",
          "data": {
            "text/plain": [
              "<Figure size 432x288 with 0 Axes>"
            ]
          },
          "metadata": {}
        }
      ]
    },
    {
      "cell_type": "markdown",
      "source": [
        "##Win Rate&Dragon Kills"
      ],
      "metadata": {
        "id": "Oky2tTYTZLxN"
      }
    },
    {
      "cell_type": "code",
      "source": [
        "DragonWinRates = MetaWon.rdd.flatMap(lambda x:x)\\\n",
        "          .map(lambda champ:(champ.split(',')[2],1)) \\\n",
        "          .reduceByKey(lambda g1,g2:g1+g2) \\\n",
        "          .map(lambda game:(game[0],round((game[1]/(df_count))*100,2)))\\\n",
        "          .sortBy(lambda game: game[0])\\\n",
        "          .collect()\n",
        "DragonWinRates"
      ],
      "metadata": {
        "colab": {
          "base_uri": "https://localhost:8080/"
        },
        "outputId": "4cef0700-a552-40da-997b-0f74eff15082",
        "id": "QCgHdhSHwfNY"
      },
      "execution_count": null,
      "outputs": [
        {
          "output_type": "execute_result",
          "data": {
            "text/plain": [
              "[('0', 3.46),\n",
              " ('1', 10.56),\n",
              " ('2', 27.19),\n",
              " ('3', 32.41),\n",
              " ('4', 22.49),\n",
              " ('5', 3.71),\n",
              " ('6', 0.17),\n",
              " ('7', 0.01)]"
            ]
          },
          "metadata": {},
          "execution_count": 69
        }
      ]
    },
    {
      "cell_type": "code",
      "source": [
        "data = dict(DragonWinRates)\n",
        "keys = list(data.keys())\n",
        "values = list(data.values())\n",
        "fig, ax  = plt.subplots(figsize=(20,5))\n",
        "plt.bar(keys, values,color=['green'],width = 0.5)\n",
        "ax.set_ylabel('Win Rate')\n",
        "ax.set_xlabel('Dragon Kills')\n",
        "plt.title(\"Win Rate & Dragon Kills\")\n",
        "plt.show()\n",
        "plt.savefig(savePath+'Win Rate & Dragon Kills.png')"
      ],
      "metadata": {
        "colab": {
          "base_uri": "https://localhost:8080/",
          "height": 162
        },
        "outputId": "c770a353-5b8f-41b8-a135-358dd74162e1",
        "id": "68pist7TwfNZ"
      },
      "execution_count": null,
      "outputs": [
        {
          "output_type": "display_data",
          "data": {
            "text/plain": [
              "<Figure size 1440x360 with 1 Axes>"
            ],
            "image/png": "[encoded data removed]"
          },
          "metadata": {
            "needs_background": "light"
          }
        },
        {
          "output_type": "display_data",
          "data": {
            "text/plain": [
              "<Figure size 432x288 with 0 Axes>"
            ]
          },
          "metadata": {}
        }
      ]
    },
    {
      "cell_type": "markdown",
      "source": [
        "##Win Rate&Rift Kills"
      ],
      "metadata": {
        "id": "BfrEq_KHrgaj"
      }
    },
    {
      "cell_type": "code",
      "source": [
        "RiftWinRates = MetaWon.rdd.flatMap(lambda x:x)\\\n",
        "          .map(lambda champ:(champ.split(',')[3],1)) \\\n",
        "          .reduceByKey(lambda g1,g2:g1+g2) \\\n",
        "          .map(lambda game:(game[0],round((game[1]/(df_count))*100,2)))\\\n",
        "          .sortBy(lambda game: game[0])\\\n",
        "          .collect()\n",
        "RiftWinRates"
      ],
      "metadata": {
        "colab": {
          "base_uri": "https://localhost:8080/"
        },
        "outputId": "e6a9e01e-4e75-42e3-bea0-600a85fa9fc4",
        "id": "ptoDeHUUwzZE"
      },
      "execution_count": null,
      "outputs": [
        {
          "output_type": "execute_result",
          "data": {
            "text/plain": [
              "[('0', 30.75), ('1', 43.32), ('2', 25.93)]"
            ]
          },
          "metadata": {},
          "execution_count": 71
        }
      ]
    },
    {
      "cell_type": "code",
      "source": [
        "data = dict(RiftWinRates)\n",
        "keys = list(data.keys())\n",
        "values = list(data.values())\n",
        "fig, ax  = plt.subplots(figsize=(20,5))\n",
        "plt.bar(keys, values,color=['green'],width = 0.5)\n",
        "ax.set_ylabel('Win Rate')\n",
        "ax.set_xlabel('Rift Kills')\n",
        "plt.title(\"Win Rate & Rift Kills\")\n",
        "plt.show()\n",
        "plt.savefig(savePath+'Win Rate & Rift Kills.png')"
      ],
      "metadata": {
        "colab": {
          "base_uri": "https://localhost:8080/",
          "height": 162
        },
        "outputId": "cd57bbb8-d36b-4417-8707-3adc68e403c8",
        "id": "QO8Jyt_zwzZG"
      },
      "execution_count": null,
      "outputs": [
        {
          "output_type": "display_data",
          "data": {
            "text/plain": [
              "<Figure size 1440x360 with 1 Axes>"
            ],
            "image/png": "[encoded data removed]"
          },
          "metadata": {
            "needs_background": "light"
          }
        },
        {
          "output_type": "display_data",
          "data": {
            "text/plain": [
              "<Figure size 432x288 with 0 Axes>"
            ]
          },
          "metadata": {}
        }
      ]
    },
    {
      "cell_type": "markdown",
      "source": [
        "##Win Rate&Baron&Dragon Kills"
      ],
      "metadata": {
        "id": "fqVL9o83ZOfC"
      }
    },
    {
      "cell_type": "code",
      "source": [
        "BaronDragonWinRates = MetaWon.rdd.flatMap(lambda x:x)\\\n",
        "          .map(lambda champ:(champ.split(',')[1]+\"&\"+champ.split(',')[2],1)) \\\n",
        "          .reduceByKey(lambda g1,g2:g1+g2) \\\n",
        "          .map(lambda game:(game[0],round((game[1]/(df_count))*100,2)))\\\n",
        "          .sortBy(lambda game: game[1],ascending=False)\\\n",
        "          .collect()"
      ],
      "metadata": {
        "id": "_HJR1LO2xRiy"
      },
      "execution_count": null,
      "outputs": []
    },
    {
      "cell_type": "code",
      "source": [
        "data = dict(BaronDragonWinRates)\n",
        "keys = list(data.keys())[:5]\n",
        "values = list(data.values())[:5]\n",
        "fig, ax  = plt.subplots(figsize=(20,5))\n",
        "plt.bar(keys, values,color=['green'],width = 0.5)\n",
        "ax.set_ylabel('Win Rate')\n",
        "ax.set_xlabel('Baron&Dragon Kills')\n",
        "plt.title(\"Win Rate & Baron&Dragon Kills\")\n",
        "plt.show()\n",
        "plt.savefig(savePath+'Win Rate Baron&Dragon Kills.png')"
      ],
      "metadata": {
        "colab": {
          "base_uri": "https://localhost:8080/",
          "height": 162
        },
        "outputId": "f9d0cb6c-cb32-42b6-c0ab-dbacb900a3b5",
        "id": "HHYmK9o1xRi1"
      },
      "execution_count": null,
      "outputs": [
        {
          "output_type": "display_data",
          "data": {
            "text/plain": [
              "<Figure size 1440x360 with 1 Axes>"
            ],
            "image/png": "[encoded data removed]"
          },
          "metadata": {
            "needs_background": "light"
          }
        },
        {
          "output_type": "display_data",
          "data": {
            "text/plain": [
              "<Figure size 432x288 with 0 Axes>"
            ]
          },
          "metadata": {}
        }
      ]
    },
    {
      "cell_type": "markdown",
      "source": [
        "##Team Champion Kills&Win Rate"
      ],
      "metadata": {
        "id": "y0hqi0YrZXiq"
      }
    },
    {
      "cell_type": "code",
      "source": [
        "ChampionWinRates = MetaWon.rdd.flatMap(lambda x:x)\\\n",
        "          .map(lambda champ:(champ.split(',')[0],1)) \\\n",
        "          .reduceByKey(lambda g1,g2:g1+g2) \\\n",
        "          .map(lambda game:(game[0],round((game[1]/(df_count))*100,2)))\\\n",
        "          .sortBy(lambda game: game[1],ascending=False)\\\n",
        "          .collect()"
      ],
      "metadata": {
        "id": "clgB0y8IyfRO"
      },
      "execution_count": null,
      "outputs": []
    },
    {
      "cell_type": "code",
      "source": [
        "data = dict(ChampionWinRates)\n",
        "keys = list(data.keys())[:5]\n",
        "values = list(data.values())[:5]\n",
        "fig, ax  = plt.subplots(figsize=(20,5))\n",
        "plt.bar(keys, values,color=['green'],width = 0.5)\n",
        "ax.set_ylabel('Win Rate')\n",
        "ax.set_xlabel('Champion Kills')\n",
        "plt.title(\"Win Rate & Champion Kills\")\n",
        "plt.show()\n",
        "plt.savefig(savePath+'Win Rate & Champion Kills.png')"
      ],
      "metadata": {
        "colab": {
          "base_uri": "https://localhost:8080/",
          "height": 162
        },
        "outputId": "3b1ac026-a0dc-4bfa-d45c-5ab7716c9af2",
        "id": "u-EwMkhryfRO"
      },
      "execution_count": null,
      "outputs": [
        {
          "output_type": "display_data",
          "data": {
            "text/plain": [
              "<Figure size 1440x360 with 1 Axes>"
            ],
            "image/png": "[encoded data removed]"
          },
          "metadata": {
            "needs_background": "light"
          }
        },
        {
          "output_type": "display_data",
          "data": {
            "text/plain": [
              "<Figure size 432x288 with 0 Axes>"
            ]
          },
          "metadata": {}
        }
      ]
    },
    {
      "cell_type": "markdown",
      "source": [
        "##Champion Kills&Champion"
      ],
      "metadata": {
        "id": "EJsILXtwoGos"
      }
    },
    {
      "cell_type": "code",
      "source": [
        "#MetaData Order['champion','baron','dragon','riftHerald','tower']\n",
        "\n",
        "#[\"Champ1Team1\",\"Champ2Team1\",\"Champ3Team1\",\"Champ4Team1\",\"Champ5Team1\",\"BansTeam1\",\"MetaTeam1\",\n",
        "#\"Champ1Team2\",\"Champ2Team2\",\"Champ3Team2\",\"Champ4Team2\",\"Champ5Team2\",\"BansTeam2\",\"MetaTeam2\",\n",
        "#'gameDuration (Mins)','gameVersion']\n",
        "\n",
        "#we first need to prepare the columns for Rdd Operaions to be done\n",
        "df_New = df.select([\n",
        "  #Team that won but every champion carries the meta data and game time\n",
        "  concat(col(\"Champ1Team1\"), lit(\",\"), col(\"MetaTeam1\"), lit(\",\"), col(\"gameDuration (Mins)\")).alias('Champ1Team1'),\n",
        "  concat(col(\"Champ2Team1\"), lit(\",\"), col(\"MetaTeam1\"), lit(\",\"), col(\"gameDuration (Mins)\")).alias('Champ2Team1'),\n",
        "  concat(col(\"Champ3Team1\"), lit(\",\"), col(\"MetaTeam1\"), lit(\",\"), col(\"gameDuration (Mins)\")).alias('Champ3Team1'),\n",
        "  concat(col(\"Champ4Team1\"), lit(\",\"), col(\"MetaTeam1\"), lit(\",\"), col(\"gameDuration (Mins)\")).alias('Champ4Team1'),\n",
        "  concat(col(\"Champ5Team1\"), lit(\",\"), col(\"MetaTeam1\"), lit(\",\"), col(\"gameDuration (Mins)\")).alias('Champ5Team1'),\n",
        "  #Team that lost but every champion carries the meta data and game time\n",
        "  concat(col(\"Champ1Team2\"), lit(\",\"), col(\"MetaTeam2\"), lit(\",\"), col(\"gameDuration (Mins)\")).alias('Champ1Team2'),\n",
        "  concat(col(\"Champ2Team2\"), lit(\",\"), col(\"MetaTeam2\"), lit(\",\"), col(\"gameDuration (Mins)\")).alias('Champ2Team2'),\n",
        "  concat(col(\"Champ3Team2\"), lit(\",\"), col(\"MetaTeam2\"), lit(\",\"), col(\"gameDuration (Mins)\")).alias('Champ3Team2'),\n",
        "  concat(col(\"Champ4Team2\"), lit(\",\"), col(\"MetaTeam2\"), lit(\",\"), col(\"gameDuration (Mins)\")).alias('Champ4Team2'),\n",
        "  concat(col(\"Champ5Team2\"), lit(\",\"), col(\"MetaTeam2\"), lit(\",\"), col(\"gameDuration (Mins)\")).alias('Champ5Team2'),\n",
        "])"
      ],
      "metadata": {
        "id": "QGht2QMAoP_d"
      },
      "execution_count": null,
      "outputs": []
    },
    {
      "cell_type": "code",
      "source": [
        "df_New.show(1)"
      ],
      "metadata": {
        "colab": {
          "base_uri": "https://localhost:8080/"
        },
        "id": "K7qo8TvQoPw2",
        "outputId": "940b7722-83ea-41ba-8066-6b30b62d6a51"
      },
      "execution_count": null,
      "outputs": [
        {
          "output_type": "stream",
          "name": "stdout",
          "text": [
            "+--------------------+--------------------+--------------------+--------------------+--------------------+--------------------+--------------------+--------------------+--------------------+--------------------+\n",
            "|         Champ1Team1|         Champ2Team1|         Champ3Team1|         Champ4Team1|         Champ5Team1|         Champ1Team2|         Champ2Team2|         Champ3Team2|         Champ4Team2|         Champ5Team2|\n",
            "+--------------------+--------------------+--------------------+--------------------+--------------------+--------------------+--------------------+--------------------+--------------------+--------------------+\n",
            "|48,3074,6632,3047...|82,666,531,164,63...|246,669,631,563,1...|67,3124,6672,3006...|63,385,366,533,02...|41,2033,3508,3047...|56,6696,3156,6691...|90,665,331,164,63...|81,3074,3158,3078...|29,311,538,533,00...|\n",
            "+--------------------+--------------------+--------------------+--------------------+--------------------+--------------------+--------------------+--------------------+--------------------+--------------------+\n",
            "only showing top 1 row\n",
            "\n"
          ]
        }
      ]
    },
    {
      "cell_type": "code",
      "source": [
        "#One champion cell carries this information\n",
        "#       0         1        2        3        4        5        6        7         8       9         10         11             12\n",
        "#['championId','item0', 'item1', 'item2', 'item3', 'item4', 'item5','champion','baron','dragon','riftHerald','tower','gameDuration (Mins)']"
      ],
      "metadata": {
        "id": "wyHVx0zzrNAE"
      },
      "execution_count": null,
      "outputs": []
    },
    {
      "cell_type": "code",
      "source": [
        "Champion_TeamKills = df_New.rdd.flatMap(lambda x:x)\\\n",
        "          .map(lambda champ:(champ.split(',')[0],(int(champ.split(',')[7]),1))) \\\n",
        "          .reduceByKey(lambda c1,c2:(c1[0]+c2[0],c1[1]+c2[1])) \\\n",
        "          .map(lambda champ:(champ[0],round((champ[1][0]/champ[1][1]),2)))\\\n",
        "          .sortBy(lambda game: game[1],ascending=False)\\\n",
        "          .map(lambda champ:(Id_to_ChampName.get(champ[0]),champ[1])) \\\n",
        "          .collect()"
      ],
      "metadata": {
        "id": "W6FUs3zKznEW"
      },
      "execution_count": null,
      "outputs": []
    },
    {
      "cell_type": "code",
      "source": [
        "data = dict(Champion_TeamKills)\n",
        "keys = list(data.keys())[:5]\n",
        "values = list(data.values())[:5]\n",
        "fig, ax  = plt.subplots(figsize=(20,5))\n",
        "plt.bar(keys, values,color=['teal'],width = 0.5)\n",
        "ax.set_ylabel('Average Team Kills')\n",
        "ax.set_xlabel('Champion')\n",
        "plt.title(\"Average Team Kills & Champion\")\n",
        "plt.show()\n",
        "plt.savefig(savePath+'Average Team Kills & Champion.png')"
      ],
      "metadata": {
        "colab": {
          "base_uri": "https://localhost:8080/",
          "height": 162
        },
        "outputId": "922b4299-1ddd-47d3-df5a-59d8d7e9bb4f",
        "id": "-SYM7tzbznEY"
      },
      "execution_count": null,
      "outputs": [
        {
          "output_type": "display_data",
          "data": {
            "text/plain": [
              "<Figure size 1440x360 with 1 Axes>"
            ],
            "image/png": "[encoded data removed]"
          },
          "metadata": {
            "needs_background": "light"
          }
        },
        {
          "output_type": "display_data",
          "data": {
            "text/plain": [
              "<Figure size 432x288 with 0 Axes>"
            ]
          },
          "metadata": {}
        }
      ]
    },
    {
      "cell_type": "markdown",
      "source": [
        "##Tower Kills&Champion"
      ],
      "metadata": {
        "id": "vLciTb_yZlh8"
      }
    },
    {
      "cell_type": "code",
      "source": [
        "Champion_TowerKills = df_New.rdd.flatMap(lambda x:x)\\\n",
        "          .map(lambda champ:(champ.split(',')[0],(int(champ.split(',')[11]),1))) \\\n",
        "          .reduceByKey(lambda c1,c2:(c1[0]+c2[0],c1[1]+c2[1])) \\\n",
        "          .map(lambda champ:(champ[0],round((champ[1][0]/champ[1][1]),2)))\\\n",
        "          .sortBy(lambda champ: champ[1],ascending=False)\\\n",
        "          .map(lambda champ:(Id_to_ChampName.get(champ[0]),champ[1])) \\\n",
        "          .collect()"
      ],
      "metadata": {
        "id": "44ZyYRiE2BDM"
      },
      "execution_count": null,
      "outputs": []
    },
    {
      "cell_type": "code",
      "source": [
        "data = dict(Champion_TowerKills)\n",
        "keys = list(data.keys())[:5]\n",
        "values = list(data.values())[:5]\n",
        "fig, ax  = plt.subplots(figsize=(20,5))\n",
        "plt.bar(keys, values,color=['teal'],width = 0.5)\n",
        "ax.set_ylabel('Average Tower Kills')\n",
        "ax.set_xlabel('Champion')\n",
        "plt.title(\"Average Tower Kills & Champion\")\n",
        "plt.show()\n",
        "plt.savefig(savePath+'Average Tower Kills & Champion.png')"
      ],
      "metadata": {
        "colab": {
          "base_uri": "https://localhost:8080/",
          "height": 162
        },
        "outputId": "c62db823-8414-448a-cff0-b31a3adeec27",
        "id": "_3-LdI1g2BDQ"
      },
      "execution_count": null,
      "outputs": [
        {
          "output_type": "display_data",
          "data": {
            "text/plain": [
              "<Figure size 1440x360 with 1 Axes>"
            ],
            "image/png": "[encoded data removed]"
          },
          "metadata": {
            "needs_background": "light"
          }
        },
        {
          "output_type": "display_data",
          "data": {
            "text/plain": [
              "<Figure size 432x288 with 0 Axes>"
            ]
          },
          "metadata": {}
        }
      ]
    },
    {
      "cell_type": "markdown",
      "source": [
        "##Game Time&Champion"
      ],
      "metadata": {
        "id": "7mYYvZ13a35D"
      }
    },
    {
      "cell_type": "code",
      "source": [
        "Champion_GameTime = df_New.rdd.flatMap(lambda x:x)\\\n",
        "          .map(lambda champ:(champ.split(',')[0],(float(champ.split(',')[12]),1))) \\\n",
        "          .reduceByKey(lambda c1,c2:(c1[0]+c2[0],c1[1]+c2[1])) \\\n",
        "          .map(lambda champ:(champ[0],round((champ[1][0]/champ[1][1]),2)))\\\n",
        "          .sortBy(lambda champ: champ[1],ascending=False)\\\n",
        "          .map(lambda champ:(Id_to_ChampName.get(champ[0]),champ[1])) \\\n",
        "          .collect()"
      ],
      "metadata": {
        "id": "t4V1zeKM2Rjr"
      },
      "execution_count": null,
      "outputs": []
    },
    {
      "cell_type": "code",
      "source": [
        "data = dict(Champion_GameTime)\n",
        "keys = list(data.keys())[:5]\n",
        "values = list(data.values())[:5]\n",
        "fig, ax  = plt.subplots(figsize=(20,5))\n",
        "plt.bar(keys, values,color=['teal'],width = 0.5)\n",
        "ax.set_ylabel('Average Game Time (Mins)')\n",
        "ax.set_xlabel('Champion')\n",
        "plt.title(\"Average Game Time & Champion\")\n",
        "plt.show()\n",
        "plt.savefig(savePath+'Average Game Time & Champion.png')"
      ],
      "metadata": {
        "colab": {
          "base_uri": "https://localhost:8080/",
          "height": 162
        },
        "outputId": "66b98fd0-0d8d-417e-dfbd-6c8ede83c0d8",
        "id": "X4uvZRhu2Rjt"
      },
      "execution_count": null,
      "outputs": [
        {
          "output_type": "display_data",
          "data": {
            "text/plain": [
              "<Figure size 1440x360 with 1 Axes>"
            ],
            "image/png": "[encoded data removed]"
          },
          "metadata": {
            "needs_background": "light"
          }
        },
        {
          "output_type": "display_data",
          "data": {
            "text/plain": [
              "<Figure size 432x288 with 0 Axes>"
            ]
          },
          "metadata": {}
        }
      ]
    },
    {
      "cell_type": "markdown",
      "source": [
        "# Machine Learning"
      ],
      "metadata": {
        "id": "zpa_uYZwFEnQ"
      }
    },
    {
      "cell_type": "markdown",
      "metadata": {
        "id": "b08e20d4"
      },
      "source": [
        "## Remove irrelevant columns"
      ]
    },
    {
      "cell_type": "code",
      "execution_count": null,
      "metadata": {
        "id": "de72612c"
      },
      "outputs": [],
      "source": [
        "df_selected = Maindf.select(['Champ1Team1', 'Champ2Team1', 'Champ3Team1', 'Champ4Team1', 'Champ5Team1',\n",
        "                         'Champ1Team2', 'Champ2Team2', 'Champ3Team2', 'Champ4Team2', 'Champ5Team2', 'gameDuration (Mins)'])"
      ]
    },
    {
      "cell_type": "code",
      "execution_count": null,
      "metadata": {
        "id": "5d3488dd",
        "outputId": "d4ebdce8-83f4-48f0-a09e-b94b64aee838",
        "colab": {
          "base_uri": "https://localhost:8080/"
        }
      },
      "outputs": [
        {
          "output_type": "stream",
          "name": "stdout",
          "text": [
            "+--------------------+--------------------+--------------------+--------------------+--------------------+--------------------+--------------------+--------------------+--------------------+--------------------+-------------------+\n",
            "|         Champ1Team1|         Champ2Team1|         Champ3Team1|         Champ4Team1|         Champ5Team1|         Champ1Team2|         Champ2Team2|         Champ3Team2|         Champ4Team2|         Champ5Team2|gameDuration (Mins)|\n",
            "+--------------------+--------------------+--------------------+--------------------+--------------------+--------------------+--------------------+--------------------+--------------------+--------------------+-------------------+\n",
            "|48,3074,6632,3047...|82,666,531,164,63...|246,669,631,563,1...|67,3124,6672,3006...|63,385,366,533,02...|41,2033,3508,3047...|56,6696,3156,6691...|90,665,331,164,63...|81,3074,3158,3078...|29,311,538,533,00...|              35.55|\n",
            "|82,105,446,333,15...|131,315,231,573,0...|777,300,666,733,0...|236,667,120,313,5...|111,3190,0,3860,2...|24,105,531,583,07...|79,3152,3165,3020...|157,3140,6673,0,3...|523,303,166,722,4...|117,315,820,653,1...|           27.16747|\n",
            "|67,105,530,061,08...|234,6632,2031,304...|84,242,020,313,15...|119,350,831,393,0...|16,105,238,531,05...|82,3116,3047,2031...|141,203,166,303,0...|91,663,063,333,14...|29,315,310,381,03...|117,3011,3158,464...|              25.67|\n",
            "|23,667,130,316,67...|254,6632,3047,0,3...|90,302,066,533,91...|202,304,766,766,6...|235,300,938,646,6...|83,3181,3047,6632...|131,2031,3152,315...|39,315,366,701,05...|67,1055,3006,6673...|50,385,331,573,11...|               27.3|\n",
            "|266,669,430,471,0...|120,315,866,653,0...|91,307,466,946,69...|145,667,266,763,0...|161,3853,4628,300...|516,702,610,293,0...|141,701,531,586,3...|238,307,431,423,0...|81,350,831,233,04...|53,385,731,177,02...|              30.17|\n",
            "+--------------------+--------------------+--------------------+--------------------+--------------------+--------------------+--------------------+--------------------+--------------------+--------------------+-------------------+\n",
            "only showing top 5 rows\n",
            "\n"
          ]
        }
      ],
      "source": [
        "df_selected.show(5)"
      ]
    },
    {
      "cell_type": "markdown",
      "source": [
        "## Modifying our data"
      ],
      "metadata": {
        "id": "P2Yqr8UJxxWC"
      }
    },
    {
      "cell_type": "code",
      "source": [
        "Part1, Part2 = df_selected.randomSplit([.5, .5])\n",
        "Part1.count()"
      ],
      "metadata": {
        "colab": {
          "base_uri": "https://localhost:8080/"
        },
        "id": "YLlxGLiOrnGo",
        "outputId": "9b96d531-9341-4f1f-c227-6bbcf414c89b"
      },
      "execution_count": null,
      "outputs": [
        {
          "output_type": "execute_result",
          "data": {
            "text/plain": [
              "47824"
            ]
          },
          "metadata": {},
          "execution_count": 88
        }
      ]
    },
    {
      "cell_type": "code",
      "source": [
        "Part1 = Part1.withColumn(\"Winner\", lit(1))"
      ],
      "metadata": {
        "id": "PM6ZyjWstNYG"
      },
      "execution_count": null,
      "outputs": []
    },
    {
      "cell_type": "code",
      "source": [
        "Part2.show(5)"
      ],
      "metadata": {
        "colab": {
          "base_uri": "https://localhost:8080/"
        },
        "id": "QA8A5ureuxks",
        "outputId": "02e083d1-3ceb-441d-f605-45d151178a5f"
      },
      "execution_count": null,
      "outputs": [
        {
          "output_type": "stream",
          "name": "stdout",
          "text": [
            "+--------------------+--------------------+--------------------+--------------------+--------------------+--------------------+--------------------+--------------------+--------------------+--------------------+-------------------+\n",
            "|         Champ1Team1|         Champ2Team1|         Champ3Team1|         Champ4Team1|         Champ5Team1|         Champ1Team2|         Champ2Team2|         Champ3Team2|         Champ4Team2|         Champ5Team2|gameDuration (Mins)|\n",
            "+--------------------+--------------------+--------------------+--------------------+--------------------+--------------------+--------------------+--------------------+--------------------+--------------------+-------------------+\n",
            "|1,105,666,553,135...|254,663,220,316,3...|42,304,230,746,65...|81,3074,6694,3078...|350,322,238,531,0...|107,314,266,913,0...|114,1037,3111,663...|101,102,631,574,6...|360,303,530,721,0...|22,4005,3042,3158...|              35.67|\n",
            "|1,105,866,553,020...|120,304,231,333,1...|246,669,110,363,0...|429,309,166,733,0...|412,3860,3190,304...|266,103,730,743,0...|11,3153,3124,3006...|157,3153,6673,303...|888,385,320,653,1...|119,303,166,923,0...|              27.82|\n",
            "|1,1056,6653,3020,...|35,314,266,913,15...|58,6693,3067,3153...|498,1055,6671,300...|267,385,332,222,0...|12,310,531,176,66...|238,3142,6692,304...|14,306,830,092,03...|119,3508,2031,669...|111,386,031,902,0...|              24.57|\n",
            "|1,1056,6655,3020,...|20,3068,2031,3111...|58,6630,6333,3047...|99,6655,3157,1001...|25,3157,2055,3853...|67,667,220,311,03...|120,307,020,316,6...|55,1054,3152,3041...|222,6671,3006,0,0...|235,3864,3070,669...|              19.18|\n",
            "|1,311,170,124,637...|117,386,020,652,0...|48,311,120,316,63...|81,105,530,426,69...|516,105,444,017,0...|10,1055,3006,3115...|33,3193,3075,3068...|55,3152,3157,3135...|119,205,566,723,0...|89,386,030,473,19...|              27.67|\n",
            "+--------------------+--------------------+--------------------+--------------------+--------------------+--------------------+--------------------+--------------------+--------------------+--------------------+-------------------+\n",
            "only showing top 5 rows\n",
            "\n"
          ]
        }
      ]
    },
    {
      "cell_type": "code",
      "source": [
        "for i in range(1,6):\n",
        "  Part2 = Part2.withColumnRenamed(\"Champ{}Team1\".format(i),\"Temp\")\n",
        "  Part2 = Part2.withColumnRenamed(\"Champ{}Team2\".format(i),\"Champ{}Team1\".format(i))\n",
        "  Part2 = Part2.withColumnRenamed(\"Temp\",\"Champ{}Team2\".format(i))\n",
        "Part2 = Part2.withColumn(\"Winner\", lit(0))"
      ],
      "metadata": {
        "id": "Y0kgqdZ6uCOF"
      },
      "execution_count": null,
      "outputs": []
    },
    {
      "cell_type": "code",
      "source": [
        "Part2.show(5)"
      ],
      "metadata": {
        "colab": {
          "base_uri": "https://localhost:8080/"
        },
        "id": "JfHGYKsvuhsw",
        "outputId": "37271aaf-9a15-45d5-ca72-e68fc536696c"
      },
      "execution_count": null,
      "outputs": [
        {
          "output_type": "stream",
          "name": "stdout",
          "text": [
            "+--------------------+--------------------+--------------------+--------------------+--------------------+--------------------+--------------------+--------------------+--------------------+--------------------+-------------------+------+\n",
            "|         Champ1Team2|         Champ2Team2|         Champ3Team2|         Champ4Team2|         Champ5Team2|         Champ1Team1|         Champ2Team1|         Champ3Team1|         Champ4Team1|         Champ5Team1|gameDuration (Mins)|Winner|\n",
            "+--------------------+--------------------+--------------------+--------------------+--------------------+--------------------+--------------------+--------------------+--------------------+--------------------+-------------------+------+\n",
            "|1,105,666,553,135...|254,663,220,316,3...|42,304,230,746,65...|81,3074,6694,3078...|350,322,238,531,0...|107,314,266,913,0...|114,1037,3111,663...|101,102,631,574,6...|360,303,530,721,0...|22,4005,3042,3158...|              35.67|     0|\n",
            "|1,105,866,553,020...|120,304,231,333,1...|246,669,110,363,0...|429,309,166,733,0...|412,3860,3190,304...|266,103,730,743,0...|11,3153,3124,3006...|157,3153,6673,303...|888,385,320,653,1...|119,303,166,923,0...|              27.82|     0|\n",
            "|1,1056,6653,3020,...|35,314,266,913,15...|58,6693,3067,3153...|498,1055,6671,300...|267,385,332,222,0...|12,310,531,176,66...|238,3142,6692,304...|14,306,830,092,03...|119,3508,2031,669...|111,386,031,902,0...|              24.57|     0|\n",
            "|1,1056,6655,3020,...|20,3068,2031,3111...|58,6630,6333,3047...|99,6655,3157,1001...|25,3157,2055,3853...|67,667,220,311,03...|120,307,020,316,6...|55,1054,3152,3041...|222,6671,3006,0,0...|235,3864,3070,669...|              19.18|     0|\n",
            "|1,311,170,124,637...|117,386,020,652,0...|48,311,120,316,63...|81,105,530,426,69...|516,105,444,017,0...|10,1055,3006,3115...|33,3193,3075,3068...|55,3152,3157,3135...|119,205,566,723,0...|89,386,030,473,19...|              27.67|     0|\n",
            "+--------------------+--------------------+--------------------+--------------------+--------------------+--------------------+--------------------+--------------------+--------------------+--------------------+-------------------+------+\n",
            "only showing top 5 rows\n",
            "\n"
          ]
        }
      ]
    },
    {
      "cell_type": "code",
      "source": [
        "result1 = Part1.unionByName(Part2)\n",
        "\n",
        "# display\n",
        "result1.show(5)"
      ],
      "metadata": {
        "colab": {
          "base_uri": "https://localhost:8080/"
        },
        "id": "p2_6FULRwjZp",
        "outputId": "119fcc09-b4b6-4fc8-f645-46153a087c0f"
      },
      "execution_count": null,
      "outputs": [
        {
          "output_type": "stream",
          "name": "stdout",
          "text": [
            "+--------------------+--------------------+--------------------+--------------------+--------------------+--------------------+--------------------+--------------------+--------------------+--------------------+-------------------+------+\n",
            "|         Champ1Team1|         Champ2Team1|         Champ3Team1|         Champ4Team1|         Champ5Team1|         Champ1Team2|         Champ2Team2|         Champ3Team2|         Champ4Team2|         Champ5Team2|gameDuration (Mins)|Winner|\n",
            "+--------------------+--------------------+--------------------+--------------------+--------------------+--------------------+--------------------+--------------------+--------------------+--------------------+-------------------+------+\n",
            "|1,0,3152,3089,302...|120,304,231,613,1...|29,300,646,443,15...|51,6671,3031,0,30...|89,385,731,093,00...|48,308,230,743,19...|11,303,135,081,00...|13,304,031,573,08...|221,3036,0,6673,3...|555,385,720,553,1...|              32.25|     1|\n",
            "|1,102,631,523,157...|59,633,366,923,04...|14,308,430,683,11...|498,303,166,713,0...|26,315,866,533,04...|39,308,230,476,33...|131,3152,3115,315...|238,669,366,766,6...|145,303,166,723,0...|40,385,320,653,10...|              41.47|     1|\n",
            "|1,105,666,553,135...|254,663,220,316,3...|42,304,230,746,65...|81,3074,6694,3078...|350,322,238,531,0...|107,314,266,913,0...|114,1037,3111,663...|101,102,631,574,6...|360,303,530,721,0...|22,4005,3042,3158...|              35.67|     1|\n",
            "|1,1056,6653,1082,...|421,3814,6693,304...|157,3068,3153,300...|29,3153,2031,3006...|117,3853,2065,391...|777,667,310,381,0...|141,669,220,316,3...|61,3157,6655,3020...|15,6671,1018,3006...|497,315,839,163,8...|              23.57|     1|\n",
            "|1,1056,6653,3020,...|35,314,266,913,15...|58,6693,3067,3153...|498,1055,6671,300...|267,385,332,222,0...|12,310,531,176,66...|238,3142,6692,304...|14,306,830,092,03...|119,3508,2031,669...|111,386,031,902,0...|              24.57|     1|\n",
            "+--------------------+--------------------+--------------------+--------------------+--------------------+--------------------+--------------------+--------------------+--------------------+--------------------+-------------------+------+\n",
            "only showing top 5 rows\n",
            "\n"
          ]
        }
      ]
    },
    {
      "cell_type": "code",
      "source": [
        "df1 = result1\n",
        "for k in range(1,3):\n",
        "  for i in range(1,6):\n",
        "    df1 = df1.withColumn('Champion{}_Team{}'.format(i,k), split(df_selected['Champ{}Team{}'.format(i,k)], ',').getItem(0))\n",
        "    df1 = df1.withColumn('Champion{}_Team{}'.format(i,k), df1['Champion{}_Team{}'.format(i,k)].cast(IntegerType()))\n",
        "    for j in range(1,7):\n",
        "      df1 = df1.withColumn('Champion{}_Item{}_Team{}'.format(i,j,k), split(df_selected['Champ{}Team{}'.format(i,k)], ',').getItem(j))\n",
        "      df1 = df1.withColumn('Champion{}_Item{}_Team{}'.format(i,j,k), df1['Champion{}_Item{}_Team{}'.format(i,j,k)].cast(IntegerType()))\n",
        "    df1 = df1.drop(\"Champ{}Team{}\".format(i,k))\n",
        "\n",
        "df1.show(5, truncate=False)"
      ],
      "metadata": {
        "colab": {
          "base_uri": "https://localhost:8080/"
        },
        "id": "9Q5ghAqnjLQB",
        "outputId": "57f7a400-b440-4907-b29b-1579cd747cca"
      },
      "execution_count": null,
      "outputs": [
        {
          "output_type": "stream",
          "name": "stdout",
          "text": [
            "+-------------------+------+---------------+---------------------+---------------------+---------------------+---------------------+---------------------+---------------------+---------------+---------------------+---------------------+---------------------+---------------------+---------------------+---------------------+---------------+---------------------+---------------------+---------------------+---------------------+---------------------+---------------------+---------------+---------------------+---------------------+---------------------+---------------------+---------------------+---------------------+---------------+---------------------+---------------------+---------------------+---------------------+---------------------+---------------------+---------------+---------------------+---------------------+---------------------+---------------------+---------------------+---------------------+---------------+---------------------+---------------------+---------------------+---------------------+---------------------+---------------------+---------------+---------------------+---------------------+---------------------+---------------------+---------------------+---------------------+---------------+---------------------+---------------------+---------------------+---------------------+---------------------+---------------------+---------------+---------------------+---------------------+---------------------+---------------------+---------------------+---------------------+\n",
            "|gameDuration (Mins)|Winner|Champion1_Team1|Champion1_Item1_Team1|Champion1_Item2_Team1|Champion1_Item3_Team1|Champion1_Item4_Team1|Champion1_Item5_Team1|Champion1_Item6_Team1|Champion2_Team1|Champion2_Item1_Team1|Champion2_Item2_Team1|Champion2_Item3_Team1|Champion2_Item4_Team1|Champion2_Item5_Team1|Champion2_Item6_Team1|Champion3_Team1|Champion3_Item1_Team1|Champion3_Item2_Team1|Champion3_Item3_Team1|Champion3_Item4_Team1|Champion3_Item5_Team1|Champion3_Item6_Team1|Champion4_Team1|Champion4_Item1_Team1|Champion4_Item2_Team1|Champion4_Item3_Team1|Champion4_Item4_Team1|Champion4_Item5_Team1|Champion4_Item6_Team1|Champion5_Team1|Champion5_Item1_Team1|Champion5_Item2_Team1|Champion5_Item3_Team1|Champion5_Item4_Team1|Champion5_Item5_Team1|Champion5_Item6_Team1|Champion1_Team2|Champion1_Item1_Team2|Champion1_Item2_Team2|Champion1_Item3_Team2|Champion1_Item4_Team2|Champion1_Item5_Team2|Champion1_Item6_Team2|Champion2_Team2|Champion2_Item1_Team2|Champion2_Item2_Team2|Champion2_Item3_Team2|Champion2_Item4_Team2|Champion2_Item5_Team2|Champion2_Item6_Team2|Champion3_Team2|Champion3_Item1_Team2|Champion3_Item2_Team2|Champion3_Item3_Team2|Champion3_Item4_Team2|Champion3_Item5_Team2|Champion3_Item6_Team2|Champion4_Team2|Champion4_Item1_Team2|Champion4_Item2_Team2|Champion4_Item3_Team2|Champion4_Item4_Team2|Champion4_Item5_Team2|Champion4_Item6_Team2|Champion5_Team2|Champion5_Item1_Team2|Champion5_Item2_Team2|Champion5_Item3_Team2|Champion5_Item4_Team2|Champion5_Item5_Team2|Champion5_Item6_Team2|\n",
            "+-------------------+------+---------------+---------------------+---------------------+---------------------+---------------------+---------------------+---------------------+---------------+---------------------+---------------------+---------------------+---------------------+---------------------+---------------------+---------------+---------------------+---------------------+---------------------+---------------------+---------------------+---------------------+---------------+---------------------+---------------------+---------------------+---------------------+---------------------+---------------------+---------------+---------------------+---------------------+---------------------+---------------------+---------------------+---------------------+---------------+---------------------+---------------------+---------------------+---------------------+---------------------+---------------------+---------------+---------------------+---------------------+---------------------+---------------------+---------------------+---------------------+---------------+---------------------+---------------------+---------------------+---------------------+---------------------+---------------------+---------------+---------------------+---------------------+---------------------+---------------------+---------------------+---------------------+---------------+---------------------+---------------------+---------------------+---------------------+---------------------+---------------------+\n",
            "|32.25              |1     |1              |0                    |3152                 |3089                 |3020                 |1026                 |4645                 |120            |304                  |231                  |613                  |158                  |0                    |0                    |29             |300                  |646                  |443                  |157                  |300                  |0                    |51             |6671                 |3031                 |0                    |3094                 |6676                 |3006                 |89             |385                  |731                  |93                   |1                    |300                  |0                    |48             |308                  |230                  |743                  |193                  |300                  |0                    |11             |303                  |135                  |81                   |1                    |600                  |0                    |13             |304                  |31                   |573                  |82                   |200                  |0                    |221            |3036                 |0                    |6673                 |3046                 |3006                 |3031                 |555            |385                  |720                  |553                  |134                  |0                    |0                    |\n",
            "|41.47              |1     |1              |102                  |631                  |523                  |157                  |300                  |0                    |59             |633                  |366                  |923                  |47                   |600                  |0                    |14             |308                  |430                  |683                  |110                  |300                  |0                    |498            |303                  |166                  |713                  |6                    |0                    |0                    |26             |315                  |866                  |533                  |40                   |300                  |0                    |39             |308                  |230                  |476                  |333                  |600                  |0                    |131            |3152                 |3115                 |3157                 |3020                 |3089                 |0                    |238            |669                  |366                  |766                  |694                  |0                    |0                    |145            |303                  |166                  |723                  |6                    |0                    |0                    |40             |385                  |320                  |653                  |107                  |100                  |0                    |\n",
            "|35.67              |1     |1              |105                  |666                  |553                  |135                  |300                  |0                    |254            |663                  |220                  |316                  |333                  |0                    |0                    |42             |304                  |230                  |746                  |655                  |400                  |0                    |81             |3074                 |6694                 |3078                 |3158                 |3042                 |0                    |350            |322                  |238                  |531                  |52                   |0                    |0                    |107            |314                  |266                  |913                  |26                   |0                    |0                    |114            |1037                 |3111                 |6632                 |3074                 |3044                 |0                    |101            |102                  |631                  |574                  |630                  |0                    |0                    |360            |303                  |530                  |721                  |18                   |0                    |0                    |22             |4005                 |3042                 |3158                 |3864                 |0                    |3123                 |\n",
            "|23.57              |1     |1              |1056                 |6653                 |1082                 |0                    |3116                 |3020                 |421            |3814                 |6693                 |3047                 |1036                 |1036                 |0                    |157            |3068                 |3153                 |3006                 |1031                 |0                    |0                    |29             |3153                 |2031                 |3006                 |3085                 |1082                 |0                    |117            |3853                 |2065                 |3916                 |0                    |3158                 |0                    |777            |667                  |310                  |381                  |37                   |0                    |0                    |141            |669                  |220                  |316                  |333                  |0                    |0                    |61             |3157                 |6655                 |3020                 |1082                 |1056                 |0                    |15             |6671                 |1018                 |3006                 |1036                 |1036                 |0                    |497            |315                  |839                  |163                  |860                  |0                    |0                    |\n",
            "|24.57              |1     |1              |1056                 |6653                 |3020                 |4645                 |1026                 |0                    |35             |314                  |266                  |913                  |153                  |300                  |0                    |58             |6693                 |3067                 |3153                 |3133                 |1001                 |0                    |498            |1055                 |6671                 |3006                 |3094                 |3031                 |0                    |267            |385                  |332                  |222                  |31                   |0                    |0                    |12             |310                  |531                  |176                  |664                  |300                  |0                    |238            |3142                 |6692                 |3047                 |3035                 |0                    |0                    |14             |306                  |830                  |92                   |33                   |300                  |0                    |119            |3508                 |2031                 |6692                 |3006                 |1037                 |0                    |111            |386                  |31                   |902                  |31                   |0                    |0                    |\n",
            "+-------------------+------+---------------+---------------------+---------------------+---------------------+---------------------+---------------------+---------------------+---------------+---------------------+---------------------+---------------------+---------------------+---------------------+---------------------+---------------+---------------------+---------------------+---------------------+---------------------+---------------------+---------------------+---------------+---------------------+---------------------+---------------------+---------------------+---------------------+---------------------+---------------+---------------------+---------------------+---------------------+---------------------+---------------------+---------------------+---------------+---------------------+---------------------+---------------------+---------------------+---------------------+---------------------+---------------+---------------------+---------------------+---------------------+---------------------+---------------------+---------------------+---------------+---------------------+---------------------+---------------------+---------------------+---------------------+---------------------+---------------+---------------------+---------------------+---------------------+---------------------+---------------------+---------------------+---------------+---------------------+---------------------+---------------------+---------------------+---------------------+---------------------+\n",
            "only showing top 5 rows\n",
            "\n"
          ]
        }
      ]
    },
    {
      "cell_type": "code",
      "source": [
        "df1.printSchema()"
      ],
      "metadata": {
        "colab": {
          "base_uri": "https://localhost:8080/"
        },
        "id": "d3B6iKdwYI6T",
        "outputId": "9ae1ff29-5752-4f3e-f679-b48ee16e6a57"
      },
      "execution_count": null,
      "outputs": [
        {
          "output_type": "stream",
          "name": "stdout",
          "text": [
            "root\n",
            " |-- gameDuration (Mins): double (nullable = true)\n",
            " |-- Winner: integer (nullable = false)\n",
            " |-- Champion1_Team1: integer (nullable = true)\n",
            " |-- Champion1_Item1_Team1: integer (nullable = true)\n",
            " |-- Champion1_Item2_Team1: integer (nullable = true)\n",
            " |-- Champion1_Item3_Team1: integer (nullable = true)\n",
            " |-- Champion1_Item4_Team1: integer (nullable = true)\n",
            " |-- Champion1_Item5_Team1: integer (nullable = true)\n",
            " |-- Champion1_Item6_Team1: integer (nullable = true)\n",
            " |-- Champion2_Team1: integer (nullable = true)\n",
            " |-- Champion2_Item1_Team1: integer (nullable = true)\n",
            " |-- Champion2_Item2_Team1: integer (nullable = true)\n",
            " |-- Champion2_Item3_Team1: integer (nullable = true)\n",
            " |-- Champion2_Item4_Team1: integer (nullable = true)\n",
            " |-- Champion2_Item5_Team1: integer (nullable = true)\n",
            " |-- Champion2_Item6_Team1: integer (nullable = true)\n",
            " |-- Champion3_Team1: integer (nullable = true)\n",
            " |-- Champion3_Item1_Team1: integer (nullable = true)\n",
            " |-- Champion3_Item2_Team1: integer (nullable = true)\n",
            " |-- Champion3_Item3_Team1: integer (nullable = true)\n",
            " |-- Champion3_Item4_Team1: integer (nullable = true)\n",
            " |-- Champion3_Item5_Team1: integer (nullable = true)\n",
            " |-- Champion3_Item6_Team1: integer (nullable = true)\n",
            " |-- Champion4_Team1: integer (nullable = true)\n",
            " |-- Champion4_Item1_Team1: integer (nullable = true)\n",
            " |-- Champion4_Item2_Team1: integer (nullable = true)\n",
            " |-- Champion4_Item3_Team1: integer (nullable = true)\n",
            " |-- Champion4_Item4_Team1: integer (nullable = true)\n",
            " |-- Champion4_Item5_Team1: integer (nullable = true)\n",
            " |-- Champion4_Item6_Team1: integer (nullable = true)\n",
            " |-- Champion5_Team1: integer (nullable = true)\n",
            " |-- Champion5_Item1_Team1: integer (nullable = true)\n",
            " |-- Champion5_Item2_Team1: integer (nullable = true)\n",
            " |-- Champion5_Item3_Team1: integer (nullable = true)\n",
            " |-- Champion5_Item4_Team1: integer (nullable = true)\n",
            " |-- Champion5_Item5_Team1: integer (nullable = true)\n",
            " |-- Champion5_Item6_Team1: integer (nullable = true)\n",
            " |-- Champion1_Team2: integer (nullable = true)\n",
            " |-- Champion1_Item1_Team2: integer (nullable = true)\n",
            " |-- Champion1_Item2_Team2: integer (nullable = true)\n",
            " |-- Champion1_Item3_Team2: integer (nullable = true)\n",
            " |-- Champion1_Item4_Team2: integer (nullable = true)\n",
            " |-- Champion1_Item5_Team2: integer (nullable = true)\n",
            " |-- Champion1_Item6_Team2: integer (nullable = true)\n",
            " |-- Champion2_Team2: integer (nullable = true)\n",
            " |-- Champion2_Item1_Team2: integer (nullable = true)\n",
            " |-- Champion2_Item2_Team2: integer (nullable = true)\n",
            " |-- Champion2_Item3_Team2: integer (nullable = true)\n",
            " |-- Champion2_Item4_Team2: integer (nullable = true)\n",
            " |-- Champion2_Item5_Team2: integer (nullable = true)\n",
            " |-- Champion2_Item6_Team2: integer (nullable = true)\n",
            " |-- Champion3_Team2: integer (nullable = true)\n",
            " |-- Champion3_Item1_Team2: integer (nullable = true)\n",
            " |-- Champion3_Item2_Team2: integer (nullable = true)\n",
            " |-- Champion3_Item3_Team2: integer (nullable = true)\n",
            " |-- Champion3_Item4_Team2: integer (nullable = true)\n",
            " |-- Champion3_Item5_Team2: integer (nullable = true)\n",
            " |-- Champion3_Item6_Team2: integer (nullable = true)\n",
            " |-- Champion4_Team2: integer (nullable = true)\n",
            " |-- Champion4_Item1_Team2: integer (nullable = true)\n",
            " |-- Champion4_Item2_Team2: integer (nullable = true)\n",
            " |-- Champion4_Item3_Team2: integer (nullable = true)\n",
            " |-- Champion4_Item4_Team2: integer (nullable = true)\n",
            " |-- Champion4_Item5_Team2: integer (nullable = true)\n",
            " |-- Champion4_Item6_Team2: integer (nullable = true)\n",
            " |-- Champion5_Team2: integer (nullable = true)\n",
            " |-- Champion5_Item1_Team2: integer (nullable = true)\n",
            " |-- Champion5_Item2_Team2: integer (nullable = true)\n",
            " |-- Champion5_Item3_Team2: integer (nullable = true)\n",
            " |-- Champion5_Item4_Team2: integer (nullable = true)\n",
            " |-- Champion5_Item5_Team2: integer (nullable = true)\n",
            " |-- Champion5_Item6_Team2: integer (nullable = true)\n",
            "\n"
          ]
        }
      ]
    },
    {
      "cell_type": "code",
      "source": [
        "df1.select(\"Champion1_Team2\").show()"
      ],
      "metadata": {
        "colab": {
          "base_uri": "https://localhost:8080/"
        },
        "id": "7DDHFURpTYEr",
        "outputId": "31e8c11b-9d62-4534-8707-85da77b6de5f"
      },
      "execution_count": null,
      "outputs": [
        {
          "output_type": "stream",
          "name": "stdout",
          "text": [
            "+---------------+\n",
            "|Champion1_Team2|\n",
            "+---------------+\n",
            "|             48|\n",
            "|             39|\n",
            "|            107|\n",
            "|            777|\n",
            "|             12|\n",
            "|             67|\n",
            "|            516|\n",
            "|             82|\n",
            "|            223|\n",
            "|             17|\n",
            "|             41|\n",
            "|             24|\n",
            "|             30|\n",
            "|            777|\n",
            "|            420|\n",
            "|            157|\n",
            "|            164|\n",
            "|            777|\n",
            "|            240|\n",
            "|            145|\n",
            "+---------------+\n",
            "only showing top 20 rows\n",
            "\n"
          ]
        }
      ]
    },
    {
      "cell_type": "markdown",
      "source": [
        "## Data Preparation"
      ],
      "metadata": {
        "id": "BgqVGqnHyDSZ"
      }
    },
    {
      "cell_type": "code",
      "source": [
        "List = df1.columns[2:-1]\n",
        "List.append(df1.columns[0])"
      ],
      "metadata": {
        "id": "sp5hZvi98A0c"
      },
      "execution_count": null,
      "outputs": []
    },
    {
      "cell_type": "code",
      "source": [
        "List[:10]"
      ],
      "metadata": {
        "colab": {
          "base_uri": "https://localhost:8080/"
        },
        "id": "dD4FaUm88lbg",
        "outputId": "04c7bad0-92f5-4d60-d0f5-41cfebd3d056"
      },
      "execution_count": null,
      "outputs": [
        {
          "output_type": "execute_result",
          "data": {
            "text/plain": [
              "['Champion1_Team1',\n",
              " 'Champion1_Item1_Team1',\n",
              " 'Champion1_Item2_Team1',\n",
              " 'Champion1_Item3_Team1',\n",
              " 'Champion1_Item4_Team1',\n",
              " 'Champion1_Item5_Team1',\n",
              " 'Champion1_Item6_Team1',\n",
              " 'Champion2_Team1',\n",
              " 'Champion2_Item1_Team1',\n",
              " 'Champion2_Item2_Team1']"
            ]
          },
          "metadata": {},
          "execution_count": 98
        }
      ]
    },
    {
      "cell_type": "code",
      "source": [
        "'''\n",
        "OHE = OneHotEncoder(inputCols=['Champion1_Team1', 'Champion2_Team1', 'Champion3_Team1', 'Champion4_Team1',\n",
        "                          'Champion5_Team1', 'Champion1_Team2', 'Champion2_Team2', 'Champion3_Team2', 'Champion4_Team2',\n",
        "                          'Champion5_Team2'],outputCols=['Champion1_Team1_Encoded', 'Champion2_Team1_Encoded', 'Champion3_Team1_Encoded',\n",
        "                                                         'Champion4_Team1_Encoded','Champion5_Team1_Encoded', 'Champion1_Team2_Encoded',\n",
        "                                                         'Champion2_Team2_Encoded', 'Champion3_Team2_Encoded', 'Champion4_Team2_Encoded', 'Champion5_Team2_Encoded'])\n",
        "vec_assembler = VectorAssembler(inputCols=['Champion1_Team1_Encoded', 'Champion2_Team1_Encoded', 'Champion3_Team1_Encoded',\n",
        "                                                         'Champion4_Team1_Encoded','Champion5_Team1_Encoded', 'Champion1_Team2_Encoded',\n",
        "                                                         'Champion2_Team2_Encoded', 'Champion3_Team2_Encoded', 'Champion4_Team2_Encoded',\n",
        "                                            'Champion5_Team2_Encoded'], outputCol=\"features\")\n",
        "'''"
      ],
      "metadata": {
        "colab": {
          "base_uri": "https://localhost:8080/",
          "height": 1000
        },
        "id": "vP4E2Dt4Nnh-",
        "outputId": "48ba252e-b06e-4ed1-d4a9-9613a191ecef"
      },
      "execution_count": null,
      "outputs": [
        {
          "output_type": "execute_result",
          "data": {
            "text/plain": [
              "'\\nOHE = OneHotEncoder(inputCols=[\\'Champion1_Team1\\', \\'Champion2_Team1\\', \\'Champion3_Team1\\', \\'Champion4_Team1\\',\\n                          \\'Champion5_Team1\\', \\'Champion1_Team2\\', \\'Champion2_Team2\\', \\'Champion3_Team2\\', \\'Champion4_Team2\\',\\n                          \\'Champion5_Team2\\'],outputCols=[\\'Champion1_Team1_Encoded\\', \\'Champion2_Team1_Encoded\\', \\'Champion3_Team1_Encoded\\',\\n                                                         \\'Champion4_Team1_Encoded\\',\\'Champion5_Team1_Encoded\\', \\'Champion1_Team2_Encoded\\',\\n                                                         \\'Champion2_Team2_Encoded\\', \\'Champion3_Team2_Encoded\\', \\'Champion4_Team2_Encoded\\', \\'Champion5_Team2_Encoded\\'])\\nvec_assembler = VectorAssembler(inputCols=[\\'Champion1_Team1_Encoded\\', \\'Champion2_Team1_Encoded\\', \\'Champion3_Team1_Encoded\\',\\n                                                         \\'Champion4_Team1_Encoded\\',\\'Champion5_Team1_Encoded\\', \\'Champion1_Team2_Encoded\\',\\n                                                         \\'Champion2_Team2_Encoded\\', \\'Champion3_Team2_Encoded\\', \\'Champion4_Team2_Encoded\\',\\n                                            \\'Champion5_Team2_Encoded\\'], outputCol=\"features\")\\n'"
            ],
            "application/vnd.google.colaboratory.intrinsic+json": {
              "type": "string"
            }
          },
          "metadata": {},
          "execution_count": 99
        }
      ]
    },
    {
      "cell_type": "code",
      "source": [
        "vec_assembler = VectorAssembler(inputCols=List, outputCol=\"features\")"
      ],
      "metadata": {
        "id": "GdQI6cA07N_h"
      },
      "execution_count": null,
      "outputs": []
    },
    {
      "cell_type": "code",
      "source": [
        "# Make the pipeline\n",
        "final_pipe = Pipeline(stages=[vec_assembler])"
      ],
      "metadata": {
        "id": "jl9W0bMuNnoX"
      },
      "execution_count": null,
      "outputs": []
    },
    {
      "cell_type": "code",
      "source": [
        "piped_data = final_pipe.fit(df1).transform(df1)"
      ],
      "metadata": {
        "id": "XleKkdT2NnrU"
      },
      "execution_count": null,
      "outputs": []
    },
    {
      "cell_type": "code",
      "source": [
        "piped_data.show(5)"
      ],
      "metadata": {
        "colab": {
          "base_uri": "https://localhost:8080/"
        },
        "id": "BQRU5h6gNnvK",
        "outputId": "ba3d321e-a8fb-4253-bc0e-72376bc0cc14"
      },
      "execution_count": null,
      "outputs": [
        {
          "output_type": "stream",
          "name": "stdout",
          "text": [
            "+-------------------+------+---------------+---------------------+---------------------+---------------------+---------------------+---------------------+---------------------+---------------+---------------------+---------------------+---------------------+---------------------+---------------------+---------------------+---------------+---------------------+---------------------+---------------------+---------------------+---------------------+---------------------+---------------+---------------------+---------------------+---------------------+---------------------+---------------------+---------------------+---------------+---------------------+---------------------+---------------------+---------------------+---------------------+---------------------+---------------+---------------------+---------------------+---------------------+---------------------+---------------------+---------------------+---------------+---------------------+---------------------+---------------------+---------------------+---------------------+---------------------+---------------+---------------------+---------------------+---------------------+---------------------+---------------------+---------------------+---------------+---------------------+---------------------+---------------------+---------------------+---------------------+---------------------+---------------+---------------------+---------------------+---------------------+---------------------+---------------------+---------------------+--------------------+\n",
            "|gameDuration (Mins)|Winner|Champion1_Team1|Champion1_Item1_Team1|Champion1_Item2_Team1|Champion1_Item3_Team1|Champion1_Item4_Team1|Champion1_Item5_Team1|Champion1_Item6_Team1|Champion2_Team1|Champion2_Item1_Team1|Champion2_Item2_Team1|Champion2_Item3_Team1|Champion2_Item4_Team1|Champion2_Item5_Team1|Champion2_Item6_Team1|Champion3_Team1|Champion3_Item1_Team1|Champion3_Item2_Team1|Champion3_Item3_Team1|Champion3_Item4_Team1|Champion3_Item5_Team1|Champion3_Item6_Team1|Champion4_Team1|Champion4_Item1_Team1|Champion4_Item2_Team1|Champion4_Item3_Team1|Champion4_Item4_Team1|Champion4_Item5_Team1|Champion4_Item6_Team1|Champion5_Team1|Champion5_Item1_Team1|Champion5_Item2_Team1|Champion5_Item3_Team1|Champion5_Item4_Team1|Champion5_Item5_Team1|Champion5_Item6_Team1|Champion1_Team2|Champion1_Item1_Team2|Champion1_Item2_Team2|Champion1_Item3_Team2|Champion1_Item4_Team2|Champion1_Item5_Team2|Champion1_Item6_Team2|Champion2_Team2|Champion2_Item1_Team2|Champion2_Item2_Team2|Champion2_Item3_Team2|Champion2_Item4_Team2|Champion2_Item5_Team2|Champion2_Item6_Team2|Champion3_Team2|Champion3_Item1_Team2|Champion3_Item2_Team2|Champion3_Item3_Team2|Champion3_Item4_Team2|Champion3_Item5_Team2|Champion3_Item6_Team2|Champion4_Team2|Champion4_Item1_Team2|Champion4_Item2_Team2|Champion4_Item3_Team2|Champion4_Item4_Team2|Champion4_Item5_Team2|Champion4_Item6_Team2|Champion5_Team2|Champion5_Item1_Team2|Champion5_Item2_Team2|Champion5_Item3_Team2|Champion5_Item4_Team2|Champion5_Item5_Team2|Champion5_Item6_Team2|            features|\n",
            "+-------------------+------+---------------+---------------------+---------------------+---------------------+---------------------+---------------------+---------------------+---------------+---------------------+---------------------+---------------------+---------------------+---------------------+---------------------+---------------+---------------------+---------------------+---------------------+---------------------+---------------------+---------------------+---------------+---------------------+---------------------+---------------------+---------------------+---------------------+---------------------+---------------+---------------------+---------------------+---------------------+---------------------+---------------------+---------------------+---------------+---------------------+---------------------+---------------------+---------------------+---------------------+---------------------+---------------+---------------------+---------------------+---------------------+---------------------+---------------------+---------------------+---------------+---------------------+---------------------+---------------------+---------------------+---------------------+---------------------+---------------+---------------------+---------------------+---------------------+---------------------+---------------------+---------------------+---------------+---------------------+---------------------+---------------------+---------------------+---------------------+---------------------+--------------------+\n",
            "|              32.25|     1|              1|                    0|                 3152|                 3089|                 3020|                 1026|                 4645|            120|                  304|                  231|                  613|                  158|                    0|                    0|             29|                  300|                  646|                  443|                  157|                  300|                    0|             51|                 6671|                 3031|                    0|                 3094|                 6676|                 3006|             89|                  385|                  731|                   93|                    1|                  300|                    0|             48|                  308|                  230|                  743|                  193|                  300|                    0|             11|                  303|                  135|                   81|                    1|                  600|                    0|             13|                  304|                   31|                  573|                   82|                  200|                    0|            221|                 3036|                    0|                 6673|                 3046|                 3006|                 3031|            555|                  385|                  720|                  553|                  134|                    0|                    0|[1.0,0.0,3152.0,3...|\n",
            "|              41.47|     1|              1|                  102|                  631|                  523|                  157|                  300|                    0|             59|                  633|                  366|                  923|                   47|                  600|                    0|             14|                  308|                  430|                  683|                  110|                  300|                    0|            498|                  303|                  166|                  713|                    6|                    0|                    0|             26|                  315|                  866|                  533|                   40|                  300|                    0|             39|                  308|                  230|                  476|                  333|                  600|                    0|            131|                 3152|                 3115|                 3157|                 3020|                 3089|                    0|            238|                  669|                  366|                  766|                  694|                    0|                    0|            145|                  303|                  166|                  723|                    6|                    0|                    0|             40|                  385|                  320|                  653|                  107|                  100|                    0|[1.0,102.0,631.0,...|\n",
            "|              35.67|     1|              1|                  105|                  666|                  553|                  135|                  300|                    0|            254|                  663|                  220|                  316|                  333|                    0|                    0|             42|                  304|                  230|                  746|                  655|                  400|                    0|             81|                 3074|                 6694|                 3078|                 3158|                 3042|                    0|            350|                  322|                  238|                  531|                   52|                    0|                    0|            107|                  314|                  266|                  913|                   26|                    0|                    0|            114|                 1037|                 3111|                 6632|                 3074|                 3044|                    0|            101|                  102|                  631|                  574|                  630|                    0|                    0|            360|                  303|                  530|                  721|                   18|                    0|                    0|             22|                 4005|                 3042|                 3158|                 3864|                    0|                 3123|[1.0,105.0,666.0,...|\n",
            "|              23.57|     1|              1|                 1056|                 6653|                 1082|                    0|                 3116|                 3020|            421|                 3814|                 6693|                 3047|                 1036|                 1036|                    0|            157|                 3068|                 3153|                 3006|                 1031|                    0|                    0|             29|                 3153|                 2031|                 3006|                 3085|                 1082|                    0|            117|                 3853|                 2065|                 3916|                    0|                 3158|                    0|            777|                  667|                  310|                  381|                   37|                    0|                    0|            141|                  669|                  220|                  316|                  333|                    0|                    0|             61|                 3157|                 6655|                 3020|                 1082|                 1056|                    0|             15|                 6671|                 1018|                 3006|                 1036|                 1036|                    0|            497|                  315|                  839|                  163|                  860|                    0|                    0|[1.0,1056.0,6653....|\n",
            "|              24.57|     1|              1|                 1056|                 6653|                 3020|                 4645|                 1026|                    0|             35|                  314|                  266|                  913|                  153|                  300|                    0|             58|                 6693|                 3067|                 3153|                 3133|                 1001|                    0|            498|                 1055|                 6671|                 3006|                 3094|                 3031|                    0|            267|                  385|                  332|                  222|                   31|                    0|                    0|             12|                  310|                  531|                  176|                  664|                  300|                    0|            238|                 3142|                 6692|                 3047|                 3035|                    0|                    0|             14|                  306|                  830|                   92|                   33|                  300|                    0|            119|                 3508|                 2031|                 6692|                 3006|                 1037|                    0|            111|                  386|                   31|                  902|                   31|                    0|                    0|[1.0,1056.0,6653....|\n",
            "+-------------------+------+---------------+---------------------+---------------------+---------------------+---------------------+---------------------+---------------------+---------------+---------------------+---------------------+---------------------+---------------------+---------------------+---------------------+---------------+---------------------+---------------------+---------------------+---------------------+---------------------+---------------------+---------------+---------------------+---------------------+---------------------+---------------------+---------------------+---------------------+---------------+---------------------+---------------------+---------------------+---------------------+---------------------+---------------------+---------------+---------------------+---------------------+---------------------+---------------------+---------------------+---------------------+---------------+---------------------+---------------------+---------------------+---------------------+---------------------+---------------------+---------------+---------------------+---------------------+---------------------+---------------------+---------------------+---------------------+---------------+---------------------+---------------------+---------------------+---------------------+---------------------+---------------------+---------------+---------------------+---------------------+---------------------+---------------------+---------------------+---------------------+--------------------+\n",
            "only showing top 5 rows\n",
            "\n"
          ]
        }
      ]
    },
    {
      "cell_type": "code",
      "source": [
        "piped_dataset = piped_data.withColumnRenamed(\"Winner\", \"label\")"
      ],
      "metadata": {
        "id": "N7m7CTmb1_s4"
      },
      "execution_count": null,
      "outputs": []
    },
    {
      "cell_type": "code",
      "source": [
        "model_data = piped_dataset.select(['label','features'])"
      ],
      "metadata": {
        "id": "h9vKB4HI2H66"
      },
      "execution_count": null,
      "outputs": []
    },
    {
      "cell_type": "code",
      "source": [
        "model_data.show(5)"
      ],
      "metadata": {
        "colab": {
          "base_uri": "https://localhost:8080/"
        },
        "id": "BJzCp8GA2KfS",
        "outputId": "cdf52e00-930d-4717-ab59-39eb0eb521e5"
      },
      "execution_count": null,
      "outputs": [
        {
          "output_type": "stream",
          "name": "stdout",
          "text": [
            "+-----+--------------------+\n",
            "|label|            features|\n",
            "+-----+--------------------+\n",
            "|    1|[1.0,0.0,3152.0,3...|\n",
            "|    1|[1.0,102.0,631.0,...|\n",
            "|    1|[1.0,105.0,666.0,...|\n",
            "|    1|[1.0,1056.0,6653....|\n",
            "|    1|[1.0,1056.0,6653....|\n",
            "+-----+--------------------+\n",
            "only showing top 5 rows\n",
            "\n"
          ]
        }
      ]
    },
    {
      "cell_type": "markdown",
      "source": [
        "## Models"
      ],
      "metadata": {
        "id": "YrBOdu7EFsXn"
      }
    },
    {
      "cell_type": "markdown",
      "metadata": {
        "id": "6bb01f86"
      },
      "source": [
        "### Model Building (Logistic Regression)"
      ]
    },
    {
      "cell_type": "code",
      "execution_count": null,
      "metadata": {
        "id": "fa6d0123",
        "outputId": "a3664812-4730-435c-bb7c-22b7dd088835",
        "colab": {
          "base_uri": "https://localhost:8080/"
        }
      },
      "outputs": [
        {
          "output_type": "execute_result",
          "data": {
            "text/plain": [
              "67048"
            ]
          },
          "metadata": {},
          "execution_count": 107
        }
      ],
      "source": [
        "training, test = model_data.randomSplit([.7, .3])\n",
        "training.count()"
      ]
    },
    {
      "cell_type": "code",
      "execution_count": null,
      "metadata": {
        "id": "ede774f7"
      },
      "outputs": [],
      "source": [
        "lr = LogisticRegression(featuresCol='features', labelCol='label')\n",
        "model = lr.fit(training)"
      ]
    },
    {
      "cell_type": "markdown",
      "metadata": {
        "id": "c44edc0a"
      },
      "source": [
        "### Model Evaluation"
      ]
    },
    {
      "cell_type": "code",
      "execution_count": null,
      "metadata": {
        "id": "02b5aa8a"
      },
      "outputs": [],
      "source": [
        "trainingSummary = model.summary\n",
        "roc = trainingSummary.roc.toPandas()"
      ]
    },
    {
      "cell_type": "code",
      "execution_count": null,
      "metadata": {
        "id": "e3a152b6",
        "outputId": "04ba4c23-2e51-43e9-9536-6855415318e3",
        "colab": {
          "base_uri": "https://localhost:8080/",
          "height": 488
        }
      },
      "outputs": [
        {
          "output_type": "execute_result",
          "data": {
            "text/plain": [
              "           FPR       TPR\n",
              "0     0.000000  0.000000\n",
              "1     0.000149  0.001849\n",
              "2     0.000597  0.003400\n",
              "3     0.001014  0.004981\n",
              "4     0.001313  0.006681\n",
              "...        ...       ...\n",
              "998   0.994690  0.999433\n",
              "999   0.996509  0.999612\n",
              "1000  0.998210  0.999911\n",
              "1001  1.000000  1.000000\n",
              "1002  1.000000  1.000000\n",
              "\n",
              "[1003 rows x 2 columns]"
            ],
            "text/html": [
              "\n",
              "  <div id=\"df-1f1184fd-a2c6-42de-95a5-14aeaed30602\">\n",
              "    <div class=\"colab-df-container\">\n",
              "      <div>\n",
              "<style scoped>\n",
              "    .dataframe tbody tr th:only-of-type {\n",
              "        vertical-align: middle;\n",
              "    }\n",
              "\n",
              "    .dataframe tbody tr th {\n",
              "        vertical-align: top;\n",
              "    }\n",
              "\n",
              "    .dataframe thead th {\n",
              "        text-align: right;\n",
              "    }\n",
              "</style>\n",
              "<table border=\"1\" class=\"dataframe\">\n",
              "  <thead>\n",
              "    <tr style=\"text-align: right;\">\n",
              "      <th></th>\n",
              "      <th>FPR</th>\n",
              "      <th>TPR</th>\n",
              "    </tr>\n",
              "  </thead>\n",
              "  <tbody>\n",
              "    <tr>\n",
              "      <th>0</th>\n",
              "      <td>0.000000</td>\n",
              "      <td>0.000000</td>\n",
              "    </tr>\n",
              "    <tr>\n",
              "      <th>1</th>\n",
              "      <td>0.000149</td>\n",
              "      <td>0.001849</td>\n",
              "    </tr>\n",
              "    <tr>\n",
              "      <th>2</th>\n",
              "      <td>0.000597</td>\n",
              "      <td>0.003400</td>\n",
              "    </tr>\n",
              "    <tr>\n",
              "      <th>3</th>\n",
              "      <td>0.001014</td>\n",
              "      <td>0.004981</td>\n",
              "    </tr>\n",
              "    <tr>\n",
              "      <th>4</th>\n",
              "      <td>0.001313</td>\n",
              "      <td>0.006681</td>\n",
              "    </tr>\n",
              "    <tr>\n",
              "      <th>...</th>\n",
              "      <td>...</td>\n",
              "      <td>...</td>\n",
              "    </tr>\n",
              "    <tr>\n",
              "      <th>998</th>\n",
              "      <td>0.994690</td>\n",
              "      <td>0.999433</td>\n",
              "    </tr>\n",
              "    <tr>\n",
              "      <th>999</th>\n",
              "      <td>0.996509</td>\n",
              "      <td>0.999612</td>\n",
              "    </tr>\n",
              "    <tr>\n",
              "      <th>1000</th>\n",
              "      <td>0.998210</td>\n",
              "      <td>0.999911</td>\n",
              "    </tr>\n",
              "    <tr>\n",
              "      <th>1001</th>\n",
              "      <td>1.000000</td>\n",
              "      <td>1.000000</td>\n",
              "    </tr>\n",
              "    <tr>\n",
              "      <th>1002</th>\n",
              "      <td>1.000000</td>\n",
              "      <td>1.000000</td>\n",
              "    </tr>\n",
              "  </tbody>\n",
              "</table>\n",
              "<p>1003 rows × 2 columns</p>\n",
              "</div>\n",
              "      <button class=\"colab-df-convert\" onclick=\"convertToInteractive('df-1f1184fd-a2c6-42de-95a5-14aeaed30602')\"\n",
              "              title=\"Convert this dataframe to an interactive table.\"\n",
              "              style=\"display:none;\">\n",
              "        \n",
              "  <svg xmlns=\"http://www.w3.org/2000/svg\" height=\"24px\"viewBox=\"0 0 24 24\"\n",
              "       width=\"24px\">\n",
              "    <path d=\"M0 0h24v24H0V0z\" fill=\"none\"/>\n",
              "    <path d=\"M18.56 5.44l.94 2.06.94-2.06 2.06-.94-2.06-.94-.94-2.06-.94 2.06-2.06.94zm-11 1L8.5 8.5l.94-2.06 2.06-.94-2.06-.94L8.5 2.5l-.94 2.06-2.06.94zm10 10l.94 2.06.94-2.06 2.06-.94-2.06-.94-.94-2.06-.94 2.06-2.06.94z\"/><path d=\"M17.41 7.96l-1.37-1.37c-.4-.4-.92-.59-1.43-.59-.52 0-1.04.2-1.43.59L10.3 9.45l-7.72 7.72c-.78.78-.78 2.05 0 2.83L4 21.41c.39.39.9.59 1.41.59.51 0 1.02-.2 1.41-.59l7.78-7.78 2.81-2.81c.8-.78.8-2.07 0-2.86zM5.41 20L4 18.59l7.72-7.72 1.47 1.35L5.41 20z\"/>\n",
              "  </svg>\n",
              "      </button>\n",
              "      \n",
              "  <style>\n",
              "    .colab-df-container {\n",
              "      display:flex;\n",
              "      flex-wrap:wrap;\n",
              "      gap: 12px;\n",
              "    }\n",
              "\n",
              "    .colab-df-convert {\n",
              "      background-color: #E8F0FE;\n",
              "      border: none;\n",
              "      border-radius: 50%;\n",
              "      cursor: pointer;\n",
              "      display: none;\n",
              "      fill: #1967D2;\n",
              "      height: 32px;\n",
              "      padding: 0 0 0 0;\n",
              "      width: 32px;\n",
              "    }\n",
              "\n",
              "    .colab-df-convert:hover {\n",
              "      background-color: #E2EBFA;\n",
              "      box-shadow: 0px 1px 2px rgba(60, 64, 67, 0.3), 0px 1px 3px 1px rgba(60, 64, 67, 0.15);\n",
              "      fill: #174EA6;\n",
              "    }\n",
              "\n",
              "    [theme=dark] .colab-df-convert {\n",
              "      background-color: #3B4455;\n",
              "      fill: #D2E3FC;\n",
              "    }\n",
              "\n",
              "    [theme=dark] .colab-df-convert:hover {\n",
              "      background-color: #434B5C;\n",
              "      box-shadow: 0px 1px 3px 1px rgba(0, 0, 0, 0.15);\n",
              "      filter: drop-shadow(0px 1px 2px rgba(0, 0, 0, 0.3));\n",
              "      fill: #FFFFFF;\n",
              "    }\n",
              "  </style>\n",
              "\n",
              "      <script>\n",
              "        const buttonEl =\n",
              "          document.querySelector('#df-1f1184fd-a2c6-42de-95a5-14aeaed30602 button.colab-df-convert');\n",
              "        buttonEl.style.display =\n",
              "          google.colab.kernel.accessAllowed ? 'block' : 'none';\n",
              "\n",
              "        async function convertToInteractive(key) {\n",
              "          const element = document.querySelector('#df-1f1184fd-a2c6-42de-95a5-14aeaed30602');\n",
              "          const dataTable =\n",
              "            await google.colab.kernel.invokeFunction('convertToInteractive',\n",
              "                                                     [key], {});\n",
              "          if (!dataTable) return;\n",
              "\n",
              "          const docLinkHtml = 'Like what you see? Visit the ' +\n",
              "            '<a target=\"_blank\" href=https://colab.research.google.com/notebooks/data_table.ipynb>data table notebook</a>'\n",
              "            + ' to learn more about interactive tables.';\n",
              "          element.innerHTML = '';\n",
              "          dataTable['output_type'] = 'display_data';\n",
              "          await google.colab.output.renderOutput(dataTable, element);\n",
              "          const docLink = document.createElement('div');\n",
              "          docLink.innerHTML = docLinkHtml;\n",
              "          element.appendChild(docLink);\n",
              "        }\n",
              "      </script>\n",
              "    </div>\n",
              "  </div>\n",
              "  "
            ]
          },
          "metadata": {},
          "execution_count": 110
        }
      ],
      "source": [
        "roc"
      ]
    },
    {
      "cell_type": "code",
      "execution_count": null,
      "metadata": {
        "id": "9fe59d1a",
        "outputId": "4fd13077-dfbf-4f7e-e93b-b63dcb19f2b8",
        "colab": {
          "base_uri": "https://localhost:8080/",
          "height": 54
        }
      },
      "outputs": [
        {
          "output_type": "display_data",
          "data": {
            "text/plain": [
              "<Figure size 432x288 with 1 Axes>"
            ],
            "image/png": "[encoded data removed]"
          },
          "metadata": {
            "needs_background": "light"
          }
        }
      ],
      "source": [
        "\n",
        "plt.clf()\n",
        "plt.plot(roc['FPR'],roc['TPR'])\n",
        "plt.ylabel('False Positive Rate')\n",
        "plt.xlabel('True Positive Rate')\n",
        "plt.title('ROC Curve')\n",
        "plt.show()\n"
      ]
    },
    {
      "cell_type": "code",
      "execution_count": null,
      "metadata": {
        "id": "a60c0b28",
        "outputId": "4e160c83-a064-4406-b6be-cb59dbfdc784",
        "colab": {
          "base_uri": "https://localhost:8080/"
        }
      },
      "outputs": [
        {
          "output_type": "stream",
          "name": "stdout",
          "text": [
            "Training set areaUnderROC: 0.6534858740421683\n"
          ]
        }
      ],
      "source": [
        "print('Training set areaUnderROC: ' + str(trainingSummary.areaUnderROC))"
      ]
    },
    {
      "cell_type": "code",
      "execution_count": null,
      "metadata": {
        "id": "3bf924c3",
        "outputId": "eabc69a6-b254-4755-8dc6-0bce51efd772",
        "colab": {
          "base_uri": "https://localhost:8080/",
          "height": 108
        }
      },
      "outputs": [
        {
          "output_type": "execute_result",
          "data": {
            "text/plain": [
              "Text(0.5, 0, 'Recall')"
            ]
          },
          "metadata": {},
          "execution_count": 113
        },
        {
          "output_type": "display_data",
          "data": {
            "text/plain": [
              "<Figure size 432x288 with 1 Axes>"
            ],
            "image/png": "[encoded data removed]"
          },
          "metadata": {
            "needs_background": "light"
          }
        }
      ],
      "source": [
        "plt.clf()\n",
        "pr = trainingSummary.pr.toPandas()\n",
        "plt.plot(pr['recall'],pr['precision'])\n",
        "plt.ylabel('Precision')\n",
        "plt.xlabel('Recall')"
      ]
    },
    {
      "cell_type": "code",
      "execution_count": null,
      "metadata": {
        "id": "73bf1a0f"
      },
      "outputs": [],
      "source": [
        "summary = model.evaluate(test)"
      ]
    },
    {
      "cell_type": "code",
      "execution_count": null,
      "metadata": {
        "id": "199bd835",
        "outputId": "e9290d40-2bc3-4ebe-9757-117b2f2b00d7",
        "colab": {
          "base_uri": "https://localhost:8080/"
        }
      },
      "outputs": [
        {
          "output_type": "execute_result",
          "data": {
            "text/plain": [
              "0.6053567691985771"
            ]
          },
          "metadata": {},
          "execution_count": 115
        }
      ],
      "source": [
        "summary.accuracy"
      ]
    },
    {
      "cell_type": "code",
      "execution_count": null,
      "metadata": {
        "id": "19e68989",
        "outputId": "66777e11-541f-438d-d9d4-094ba11ab0de",
        "colab": {
          "base_uri": "https://localhost:8080/"
        }
      },
      "outputs": [
        {
          "output_type": "execute_result",
          "data": {
            "text/plain": [
              "DataFrame[label: int, features: vector, rawPrediction: vector, probability: vector, prediction: double]"
            ]
          },
          "metadata": {},
          "execution_count": 116
        }
      ],
      "source": [
        "output = model.transform(test)\n",
        "output"
      ]
    },
    {
      "cell_type": "code",
      "execution_count": null,
      "metadata": {
        "id": "c15c094b",
        "outputId": "48329a0b-937f-4f8e-ae3b-df62179ed665",
        "colab": {
          "base_uri": "https://localhost:8080/"
        }
      },
      "outputs": [
        {
          "output_type": "stream",
          "name": "stdout",
          "text": [
            "+-----+--------------------+--------------------+--------------------+----------+\n",
            "|label|            features|       rawPrediction|         probability|prediction|\n",
            "+-----+--------------------+--------------------+--------------------+----------+\n",
            "|    1|(70,[0,1,2,3,4,5,...|[0.15053102334363...|[0.53756185459256...|       0.0|\n",
            "|    1|(70,[0,1,2,3,4,5,...|[-0.5688867124242...|[0.36149374981334...|       1.0|\n",
            "|    1|(70,[0,1,2,3,4,7,...|[0.11752828911927...|[0.52934829796539...|       0.0|\n",
            "|    1|(70,[0,1,2,3,4,7,...|[-0.0972245296087...|[0.47571299588094...|       1.0|\n",
            "|    1|(70,[0,1,2,3,4,7,...|[0.41973531283215...|[0.60341991081567...|       0.0|\n",
            "|    1|(70,[0,1,2,3,4,7,...|[-1.1172097770833...|[0.24652920796117...|       1.0|\n",
            "|    1|(70,[0,1,2,3,4,7,...|[0.14235661180685...|[0.53552917211940...|       0.0|\n",
            "|    1|(70,[0,1,2,3,4,7,...|[-0.7403664788734...|[0.32292401012094...|       1.0|\n",
            "|    1|(70,[0,1,2,3,6,7,...|[-0.1142194879596...|[0.47147613168560...|       1.0|\n",
            "|    1|(70,[0,1,2,3,7,8,...|[-0.2268216812488...|[0.44353645077725...|       1.0|\n",
            "+-----+--------------------+--------------------+--------------------+----------+\n",
            "only showing top 10 rows\n",
            "\n"
          ]
        }
      ],
      "source": [
        "output.show(10)"
      ]
    },
    {
      "cell_type": "code",
      "execution_count": null,
      "metadata": {
        "id": "b1dec7ce",
        "outputId": "90f2be8f-d52e-48b4-b09b-f7351013b649",
        "colab": {
          "base_uri": "https://localhost:8080/"
        }
      },
      "outputs": [
        {
          "output_type": "stream",
          "name": "stdout",
          "text": [
            "Test Area Under ROC 0.6567529202962027\n"
          ]
        }
      ],
      "source": [
        "evaluator = BinaryClassificationEvaluator()\n",
        "print('Test Area Under ROC', evaluator.evaluate(output))"
      ]
    },
    {
      "cell_type": "markdown",
      "source": [
        "### Model Building (Gradient-Boosted Tree Classifier)"
      ],
      "metadata": {
        "id": "_Lzoa0-t-9rR"
      }
    },
    {
      "cell_type": "code",
      "source": [
        "gbt = GBTClassifier(labelCol=\"label\", featuresCol=\"features\", maxIter=10)"
      ],
      "metadata": {
        "id": "NYjbJ4OT2NZ9"
      },
      "execution_count": null,
      "outputs": []
    },
    {
      "cell_type": "code",
      "source": [
        "model = gbt.fit(training)"
      ],
      "metadata": {
        "id": "RJBpmDdb_Ye6"
      },
      "execution_count": null,
      "outputs": []
    },
    {
      "cell_type": "code",
      "source": [
        "prediction = model.transform(test)\n",
        "\n",
        "binEval = MulticlassClassificationEvaluator().setMetricName(\"accuracy\") .setPredictionCol(\"prediction\").setLabelCol(\"label\")\n",
        "\n",
        "binEval.evaluate(prediction)"
      ],
      "metadata": {
        "colab": {
          "base_uri": "https://localhost:8080/"
        },
        "id": "DH71MHc2AHwq",
        "outputId": "6218fae0-4eb4-4b2f-cfde-d266909fc7f8"
      },
      "execution_count": null,
      "outputs": [
        {
          "output_type": "execute_result",
          "data": {
            "text/plain": [
              "0.6229685429308781"
            ]
          },
          "metadata": {},
          "execution_count": 121
        }
      ]
    },
    {
      "cell_type": "markdown",
      "source": [
        "### Model Building (Random Forest)"
      ],
      "metadata": {
        "id": "xHCIJLBFBUNM"
      }
    },
    {
      "cell_type": "code",
      "source": [
        "rf = RandomForestClassifier(labelCol=\"label\", featuresCol=\"features\", numTrees=50)\n",
        "\n",
        "model = rf.fit(training)"
      ],
      "metadata": {
        "id": "_hJVSd5LBbit"
      },
      "execution_count": null,
      "outputs": []
    },
    {
      "cell_type": "code",
      "source": [
        "prediction = model.transform(test)\n",
        "\n",
        "binEval = MulticlassClassificationEvaluator().setMetricName(\"accuracy\") .setPredictionCol(\"prediction\").setLabelCol(\"label\")\n",
        "\n",
        "binEval.evaluate(prediction)"
      ],
      "metadata": {
        "colab": {
          "base_uri": "https://localhost:8080/"
        },
        "id": "jwNpgVB4Bbl5",
        "outputId": "ae958e02-9ffe-451f-a4c9-e9ac30caf5b0"
      },
      "execution_count": null,
      "outputs": [
        {
          "output_type": "execute_result",
          "data": {
            "text/plain": [
              "0.6054962683964568"
            ]
          },
          "metadata": {},
          "execution_count": 123
        }
      ]
    },
    {
      "cell_type": "markdown",
      "source": [
        "### Model Building (Support Vector Machines)"
      ],
      "metadata": {
        "id": "OdgOsratEc_b"
      }
    },
    {
      "cell_type": "code",
      "source": [
        "SVC = LinearSVC(labelCol=\"label\", featuresCol=\"features\", maxIter=10, regParam=0.1)\n",
        "\n",
        "model = SVC.fit(training)"
      ],
      "metadata": {
        "id": "8fRoTZ4wEc_b"
      },
      "execution_count": null,
      "outputs": []
    },
    {
      "cell_type": "code",
      "source": [
        "prediction = model.transform(test)\n",
        "\n",
        "binEval = MulticlassClassificationEvaluator().setMetricName(\"accuracy\") .setPredictionCol(\"prediction\").setLabelCol(\"label\")\n",
        "\n",
        "binEval.evaluate(prediction)"
      ],
      "metadata": {
        "colab": {
          "base_uri": "https://localhost:8080/"
        },
        "outputId": "0fc0ff8d-50a3-4db6-cbb5-cd4d9f237329",
        "id": "qFXb2ACMEc_b"
      },
      "execution_count": null,
      "outputs": [
        {
          "output_type": "execute_result",
          "data": {
            "text/plain": [
              "0.6030201576340936"
            ]
          },
          "metadata": {},
          "execution_count": 125
        }
      ]
    },
    {
      "cell_type": "code",
      "source": [
        "print(\"Coefficients: \" + str(model.coefficients))\n",
        "print(\"Intercept: \" + str(model.intercept))"
      ],
      "metadata": {
        "colab": {
          "base_uri": "https://localhost:8080/"
        },
        "id": "1qvhhy0NEc_b",
        "outputId": "f40c4b30-8e32-43f2-facc-50c317c12c05"
      },
      "execution_count": null,
      "outputs": [
        {
          "output_type": "stream",
          "name": "stdout",
          "text": [
            "Coefficients: [-7.613117049512444e-05,-5.940232747642775e-05,-4.2864211838444296e-05,-3.6700063953831445e-05,1.801312864057599e-05,5.8745542848702825e-05,3.184448451446779e-05,-2.6402380845927595e-05,-4.742219177968407e-05,-5.537929545169908e-05,-4.485788385663901e-05,2.2628636547118503e-05,5.58322704217395e-05,4.360644515912757e-05,6.332710016071887e-05,-6.232935278320302e-05,-5.9040806940170056e-05,-3.223934365346064e-05,6.5647613277515616e-06,4.982240298664503e-05,4.607478536894399e-05,0.000142630726318034,-4.8943142014807726e-05,-5.6473870817278346e-05,-3.906836161763224e-05,1.5242313176348912e-05,5.6902389073680796e-05,3.823763098619266e-05,2.5885142632878456e-05,-6.405182899185887e-05,-5.342255498236004e-05,-4.7226390633618136e-05,1.93242610087762e-05,7.203477920553252e-05,0.0001117892853937175,9.130224160817187e-05,4.9129435000646835e-05,4.615692215061208e-05,4.5523820595681206e-05,-2.439123448486552e-05,-7.490809824385021e-05,-3.5668532284768506e-05,-1.6171189411107677e-05,4.674338250831668e-05,5.066786466763889e-05,3.435737197405591e-05,-1.5088563152805098e-05,-6.618836771122982e-05,-6.529173659638176e-05,-7.017267919770652e-05,5.5671003343344464e-05,5.92575484719773e-05,4.542359268243961e-05,-2.114352064692357e-06,-5.7524515758990183e-05,-6.422181775359805e-05,-0.00013246259157742693,5.4291238719736686e-05,5.312999173001909e-05,3.349780209285137e-05,-1.4871779945097685e-05,-5.82485655823818e-05,-3.505875263900997e-05,8.857909425075277e-05,7.774819266370685e-05,4.8635136975899825e-05,4.5888486935442426e-05,-2.304279935628203e-05,-8.676602157685897e-05,-0.005809213242906698]\n",
            "Intercept: 0.15377767619401272\n"
          ]
        }
      ]
    },
    {
      "cell_type": "markdown",
      "source": [
        "### Model Building (One vs All)"
      ],
      "metadata": {
        "id": "0xqURmQaFpU3"
      }
    },
    {
      "cell_type": "code",
      "source": [
        "lr = LogisticRegression(maxIter=10, tol=1E-6, fitIntercept=True)\n",
        "\n",
        "ovr = OneVsRest(classifier=lr)\n",
        "\n",
        "model = ovr.fit(training)"
      ],
      "metadata": {
        "id": "QXj4mqrlB7Lc"
      },
      "execution_count": null,
      "outputs": []
    },
    {
      "cell_type": "code",
      "source": [
        "prediction = model.transform(test)\n",
        "\n",
        "binEval = MulticlassClassificationEvaluator().setMetricName(\"accuracy\") .setPredictionCol(\"prediction\").setLabelCol(\"label\")\n",
        "\n",
        "binEval.evaluate(prediction)"
      ],
      "metadata": {
        "colab": {
          "base_uri": "https://localhost:8080/"
        },
        "id": "pVqSRyJAF2Vu",
        "outputId": "9e97f0ef-ca4b-48f0-b61d-715a42633aeb"
      },
      "execution_count": null,
      "outputs": [
        {
          "output_type": "execute_result",
          "data": {
            "text/plain": [
              "0.6053218943991072"
            ]
          },
          "metadata": {},
          "execution_count": 128
        }
      ]
    },
    {
      "cell_type": "markdown",
      "source": [
        "### Model Building (Naive Bayes)"
      ],
      "metadata": {
        "id": "hAMw0IExIb5i"
      }
    },
    {
      "cell_type": "code",
      "source": [
        "NB = NaiveBayes(smoothing=1.0, modelType=\"multinomial\")\n",
        "\n",
        "NBmodel = ovr.fit(training)"
      ],
      "metadata": {
        "id": "KgluXnMBIb5i"
      },
      "execution_count": null,
      "outputs": []
    },
    {
      "cell_type": "code",
      "source": [
        "prediction = NBmodel.transform(test)\n",
        "\n",
        "binEval = MulticlassClassificationEvaluator().setMetricName(\"accuracy\") .setPredictionCol(\"prediction\").setLabelCol(\"label\")\n",
        "\n",
        "binEval.evaluate(prediction)"
      ],
      "metadata": {
        "colab": {
          "base_uri": "https://localhost:8080/"
        },
        "outputId": "765dbc5b-ae25-4d97-af46-54a9155171b3",
        "id": "-5miJwhUIb5i"
      },
      "execution_count": null,
      "outputs": [
        {
          "output_type": "execute_result",
          "data": {
            "text/plain": [
              "0.6053218943991072"
            ]
          },
          "metadata": {},
          "execution_count": 130
        }
      ]
    },
    {
      "cell_type": "markdown",
      "source": [
        "### Model Building (FM Classifier)"
      ],
      "metadata": {
        "id": "JN76MHxWJ4oK"
      }
    },
    {
      "cell_type": "code",
      "source": [
        "FM = FMClassifier(labelCol=\"label\", featuresCol=\"features\", stepSize=0.001)\n",
        "\n",
        "FMmodel = FM.fit(training)"
      ],
      "metadata": {
        "id": "owe0V30CJ4oK"
      },
      "execution_count": null,
      "outputs": []
    },
    {
      "cell_type": "code",
      "source": [
        "prediction = FMmodel.transform(test)\n",
        "\n",
        "binEval = MulticlassClassificationEvaluator().setMetricName(\"accuracy\") .setPredictionCol(\"prediction\").setLabelCol(\"label\")\n",
        "\n",
        "binEval.evaluate(prediction)"
      ],
      "metadata": {
        "colab": {
          "base_uri": "https://localhost:8080/"
        },
        "outputId": "1d0c55f5-0f8d-4781-9f22-296ca02748c6",
        "id": "w17HvVHlJ4oL"
      },
      "execution_count": null,
      "outputs": [
        {
          "output_type": "execute_result",
          "data": {
            "text/plain": [
              "0.5385715282137128"
            ]
          },
          "metadata": {},
          "execution_count": 132
        }
      ]
    },
    {
      "cell_type": "markdown",
      "source": [
        "## Clustering"
      ],
      "metadata": {
        "id": "1vl48IzrcxYx"
      }
    },
    {
      "cell_type": "markdown",
      "source": [
        "### Kmeans"
      ],
      "metadata": {
        "id": "AjFOETJtfqCV"
      }
    },
    {
      "cell_type": "code",
      "source": [
        "kmeans = KMeans().setK(2).setSeed(1)\n",
        "model = kmeans.fit(model_data)"
      ],
      "metadata": {
        "id": "dSpreng-cxYz"
      },
      "execution_count": null,
      "outputs": []
    },
    {
      "cell_type": "code",
      "source": [
        "predictions = model.transform(model_data)\n",
        "\n",
        "# Evaluate clustering by computing Silhouette score\n",
        "evaluator = ClusteringEvaluator()\n",
        "\n",
        "silhouette = evaluator.evaluate(predictions)\n",
        "print(\"Silhouette with squared euclidean distance = \" + str(silhouette))\n",
        "\n",
        "# Shows the result.\n",
        "centers = model.clusterCenters()\n",
        "print(\"Cluster Centers: \")\n",
        "for center in centers:\n",
        "    print(center)"
      ],
      "metadata": {
        "colab": {
          "base_uri": "https://localhost:8080/"
        },
        "outputId": "1fdd807d-1735-4d67-b51b-fdbb98ff9335",
        "id": "Nw8DqtY0cxYz"
      },
      "execution_count": null,
      "outputs": [
        {
          "output_type": "stream",
          "name": "stdout",
          "text": [
            "Silhouette with squared euclidean distance = 0.13130204902244133\n",
            "Cluster Centers: \n",
            "[ 170.62443594 1876.7298751  2216.87473811 1941.31259065 1552.69252619\n",
            "  964.73571716  253.86474617  125.44216358 2676.24419823 2430.77078969\n",
            " 2237.64462127 1848.36105963 1089.16257051  363.2075141   179.93031829\n",
            " 2068.18714746 2362.54454069 2055.08086221 1617.90932716 1016.80231668\n",
            "  321.55122885  145.5935133  2350.96887591 2710.92816277 2249.48748993\n",
            " 1757.44256648 1021.19544722  295.96512893  175.14603143 2303.65662772\n",
            " 2267.6707494  2040.07350927 1759.77135375 1151.9107776   431.42097099\n",
            "  169.69788477 1891.64010878 2218.69929492 1953.78152699 1549.72993554\n",
            "  962.03470991  254.68321918  125.62407333 2670.48982675 2408.13231265\n",
            " 2247.71003223 1858.30394843 1096.35680902  364.80898469  180.15348509\n",
            " 2086.05433118 2347.99206285 2057.79580983 1623.64768332 1025.10181305\n",
            "  319.97473811  146.70225624 2336.42731668 2703.19101531 2260.63638195\n",
            " 1736.1762087  1021.54071313  319.20134972  177.12369057 2329.66688155\n",
            " 2306.89605157 2077.59576954 1786.33730862 1154.8817083    25.95732148]\n",
            "[ 167.41163578 1146.35831778 1239.60505186 1135.03179115  855.77494466\n",
            "  636.71735168  149.55867801  127.32272905 1165.03663035 1107.19784298\n",
            " 1038.48296515  797.49092921  553.63154811  172.95965887  174.95267133\n",
            " 1210.25938544 1326.78742242 1182.75569637  909.18280457  647.32674363\n",
            "  199.64526279  144.46061369 1004.12082809 1082.59320342  992.83679094\n",
            "  697.10229591  493.41115837  131.00355887  176.92448244 1227.59053427\n",
            " 1161.45039278 1104.15585261  914.80654051  652.45924656  240.62809774\n",
            "  168.3497461  1140.46371685 1239.96391216 1131.7088451   863.52078903\n",
            "  635.48802135  147.11362354  126.43945575 1167.31598021 1106.88279589\n",
            " 1029.24612647  799.12855345  555.30194002  169.29688382  175.96729743\n",
            " 1179.6554186  1299.78486177 1159.98609001  896.41102817  630.30315524\n",
            "  199.30178812  143.57091706 1003.56414652 1082.80200512 1000.75858253\n",
            "  696.95753223  490.70131505  131.25923354  177.54433401 1211.02988152\n",
            " 1144.00540341 1086.29766503  901.20812899  642.04886941   31.54473451]\n"
          ]
        }
      ]
    },
    {
      "cell_type": "code",
      "source": [
        "ks = [3,7,10]\n",
        "silhouette_score = []\n",
        "\n",
        "for k_num in ks:\n",
        "    # build kmeans model with k as no of cluster\n",
        "    print(\"K :  \",k_num)\n",
        "    model_k = KMeans(k=k_num , seed=1)\n",
        "\n",
        "    # train the model\n",
        "    model = model_k.fit(model_data.select('features'))\n",
        "    final_output  = model.transform(model_data)\n",
        "    # Append costfunction to list of costfunction\n",
        "    silhouette_score.append(evaluator.evaluate(final_output))"
      ],
      "metadata": {
        "colab": {
          "base_uri": "https://localhost:8080/"
        },
        "outputId": "277a3ae3-943a-4b93-f207-0bacf3bb3980",
        "id": "IhErFQ6bcxYz"
      },
      "execution_count": null,
      "outputs": [
        {
          "output_type": "stream",
          "name": "stdout",
          "text": [
            "K :   3\n",
            "K :   7\n",
            "K :   10\n"
          ]
        }
      ]
    },
    {
      "cell_type": "code",
      "source": [
        "# Plot k vs cost_function\n",
        "plt.plot(ks, silhouette_score, '-o')\n",
        "plt.xlabel('number of clusters, k')\n",
        "plt.ylabel('silhouette score')\n",
        "plt.xticks(ks)\n",
        "plt.show()"
      ],
      "metadata": {
        "colab": {
          "base_uri": "https://localhost:8080/",
          "height": 54
        },
        "outputId": "235af00e-067d-4a4d-db51-5163f1a60fdc",
        "id": "zMw5RWP2cxYz"
      },
      "execution_count": null,
      "outputs": [
        {
          "output_type": "display_data",
          "data": {
            "text/plain": [
              "<Figure size 432x288 with 1 Axes>"
            ],
            "image/png": "[encoded data removed]"
          },
          "metadata": {
            "needs_background": "light"
          }
        }
      ]
    },
    {
      "cell_type": "markdown",
      "source": [
        "### LDA"
      ],
      "metadata": {
        "id": "1XS_fGoxfuVq"
      }
    },
    {
      "cell_type": "code",
      "source": [
        "lda = LDA(k=10, maxIter=10)\n",
        "model = lda.fit(model_data)\n",
        "\n",
        "ll = model.logLikelihood(model_data)\n",
        "lp = model.logPerplexity(model_data)\n",
        "print(\"The lower bound on the log likelihood of the entire corpus: \" + str(ll))\n",
        "print(\"The upper bound on perplexity: \" + str(lp))\n",
        "\n",
        "# Describe topics.\n",
        "topics = model.describeTopics(3)\n",
        "print(\"The topics described by their top-weighted terms:\")\n",
        "topics.show(truncate=False)\n",
        "\n",
        "# Shows the result\n",
        "transformed = model.transform(model_data)\n",
        "transformed.show(5, truncate=False)"
      ],
      "metadata": {
        "colab": {
          "base_uri": "https://localhost:8080/"
        },
        "id": "8vPH9d_HcxY0",
        "outputId": "74ef7de1-88b8-4b5d-dbba-46470292034f"
      },
      "execution_count": null,
      "outputs": [
        {
          "output_type": "stream",
          "name": "stdout",
          "text": [
            "The lower bound on the log likelihood of the entire corpus: -27908701961.539814\n",
            "The upper bound on perplexity: 3.807441487629812\n",
            "The topics described by their top-weighted terms:\n",
            "+-----+------------+----------------------------------------------------------------+\n",
            "|topic|termIndices |termWeights                                                     |\n",
            "+-----+------------+----------------------------------------------------------------+\n",
            "|0    |[43, 46, 45]|[0.05604716616230475, 0.050898631002676026, 0.0500503536243828] |\n",
            "|1    |[8, 9, 65]  |[0.06102567993757003, 0.04147091514695986, 0.040359996488833975]|\n",
            "|2    |[58, 60, 57]|[0.09977622021482445, 0.09654324397252544, 0.094427876728685]   |\n",
            "|3    |[36, 37, 38]|[0.06893009864339847, 0.05942065473430955, 0.05007665783493573] |\n",
            "|4    |[15, 16, 17]|[0.09098543795044776, 0.08111123381999007, 0.07730713304547875] |\n",
            "|5    |[2, 3, 4]   |[0.09676394134378791, 0.08621554788277032, 0.08581072608684653] |\n",
            "|6    |[23, 22, 51]|[0.06594995361230513, 0.04939278794296847, 0.044871484430975744]|\n",
            "|7    |[29, 30, 31]|[0.07335453686088095, 0.0708724018293534, 0.062036820323356424] |\n",
            "|8    |[9, 8, 11]  |[0.07935970705044956, 0.07926910127820087, 0.07046044357039447] |\n",
            "|9    |[23, 43, 22]|[0.07914212080292381, 0.06508434771699688, 0.06255828848212477] |\n",
            "+-----+------------+----------------------------------------------------------------+\n",
            "\n",
            "+-----+------------------------------------------------------------------------------------------------------------------------------------------------------------------------------------------------------------------------------------------------------------------------------------------------------------------------------------------------------------------------------------------------------------------------------------+--------------------------------------------------------------------------------------------------------------------------------------------------------------------------------------------------------------------+\n",
            "|label|features                                                                                                                                                                                                                                                                                                                                                                                                                            |topicDistribution                                                                                                                                                                                                   |\n",
            "+-----+------------------------------------------------------------------------------------------------------------------------------------------------------------------------------------------------------------------------------------------------------------------------------------------------------------------------------------------------------------------------------------------------------------------------------------+--------------------------------------------------------------------------------------------------------------------------------------------------------------------------------------------------------------------+\n",
            "|1    |[1.0,0.0,3152.0,3089.0,3020.0,1026.0,4645.0,120.0,304.0,231.0,613.0,158.0,0.0,0.0,29.0,300.0,646.0,443.0,157.0,300.0,0.0,51.0,6671.0,3031.0,0.0,3094.0,6676.0,3006.0,89.0,385.0,731.0,93.0,1.0,300.0,0.0,48.0,308.0,230.0,743.0,193.0,300.0,0.0,11.0,303.0,135.0,81.0,1.0,600.0,0.0,13.0,304.0,31.0,573.0,82.0,200.0,0.0,221.0,3036.0,0.0,6673.0,3046.0,3006.0,3031.0,555.0,385.0,720.0,553.0,134.0,0.0,32.25]                      |[1.2790927929845213E-6,1.1776532169351967E-6,0.293464060816324,1.2774944247415542E-6,1.3007488878421592E-6,0.280560231601854,0.4134441450326545,1.3011576823043922E-6,0.012523983171182505,1.243230980333467E-6]    |\n",
            "|1    |[1.0,102.0,631.0,523.0,157.0,300.0,0.0,59.0,633.0,366.0,923.0,47.0,600.0,0.0,14.0,308.0,430.0,683.0,110.0,300.0,0.0,498.0,303.0,166.0,713.0,6.0,0.0,0.0,26.0,315.0,866.0,533.0,40.0,300.0,0.0,39.0,308.0,230.0,476.0,333.0,600.0,0.0,131.0,3152.0,3115.0,3157.0,3020.0,3089.0,0.0,238.0,669.0,366.0,766.0,694.0,0.0,0.0,145.0,303.0,166.0,723.0,6.0,0.0,0.0,40.0,385.0,320.0,653.0,107.0,100.0,41.47]                               |[0.9575541292246834,2.399773187625402E-6,2.5943585493185047E-6,2.603225299291452E-6,0.04242515082108352,2.7142606108210443E-6,2.6031670327426583E-6,2.6515101917589735E-6,2.620256254169093E-6,2.533403107234393E-6]|\n",
            "|1    |[1.0,105.0,666.0,553.0,135.0,300.0,0.0,254.0,663.0,220.0,316.0,333.0,0.0,0.0,42.0,304.0,230.0,746.0,655.0,400.0,0.0,81.0,3074.0,6694.0,3078.0,3158.0,3042.0,0.0,350.0,322.0,238.0,531.0,52.0,0.0,0.0,107.0,314.0,266.0,913.0,26.0,0.0,0.0,114.0,1037.0,3111.0,6632.0,3074.0,3044.0,0.0,101.0,102.0,631.0,574.0,630.0,0.0,0.0,360.0,303.0,530.0,721.0,18.0,0.0,0.0,22.0,4005.0,3042.0,3158.0,3864.0,0.0,35.67]                       |[0.15629049787886617,1.2638705998738397E-6,1.3663566154410223E-6,0.1482077974912443,1.3959964263178722E-6,1.4295046811095266E-6,1.371017795894809E-6,1.3964326440454574E-6,1.3799697083798993E-6,0.6954921014814184]|\n",
            "|1    |[1.0,1056.0,6653.0,1082.0,0.0,3116.0,3020.0,421.0,3814.0,6693.0,3047.0,1036.0,1036.0,0.0,157.0,3068.0,3153.0,3006.0,1031.0,0.0,0.0,29.0,3153.0,2031.0,3006.0,3085.0,1082.0,0.0,117.0,3853.0,2065.0,3916.0,0.0,3158.0,0.0,777.0,667.0,310.0,381.0,37.0,0.0,0.0,141.0,669.0,220.0,316.0,333.0,0.0,0.0,61.0,3157.0,6655.0,3020.0,1082.0,1056.0,0.0,15.0,6671.0,1018.0,3006.0,1036.0,1036.0,0.0,497.0,315.0,839.0,163.0,860.0,0.0,23.57]|[8.579542679031573E-7,0.32225837119519674,0.013337988927308322,8.568676497652754E-7,0.06866388928844623,0.1302648657803732,0.42639951911442564,8.727718731075073E-7,0.039071944215794976,8.338846640742173E-7]      |\n",
            "|1    |[1.0,1056.0,6653.0,3020.0,4645.0,1026.0,0.0,35.0,314.0,266.0,913.0,153.0,300.0,0.0,58.0,6693.0,3067.0,3153.0,3133.0,1001.0,0.0,498.0,1055.0,6671.0,3006.0,3094.0,3031.0,0.0,267.0,385.0,332.0,222.0,31.0,0.0,0.0,12.0,310.0,531.0,176.0,664.0,300.0,0.0,238.0,3142.0,6692.0,3047.0,3035.0,0.0,0.0,14.0,306.0,830.0,92.0,33.0,300.0,0.0,119.0,3508.0,2031.0,6692.0,3006.0,1037.0,0.0,111.0,386.0,31.0,902.0,31.0,0.0,24.57]          |[9.47476524950196E-7,8.723295306086343E-7,0.2126802757136437,9.462800405832494E-7,0.10646470568350683,0.20344056621141057,9.462746093809105E-7,9.638217235198778E-7,9.524734022638373E-7,0.47740882373560756]       |\n",
            "+-----+------------------------------------------------------------------------------------------------------------------------------------------------------------------------------------------------------------------------------------------------------------------------------------------------------------------------------------------------------------------------------------------------------------------------------------+--------------------------------------------------------------------------------------------------------------------------------------------------------------------------------------------------------------------+\n",
            "only showing top 5 rows\n",
            "\n"
          ]
        }
      ]
    },
    {
      "cell_type": "markdown",
      "source": [
        "### Gaussian Mixture"
      ],
      "metadata": {
        "id": "FcrERnGLmvhA"
      }
    },
    {
      "cell_type": "code",
      "source": [
        "gmm = GaussianMixture().setK(2).setSeed(538009335)\n",
        "model = gmm.fit(model_data)\n",
        "\n",
        "print(\"Gaussians shown as a DataFrame: \")\n",
        "model.gaussiansDF.show(5, truncate=False)"
      ],
      "metadata": {
        "colab": {
          "base_uri": "https://localhost:8080/"
        },
        "id": "geLErTOwcxY0",
        "outputId": "969550e5-4adc-45c6-88e3-9e4e50d1d8a9"
      },
      "execution_count": null,
      "outputs": [
        {
          "output_type": "stream",
          "name": "stdout",
          "text": [
            "Gaussians shown as a DataFrame: \n",
            "+--------------------------------------------------------------------------------------------------------------------------------------------------------------------------------------------------------------------------------------------------------------------------------------------------------------------------------------------------------------------------------------------------------------------------------------------------------------------------------------------------------------------------------------------------------------------------------------------------------------------------------------------------------------------------------------------------------------------------------------------------------------------------------------------------------------------------------------------------------------------------------------------------------------------------------------------------------------------------------------------------------------------------------------------------------------------------------------------------------------------------------------------------------------------------------------------------------------------------------------------------------------------------------------------------------------------------------------------------+-----------------------------------------------------------------------------------------------------------------------------------------------------------------------------------------------------------------------------------------------------------------------------------------------------------------------------------------------------------------------------------------------------------------------------------------------------------------------------------------------------------------------------------------------------------------------------------------------------------------------------------------------------------------------------------------------------------------------------------------------------------------------------------------------------------------------------------------------------------------------------------------------------------------------------------------------------------------------------------------------------------------------------------------------------------------------------------------------------------------------------------------------------------------------------------------------------------------------------------------------------------------------------------------------------------------------------------------------------------------------------------------------------------------------------------------------------------------------------------------------------------------------------------------------------------------------------------------------------------------------------------------------------------------------------------------------------------------------------------------------------------------------------------------------------------------------------------------------------------------------------------------------------------------------------------------------------------------------------------------------------------------------------------------------------------------------------------------------------------------------------------------------------------------------------------------------------------------------------------------------------------------------------------------------------------------------------------------------------------------------------------------------------------------------------------------------------------------------------------------------------------------------------------------------------------------------------------------------------------------------------------------------------------------------------------------------------------------------------------------------------------------------------------------------------------------------------------------------------------------------------------------------------------------------------------------------------------------------------------------------------------------------------------------------------------------------------------------------------------------------------------------------------------------------------------------------------------------------------------------------------------------------------------------------------------------------------------------------------------------------------------------------------------------------------------------------------------------------------------------------------------------------------------------------------------------------------------------------------------------------------------------------------------------------------------------------------------------------------------------------------------------------------------------------------------------------------------------------------------------------------------------------------------------------------------------------------------------------------------------------------------------------------------------------------------------------------------------------------------------------------------------------------------------------------------------------------------------------------------------------------------------------------------------------------------------------------------------------------------------------------------------------------------------------------------------------------------------------------------------------------------------------------------------------------------------------------------------------------------------------------------------------------------------------------------------------------------------------------------------------------------------------------------------------------------------------------------------------------------------------------------------------------------------------------------------------------------------+\n",
            "|mean                                                                                                                                                                                                                                                                                                                                                                                                                                                                                                                                                                                                                                                                                                                                                                                                                                                                                                                                                                                                                                                                                                                                                                                                                                                                                                                                              |cov                                                                                                                                                                                                                                                                                                                                                                                                                                                                                                                                                                                                                                                                                                                                                                                                                                                                                                                                                                                                                                                                                                                                                                                                                                                                                                                                                                                                                                                                                                                                                                                                                                                                                                                                                                                                                                                                                                                                                                                                                                                                                                                                                                                                                                                                                                                                                                                                                                                                                                                                                                                                                                                                                                                                                                                                                                                                                                                                                                                                                                                                                                                                                                                                                                                                                                                                                                                                                                                                                                                                                                                                                                                                                                                                                                                                                                                                                                                                                                                                                                                                                                                                                                                                                                                                                                                                                                                                                                                                                                                                                                                                                                                                                                                                                                                                                                                                                                                                                              |\n",
            "+--------------------------------------------------------------------------------------------------------------------------------------------------------------------------------------------------------------------------------------------------------------------------------------------------------------------------------------------------------------------------------------------------------------------------------------------------------------------------------------------------------------------------------------------------------------------------------------------------------------------------------------------------------------------------------------------------------------------------------------------------------------------------------------------------------------------------------------------------------------------------------------------------------------------------------------------------------------------------------------------------------------------------------------------------------------------------------------------------------------------------------------------------------------------------------------------------------------------------------------------------------------------------------------------------------------------------------------------------+-----------------------------------------------------------------------------------------------------------------------------------------------------------------------------------------------------------------------------------------------------------------------------------------------------------------------------------------------------------------------------------------------------------------------------------------------------------------------------------------------------------------------------------------------------------------------------------------------------------------------------------------------------------------------------------------------------------------------------------------------------------------------------------------------------------------------------------------------------------------------------------------------------------------------------------------------------------------------------------------------------------------------------------------------------------------------------------------------------------------------------------------------------------------------------------------------------------------------------------------------------------------------------------------------------------------------------------------------------------------------------------------------------------------------------------------------------------------------------------------------------------------------------------------------------------------------------------------------------------------------------------------------------------------------------------------------------------------------------------------------------------------------------------------------------------------------------------------------------------------------------------------------------------------------------------------------------------------------------------------------------------------------------------------------------------------------------------------------------------------------------------------------------------------------------------------------------------------------------------------------------------------------------------------------------------------------------------------------------------------------------------------------------------------------------------------------------------------------------------------------------------------------------------------------------------------------------------------------------------------------------------------------------------------------------------------------------------------------------------------------------------------------------------------------------------------------------------------------------------------------------------------------------------------------------------------------------------------------------------------------------------------------------------------------------------------------------------------------------------------------------------------------------------------------------------------------------------------------------------------------------------------------------------------------------------------------------------------------------------------------------------------------------------------------------------------------------------------------------------------------------------------------------------------------------------------------------------------------------------------------------------------------------------------------------------------------------------------------------------------------------------------------------------------------------------------------------------------------------------------------------------------------------------------------------------------------------------------------------------------------------------------------------------------------------------------------------------------------------------------------------------------------------------------------------------------------------------------------------------------------------------------------------------------------------------------------------------------------------------------------------------------------------------------------------------------------------------------------------------------------------------------------------------------------------------------------------------------------------------------------------------------------------------------------------------------------------------------------------------------------------------------------------------------------------------------------------------------------------------------------------------------------------------------------------------------------------------------+\n",
            "|[169.07774597271265,1525.1181024215957,1746.4025197969117,1553.1569754079521,1217.1859969494994,806.8227784626313,203.6502475919851,126.34749587346691,1948.7263116107058,1793.583011219991,1660.3502956478133,1342.4564885815173,831.3499404525605,271.6193560519003,177.53400472200747,1655.1679133323582,1863.9155993397546,1635.1305029146904,1276.717797371555,838.9312592716408,262.86387664277805,145.04811850985143,1702.5761162533167,1927.0234010990157,1644.5170807128977,1246.9789285639663,767.112210359165,216.55016610601533,176.00220429995193,1785.6223438707923,1735.11975303483,1589.508775412131,1352.9926767096383,911.467353377489,339.57043312927016,169.0488706880341,1530.012578090721,1747.5214684189632,1558.023463780531,1219.378606798855,804.830258456781,202.8976097448862,126.0166106015336,1946.839493533357,1781.69136666597,1661.1233154342783,1348.4010990159002,835.8849167380539,270.68654018929817,178.13819184722425,1649.7003614634043,1843.369465744552,1625.5768057499843,1273.5450993502016,835.0398445498422,261.8809782495142,145.19478280854975,1694.7670859363573,1923.111552203255,1654.1123984037106,1235.8808215457261,765.9867010718539,228.72320887570254,177.3261946052109,1791.1383276571737,1747.0631307327467,1600.3700612189464,1360.2229059150457,907.9963226844403,28.647185536762294]|54754.24039838773    10377.871054530613   10700.431807188212   ... (70 total)\\n10377.871054530613   3804522.4749780837   2136198.075212738    ...\\n10700.431807188212   2136198.075212738    4043821.7750873594   ...\\n6970.926190311661    1886642.5429618377   2136988.6942472737   ...\\n887.0355697823204    1753604.27311699     2037165.1527709153   ...\\n-14246.464721979451  1043026.569811428    1203639.9301764052   ...\\n1398.118581490362    358635.0906056181    297616.17853743426   ...\\n6.574663459912192    -412.1826794347099   -1243.2671801258086  ...\\n-4112.572994828799   190067.0795642308    297338.9655378465    ...\\n-768.2562396261371   154581.43485362013   248609.7218045774    ...\\n-4914.322923676976   148556.46047834118   237118.51631922403   ...\\n-2608.324775788456   120755.36156157003   181155.4905820497    ...\\n-599.029682380721    46915.84613697167    58140.810689228936   ...\\n-794.8465164511593   20622.49521718978    31289.035459051487   ...\\n-446.42192038550536  212.94118464534807   863.4950773914584    ...\\n1517.2064978686235   141022.80578905373   199818.906524094     ...\\n1954.6231598766565   157994.81735807325   242634.9019552189    ...\\n-1145.2369277981168  138864.39196490432   198797.76546376717   ...\\n249.9233943290282    82474.64629135157    126472.11035360018   ...\\n1763.541783168972    37860.47641204682    38305.73001588219    ...\\n960.9224110447379    15842.408013565922   22433.66312689828    ...\\n42.53701241146217    1647.9789496693656   754.5393952677615    ...\\n3940.104464416201    153400.0907628949    236712.3843760142    ...\\n4140.510309532039    190941.5208567586    307613.0746574009    ...\\n1543.2918334900482   140132.52541111305   203422.51370510596   ...\\n2028.7449574144848   103071.26122743596   164281.57107961047   ...\\n1215.9466677514781   44236.64194711665    56805.619664600315   ...\\n-65.32494448675324   29061.72740197838    34791.2232934951     ...\\n199.25523490524364   1856.7848256450088   1864.5629642958281   ...\\n880.628460718731     160770.21407202742   243299.94492478986   ...\\n1380.2832243153566   160543.4709909108    239630.06221052204   ...\\n-290.1721579847609   143817.70535816206   193326.75323210328   ...\\n-155.4660005022179   109669.95148231143   149049.3850856271    ...\\n938.5508969324147    47876.92404640606    49610.17196542465    ...\\n724.0331045804785    5144.77803695581     14638.336831778905   ...\\n-685.9997878822044   1186.5598975875366   1921.3433172352475   ...\\n280.6870248620866    75342.50644370893    133772.69190328434   ...\\n2902.800006602723    101246.43337790214   192240.99758490044   ...\\n4210.091278729499    83020.99120099854    150289.53108941054   ...\\n1683.9599821170186   65501.3374339251     101180.08306638058   ...\\n1674.555997749363    21802.392437769347   38885.84967031269    ...\\n-57.94047357682497   15722.291881927275   36655.40662644469    ...\\n-166.1825350086357   217.52022750414181   1069.1377425620508   ...\\n-389.2392188929973   163664.33448450337   282101.46421213704   ...\\n3663.420424241832    137332.6002287866    227844.74847623782   ...\\n2427.9445402993865   147539.14109524497   215180.43637467187   ...\\n1250.9180336926045   100692.1639077291    159781.00968068923   ...\\n625.2186796100718    50549.222038990905   56526.81724324705    ...\\n630.4062051347779    33163.33004599949    34668.93256102578    ...\\n-460.616654726469    1062.9005739659606   1420.1859704992467   ...\\n1023.9360430202997   113487.61321758508   189696.8462012164    ...\\n1149.4502040902698   149920.1976159063    237910.7726801037    ...\\n1845.0111825035874   120879.71680711873   201115.0620304055    ...\\n423.9988024762921    98768.04238996118    146206.4910399078    ...\\n322.32058959131615   42401.45587803614    59762.77507563053    ...\\n97.62450387441842    19936.08676731465    24696.523786674425   ...\\n88.5459082169101     785.2337705057798    1121.2974344287816   ...\\n3678.223275176672    161659.82740742475   229616.31079771518   ...\\n2067.679925497881    223332.35001256154   341229.5845771472    ...\\n1092.930815602311    162875.04112258533   248843.5453635484    ...\\n2739.5890069791326   129105.42084695725   182831.0105508228    ...\\n769.3089255408701    59425.34365500505    65857.76238908204    ...\\n931.5197747596893    32674.60051110156    40499.41867869478    ...\\n-35.21871189748827   -172.63214966260313  764.4410973639306    ...\\n1534.5060128871119   155285.0724828765    246700.88356109825   ...\\n-1258.6280668906654  163740.69960204692   253870.41815437353   ...\\n946.7008943023906    139224.34850356227   207780.84509873705   ...\\n1445.0588280038032   121732.37580753275   169968.3632439263    ...\\n1212.9636694446654   60851.131052130804   74802.21548533233    ...\\n-18.360457274912864  -1674.0728466833796  -2717.9779217512537  ...|\n",
            "|[169.07774597271265,1525.1181024215957,1746.4025197969117,1553.1569754079521,1217.1859969494994,806.8227784626313,203.6502475919851,126.34749587346691,1948.7263116107058,1793.583011219991,1660.3502956478133,1342.4564885815173,831.3499404525605,271.6193560519003,177.53400472200747,1655.1679133323582,1863.9155993397546,1635.1305029146904,1276.717797371555,838.9312592716408,262.86387664277805,145.04811850985143,1702.5761162533167,1927.0234010990157,1644.5170807128977,1246.9789285639663,767.112210359165,216.55016610601533,176.00220429995193,1785.6223438707923,1735.11975303483,1589.508775412131,1352.9926767096383,911.467353377489,339.57043312927016,169.0488706880341,1530.012578090721,1747.5214684189632,1558.023463780531,1219.378606798855,804.830258456781,202.8976097448862,126.0166106015336,1946.839493533357,1781.69136666597,1661.1233154342783,1348.4010990159002,835.8849167380539,270.68654018929817,178.13819184722425,1649.7003614634043,1843.369465744552,1625.5768057499843,1273.5450993502016,835.0398445498422,261.8809782495142,145.19478280854975,1694.7670859363573,1923.111552203255,1654.1123984037106,1235.8808215457261,765.9867010718539,228.72320887570254,177.3261946052109,1791.1383276571737,1747.0631307327467,1600.3700612189464,1360.2229059150457,907.9963226844403,28.647185536762294]|54754.24039838773    10377.871054530613   10700.431807188212   ... (70 total)\\n10377.871054530613   3804522.4749780837   2136198.075212738    ...\\n10700.431807188212   2136198.075212738    4043821.7750873594   ...\\n6970.926190311661    1886642.5429618377   2136988.6942472737   ...\\n887.0355697823204    1753604.27311699     2037165.1527709153   ...\\n-14246.464721979451  1043026.569811428    1203639.9301764052   ...\\n1398.118581490362    358635.0906056181    297616.17853743426   ...\\n6.574663459912192    -412.1826794347099   -1243.2671801258086  ...\\n-4112.572994828799   190067.0795642308    297338.9655378465    ...\\n-768.2562396261371   154581.43485362013   248609.7218045774    ...\\n-4914.322923676976   148556.46047834118   237118.51631922403   ...\\n-2608.324775788456   120755.36156157003   181155.4905820497    ...\\n-599.029682380721    46915.84613697167    58140.810689228936   ...\\n-794.8465164511593   20622.49521718978    31289.035459051487   ...\\n-446.42192038550536  212.94118464534807   863.4950773914584    ...\\n1517.2064978686235   141022.80578905373   199818.906524094     ...\\n1954.6231598766565   157994.81735807325   242634.9019552189    ...\\n-1145.2369277981168  138864.39196490432   198797.76546376717   ...\\n249.9233943290282    82474.64629135157    126472.11035360018   ...\\n1763.541783168972    37860.47641204682    38305.73001588219    ...\\n960.9224110447379    15842.408013565922   22433.66312689828    ...\\n42.53701241146217    1647.9789496693656   754.5393952677615    ...\\n3940.104464416201    153400.0907628949    236712.3843760142    ...\\n4140.510309532039    190941.5208567586    307613.0746574009    ...\\n1543.2918334900482   140132.52541111305   203422.51370510596   ...\\n2028.7449574144848   103071.26122743596   164281.57107961047   ...\\n1215.9466677514781   44236.64194711665    56805.619664600315   ...\\n-65.32494448675324   29061.72740197838    34791.2232934951     ...\\n199.25523490524364   1856.7848256450088   1864.5629642958281   ...\\n880.628460718731     160770.21407202742   243299.94492478986   ...\\n1380.2832243153566   160543.4709909108    239630.06221052204   ...\\n-290.1721579847609   143817.70535816206   193326.75323210328   ...\\n-155.4660005022179   109669.95148231143   149049.3850856271    ...\\n938.5508969324147    47876.92404640606    49610.17196542465    ...\\n724.0331045804785    5144.77803695581     14638.336831778905   ...\\n-685.9997878822044   1186.5598975875366   1921.3433172352475   ...\\n280.6870248620866    75342.50644370893    133772.69190328434   ...\\n2902.800006602723    101246.43337790214   192240.99758490044   ...\\n4210.091278729499    83020.99120099854    150289.53108941054   ...\\n1683.9599821170186   65501.3374339251     101180.08306638058   ...\\n1674.555997749363    21802.392437769347   38885.84967031269    ...\\n-57.94047357682497   15722.291881927275   36655.40662644469    ...\\n-166.1825350086357   217.52022750414181   1069.1377425620508   ...\\n-389.2392188929973   163664.33448450337   282101.46421213704   ...\\n3663.420424241832    137332.6002287866    227844.74847623782   ...\\n2427.9445402993865   147539.14109524497   215180.43637467187   ...\\n1250.9180336926045   100692.1639077291    159781.00968068923   ...\\n625.2186796100718    50549.222038990905   56526.81724324705    ...\\n630.4062051347779    33163.33004599949    34668.93256102578    ...\\n-460.616654726469    1062.9005739659606   1420.1859704992467   ...\\n1023.9360430202997   113487.61321758508   189696.8462012164    ...\\n1149.4502040902698   149920.1976159063    237910.7726801037    ...\\n1845.0111825035874   120879.71680711873   201115.0620304055    ...\\n423.9988024762921    98768.04238996118    146206.4910399078    ...\\n322.32058959131615   42401.45587803614    59762.77507563053    ...\\n97.62450387441842    19936.08676731465    24696.523786674425   ...\\n88.5459082169101     785.2337705057798    1121.2974344287816   ...\\n3678.223275176672    161659.82740742475   229616.31079771518   ...\\n2067.679925497881    223332.35001256154   341229.5845771472    ...\\n1092.930815602311    162875.04112258533   248843.5453635484    ...\\n2739.5890069791326   129105.42084695725   182831.0105508228    ...\\n769.3089255408701    59425.34365500505    65857.76238908204    ...\\n931.5197747596893    32674.60051110156    40499.41867869478    ...\\n-35.21871189748827   -172.63214966260313  764.4410973639306    ...\\n1534.5060128871119   155285.0724828765    246700.88356109825   ...\\n-1258.6280668906654  163740.69960204692   253870.41815437353   ...\\n946.7008943023906    139224.34850356227   207780.84509873705   ...\\n1445.0588280038032   121732.37580753275   169968.3632439263    ...\\n1212.9636694446654   60851.131052130804   74802.21548533233    ...\\n-18.360457274912864  -1674.0728466833796  -2717.9779217512537  ...|\n",
            "+--------------------------------------------------------------------------------------------------------------------------------------------------------------------------------------------------------------------------------------------------------------------------------------------------------------------------------------------------------------------------------------------------------------------------------------------------------------------------------------------------------------------------------------------------------------------------------------------------------------------------------------------------------------------------------------------------------------------------------------------------------------------------------------------------------------------------------------------------------------------------------------------------------------------------------------------------------------------------------------------------------------------------------------------------------------------------------------------------------------------------------------------------------------------------------------------------------------------------------------------------------------------------------------------------------------------------------------------------+-----------------------------------------------------------------------------------------------------------------------------------------------------------------------------------------------------------------------------------------------------------------------------------------------------------------------------------------------------------------------------------------------------------------------------------------------------------------------------------------------------------------------------------------------------------------------------------------------------------------------------------------------------------------------------------------------------------------------------------------------------------------------------------------------------------------------------------------------------------------------------------------------------------------------------------------------------------------------------------------------------------------------------------------------------------------------------------------------------------------------------------------------------------------------------------------------------------------------------------------------------------------------------------------------------------------------------------------------------------------------------------------------------------------------------------------------------------------------------------------------------------------------------------------------------------------------------------------------------------------------------------------------------------------------------------------------------------------------------------------------------------------------------------------------------------------------------------------------------------------------------------------------------------------------------------------------------------------------------------------------------------------------------------------------------------------------------------------------------------------------------------------------------------------------------------------------------------------------------------------------------------------------------------------------------------------------------------------------------------------------------------------------------------------------------------------------------------------------------------------------------------------------------------------------------------------------------------------------------------------------------------------------------------------------------------------------------------------------------------------------------------------------------------------------------------------------------------------------------------------------------------------------------------------------------------------------------------------------------------------------------------------------------------------------------------------------------------------------------------------------------------------------------------------------------------------------------------------------------------------------------------------------------------------------------------------------------------------------------------------------------------------------------------------------------------------------------------------------------------------------------------------------------------------------------------------------------------------------------------------------------------------------------------------------------------------------------------------------------------------------------------------------------------------------------------------------------------------------------------------------------------------------------------------------------------------------------------------------------------------------------------------------------------------------------------------------------------------------------------------------------------------------------------------------------------------------------------------------------------------------------------------------------------------------------------------------------------------------------------------------------------------------------------------------------------------------------------------------------------------------------------------------------------------------------------------------------------------------------------------------------------------------------------------------------------------------------------------------------------------------------------------------------------------------------------------------------------------------------------------------------------------------------------------------------------------------------------------+\n",
            "\n"
          ]
        }
      ]
    },
    {
      "cell_type": "markdown",
      "source": [
        "## Clustering Items"
      ],
      "metadata": {
        "id": "EWe4ZfpfLM5Z"
      }
    },
    {
      "cell_type": "code",
      "source": [
        "List_Items = []\n",
        "for element in List:\n",
        "  if \"Item\" in element:\n",
        "    List_Items.append(element)"
      ],
      "metadata": {
        "id": "kfBBc_kNWyAP"
      },
      "execution_count": null,
      "outputs": []
    },
    {
      "cell_type": "code",
      "source": [
        "df_Items = df1.select(List_Items)"
      ],
      "metadata": {
        "id": "BqqbRChoWmW3"
      },
      "execution_count": null,
      "outputs": []
    },
    {
      "cell_type": "code",
      "source": [
        "df_Items.show(5)"
      ],
      "metadata": {
        "colab": {
          "base_uri": "https://localhost:8080/"
        },
        "id": "pnlnYFwwY5fx",
        "outputId": "04ff1720-48e0-4c1b-84ba-14cc79a4ab19"
      },
      "execution_count": null,
      "outputs": [
        {
          "output_type": "stream",
          "name": "stdout",
          "text": [
            "+---------------------+---------------------+---------------------+---------------------+---------------------+---------------------+---------------------+---------------------+---------------------+---------------------+---------------------+---------------------+---------------------+---------------------+---------------------+---------------------+---------------------+---------------------+---------------------+---------------------+---------------------+---------------------+---------------------+---------------------+---------------------+---------------------+---------------------+---------------------+---------------------+---------------------+---------------------+---------------------+---------------------+---------------------+---------------------+---------------------+---------------------+---------------------+---------------------+---------------------+---------------------+---------------------+---------------------+---------------------+---------------------+---------------------+---------------------+---------------------+---------------------+---------------------+---------------------+---------------------+---------------------+---------------------+---------------------+---------------------+---------------------+---------------------+---------------------+\n",
            "|Champion1_Item1_Team1|Champion1_Item2_Team1|Champion1_Item3_Team1|Champion1_Item4_Team1|Champion1_Item5_Team1|Champion1_Item6_Team1|Champion2_Item1_Team1|Champion2_Item2_Team1|Champion2_Item3_Team1|Champion2_Item4_Team1|Champion2_Item5_Team1|Champion2_Item6_Team1|Champion3_Item1_Team1|Champion3_Item2_Team1|Champion3_Item3_Team1|Champion3_Item4_Team1|Champion3_Item5_Team1|Champion3_Item6_Team1|Champion4_Item1_Team1|Champion4_Item2_Team1|Champion4_Item3_Team1|Champion4_Item4_Team1|Champion4_Item5_Team1|Champion4_Item6_Team1|Champion5_Item1_Team1|Champion5_Item2_Team1|Champion5_Item3_Team1|Champion5_Item4_Team1|Champion5_Item5_Team1|Champion5_Item6_Team1|Champion1_Item1_Team2|Champion1_Item2_Team2|Champion1_Item3_Team2|Champion1_Item4_Team2|Champion1_Item5_Team2|Champion1_Item6_Team2|Champion2_Item1_Team2|Champion2_Item2_Team2|Champion2_Item3_Team2|Champion2_Item4_Team2|Champion2_Item5_Team2|Champion2_Item6_Team2|Champion3_Item1_Team2|Champion3_Item2_Team2|Champion3_Item3_Team2|Champion3_Item4_Team2|Champion3_Item5_Team2|Champion3_Item6_Team2|Champion4_Item1_Team2|Champion4_Item2_Team2|Champion4_Item3_Team2|Champion4_Item4_Team2|Champion4_Item5_Team2|Champion4_Item6_Team2|Champion5_Item1_Team2|Champion5_Item2_Team2|Champion5_Item3_Team2|Champion5_Item4_Team2|Champion5_Item5_Team2|\n",
            "+---------------------+---------------------+---------------------+---------------------+---------------------+---------------------+---------------------+---------------------+---------------------+---------------------+---------------------+---------------------+---------------------+---------------------+---------------------+---------------------+---------------------+---------------------+---------------------+---------------------+---------------------+---------------------+---------------------+---------------------+---------------------+---------------------+---------------------+---------------------+---------------------+---------------------+---------------------+---------------------+---------------------+---------------------+---------------------+---------------------+---------------------+---------------------+---------------------+---------------------+---------------------+---------------------+---------------------+---------------------+---------------------+---------------------+---------------------+---------------------+---------------------+---------------------+---------------------+---------------------+---------------------+---------------------+---------------------+---------------------+---------------------+---------------------+---------------------+\n",
            "|                    0|                 3152|                 3089|                 3020|                 1026|                 4645|                  304|                  231|                  613|                  158|                    0|                    0|                  300|                  646|                  443|                  157|                  300|                    0|                 6671|                 3031|                    0|                 3094|                 6676|                 3006|                  385|                  731|                   93|                    1|                  300|                    0|                  308|                  230|                  743|                  193|                  300|                    0|                  303|                  135|                   81|                    1|                  600|                    0|                  304|                   31|                  573|                   82|                  200|                    0|                 3036|                    0|                 6673|                 3046|                 3006|                 3031|                  385|                  720|                  553|                  134|                    0|\n",
            "|                  102|                  631|                  523|                  157|                  300|                    0|                  633|                  366|                  923|                   47|                  600|                    0|                  308|                  430|                  683|                  110|                  300|                    0|                  303|                  166|                  713|                    6|                    0|                    0|                  315|                  866|                  533|                   40|                  300|                    0|                  308|                  230|                  476|                  333|                  600|                    0|                 3152|                 3115|                 3157|                 3020|                 3089|                    0|                  669|                  366|                  766|                  694|                    0|                    0|                  303|                  166|                  723|                    6|                    0|                    0|                  385|                  320|                  653|                  107|                  100|\n",
            "|                  105|                  666|                  553|                  135|                  300|                    0|                  663|                  220|                  316|                  333|                    0|                    0|                  304|                  230|                  746|                  655|                  400|                    0|                 3074|                 6694|                 3078|                 3158|                 3042|                    0|                  322|                  238|                  531|                   52|                    0|                    0|                  314|                  266|                  913|                   26|                    0|                    0|                 1037|                 3111|                 6632|                 3074|                 3044|                    0|                  102|                  631|                  574|                  630|                    0|                    0|                  303|                  530|                  721|                   18|                    0|                    0|                 4005|                 3042|                 3158|                 3864|                    0|\n",
            "|                 1056|                 6653|                 1082|                    0|                 3116|                 3020|                 3814|                 6693|                 3047|                 1036|                 1036|                    0|                 3068|                 3153|                 3006|                 1031|                    0|                    0|                 3153|                 2031|                 3006|                 3085|                 1082|                    0|                 3853|                 2065|                 3916|                    0|                 3158|                    0|                  667|                  310|                  381|                   37|                    0|                    0|                  669|                  220|                  316|                  333|                    0|                    0|                 3157|                 6655|                 3020|                 1082|                 1056|                    0|                 6671|                 1018|                 3006|                 1036|                 1036|                    0|                  315|                  839|                  163|                  860|                    0|\n",
            "|                 1056|                 6653|                 3020|                 4645|                 1026|                    0|                  314|                  266|                  913|                  153|                  300|                    0|                 6693|                 3067|                 3153|                 3133|                 1001|                    0|                 1055|                 6671|                 3006|                 3094|                 3031|                    0|                  385|                  332|                  222|                   31|                    0|                    0|                  310|                  531|                  176|                  664|                  300|                    0|                 3142|                 6692|                 3047|                 3035|                    0|                    0|                  306|                  830|                   92|                   33|                  300|                    0|                 3508|                 2031|                 6692|                 3006|                 1037|                    0|                  386|                   31|                  902|                   31|                    0|\n",
            "+---------------------+---------------------+---------------------+---------------------+---------------------+---------------------+---------------------+---------------------+---------------------+---------------------+---------------------+---------------------+---------------------+---------------------+---------------------+---------------------+---------------------+---------------------+---------------------+---------------------+---------------------+---------------------+---------------------+---------------------+---------------------+---------------------+---------------------+---------------------+---------------------+---------------------+---------------------+---------------------+---------------------+---------------------+---------------------+---------------------+---------------------+---------------------+---------------------+---------------------+---------------------+---------------------+---------------------+---------------------+---------------------+---------------------+---------------------+---------------------+---------------------+---------------------+---------------------+---------------------+---------------------+---------------------+---------------------+---------------------+---------------------+---------------------+---------------------+\n",
            "only showing top 5 rows\n",
            "\n"
          ]
        }
      ]
    },
    {
      "cell_type": "code",
      "source": [
        "vec_assembler_Cluster = VectorAssembler(inputCols=List_Items, outputCol=\"features\")"
      ],
      "metadata": {
        "id": "wqDviWmFZVQT"
      },
      "execution_count": null,
      "outputs": []
    },
    {
      "cell_type": "code",
      "source": [
        "final_pipe_Cluster = Pipeline(stages=[vec_assembler_Cluster])"
      ],
      "metadata": {
        "id": "_VV277Q9ZVT3"
      },
      "execution_count": null,
      "outputs": []
    },
    {
      "cell_type": "code",
      "source": [
        "piped_data_Cluster = final_pipe_Cluster.fit(df_Items).transform(df_Items)"
      ],
      "metadata": {
        "id": "9BYBiFNKZVXd"
      },
      "execution_count": null,
      "outputs": []
    },
    {
      "cell_type": "code",
      "source": [
        "kmeans = KMeans().setK(2).setSeed(1)\n",
        "model = kmeans.fit(piped_data_Cluster)"
      ],
      "metadata": {
        "id": "j6Cd_oU1ZH1h"
      },
      "execution_count": null,
      "outputs": []
    },
    {
      "cell_type": "code",
      "source": [
        "predictions = model.transform(piped_data_Cluster)\n",
        "\n",
        "# Evaluate clustering by computing Silhouette score\n",
        "evaluator = ClusteringEvaluator()\n",
        "\n",
        "silhouette = evaluator.evaluate(predictions)\n",
        "print(\"Silhouette with squared euclidean distance = \" + str(silhouette))\n",
        "\n",
        "# Shows the result.\n",
        "centers = model.clusterCenters()\n",
        "print(\"Cluster Centers: \")\n",
        "for center in centers:\n",
        "    print(center)"
      ],
      "metadata": {
        "colab": {
          "base_uri": "https://localhost:8080/"
        },
        "id": "4j9Bs3HSJ4oM",
        "outputId": "8e8004ed-b968-4ddd-b0fc-97c3af570236"
      },
      "execution_count": null,
      "outputs": [
        {
          "output_type": "stream",
          "name": "stdout",
          "text": [
            "Silhouette with squared euclidean distance = 0.13156102752406915\n",
            "Cluster Centers: \n",
            "[1876.65849482 2216.80709883 1941.24596108 1552.6320253   964.7109504\n",
            "  253.85451835 2676.21123242 2430.80973772 2237.63837073 1848.35876878\n",
            " 1089.20734459  363.19288103 2068.12356472 2362.47911043 2055.01547077\n",
            " 1617.84783047 1016.77686233  321.53827404 2351.02207808 2710.95799927\n",
            " 2249.46353894 1757.39238951 1021.16034809  295.95320495 2303.64918819\n",
            " 2267.64356795 2040.00429072 1759.77281334 1151.99842875  431.46442529\n",
            " 1891.70367834 2218.64789896 1953.72636074 1549.69521776  962.06337376\n",
            "  254.67295838 2670.39563273 2408.05739092 2247.64987309 1858.24324161\n",
            " 1096.31263849  364.7942871  2085.99764312 2348.03217034 2057.81797671\n",
            " 1623.64606583 1025.12300068  319.96184682 2336.46970307 2703.15406309\n",
            " 2260.60863785 1736.16826478 1021.56665727  319.18848959 2329.65841425\n",
            " 2306.93702913 2077.58492809 1786.28655171 1154.84122316]\n",
            "[1146.40351562 1239.63550347 1135.06857639  855.80987413  636.72979601\n",
            "  149.56516927 1165.00655382 1107.0984375  1038.43765191  797.44778646\n",
            "  553.56006944  172.9671658  1210.2906467  1326.81295573 1182.78828125\n",
            "  909.21829427  647.33812934  199.65392795 1004.00505642 1082.49038628\n",
            "  992.80805122  697.11032986  493.42606337  131.00924479 1227.55184462\n",
            " 1161.43166233 1104.18980035  914.76829427  652.34314236  240.57300347\n",
            " 1140.36263021 1239.97680122 1131.73259549  863.52840712  635.44296875\n",
            "  147.12000868 1167.35221354 1106.90703125 1029.25805122  799.14798177\n",
            "  555.32604167  169.30423177 1179.67714844 1299.69615885 1159.92324219\n",
            "  896.3812066   630.26319444  199.31043837 1003.46063368 1082.77148438\n",
            " 1000.73378906  696.92098524  490.65032552  131.26493056 1210.99045139\n",
            " 1143.91078559 1086.26631944  901.22439236  642.07022569]\n"
          ]
        }
      ]
    },
    {
      "cell_type": "code",
      "source": [
        "ks = [3,7,10]\n",
        "silhouette_score = []\n",
        "\n",
        "for k_num in ks:\n",
        "    # build kmeans model with k as no of cluster\n",
        "    print(\"K :  \",k_num)\n",
        "    model_k = KMeans(k=k_num , seed=1)\n",
        "\n",
        "    # train the model\n",
        "    model = model_k.fit(piped_data_Cluster.select('features'))\n",
        "    final_output  = model.transform(piped_data_Cluster)\n",
        "    # Append costfunction to list of costfunction\n",
        "    silhouette_score.append(evaluator.evaluate(final_output))"
      ],
      "metadata": {
        "colab": {
          "base_uri": "https://localhost:8080/"
        },
        "id": "7hmd4g26YkEX",
        "outputId": "fdba9f1b-4c37-4c2a-b88d-bce47f664f51"
      },
      "execution_count": null,
      "outputs": [
        {
          "output_type": "stream",
          "name": "stdout",
          "text": [
            "K :   3\n",
            "K :   7\n",
            "K :   10\n"
          ]
        }
      ]
    },
    {
      "cell_type": "code",
      "source": [
        "# Plot k vs cost_function\n",
        "plt.plot(ks, silhouette_score, '-o')\n",
        "plt.xlabel('number of clusters, k')\n",
        "plt.ylabel('silhouette score')\n",
        "plt.xticks(ks)\n",
        "plt.show()"
      ],
      "metadata": {
        "colab": {
          "base_uri": "https://localhost:8080/",
          "height": 54
        },
        "id": "8XffPDMiJ4oM",
        "outputId": "68917273-3d92-4c3d-9bfb-60d4fc71180e"
      },
      "execution_count": null,
      "outputs": [
        {
          "output_type": "display_data",
          "data": {
            "text/plain": [
              "<Figure size 432x288 with 1 Axes>"
            ],
            "image/png": "[encoded data removed]"
          },
          "metadata": {
            "needs_background": "light"
          }
        }
      ]
    }
  ]
}